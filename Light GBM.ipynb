{
 "cells": [
  {
   "cell_type": "code",
   "execution_count": 16,
   "metadata": {
    "ExecuteTime": {
     "end_time": "2020-09-28T13:54:10.804336Z",
     "start_time": "2020-09-28T13:54:09.930791Z"
    }
   },
   "outputs": [],
   "source": [
    "%reload_ext autoreload\n",
    "%autoreload 2\n",
    "%matplotlib inline"
   ]
  },
  {
   "cell_type": "code",
   "execution_count": 17,
   "metadata": {
    "ExecuteTime": {
     "end_time": "2020-09-28T13:54:12.130565Z",
     "start_time": "2020-09-28T13:54:11.238027Z"
    }
   },
   "outputs": [],
   "source": [
    "\n",
    "import lightgbm as lgb\n",
    "from matplotlib import pyplot as plt\n",
    "from matplotlib import rcParams\n",
    "import numpy as np\n",
    "from pathlib import Path\n",
    "import pandas as pd\n",
    "from sklearn.metrics import accuracy_score\n",
    "from sklearn.model_selection import train_test_split\n",
    "import seaborn as sns\n",
    "import warnings"
   ]
  },
  {
   "cell_type": "code",
   "execution_count": 18,
   "metadata": {
    "ExecuteTime": {
     "end_time": "2020-09-28T13:54:13.500527Z",
     "start_time": "2020-09-28T13:54:12.552036Z"
    }
   },
   "outputs": [],
   "source": [
    "rcParams['figure.figsize'] = (16, 8)\n",
    "plt.style.use('fivethirtyeight')\n",
    "pd.set_option('max_columns', 100)\n",
    "pd.set_option(\"display.precision\", 4)\n",
    "warnings.simplefilter('ignore')"
   ]
  },
  {
   "cell_type": "code",
   "execution_count": 19,
   "metadata": {
    "ExecuteTime": {
     "end_time": "2020-09-28T13:54:14.898953Z",
     "start_time": "2020-09-28T13:54:14.017440Z"
    }
   },
   "outputs": [],
   "source": [
    "data_dir = Path('../input/')\n",
    "feature_dir = Path('../feature/')\n",
    "sub_dir = Path('../submission/')\n",
    "\n",
    "trn_file = data_dir / 'train.csv'\n",
    "tst_file = data_dir / 'test.csv'\n",
    "sample_file = sub_dir / 'sample_submission.csv'\n",
    "\n",
    "target_col = 'class'\n",
    "seed = 42"
   ]
  },
  {
   "cell_type": "code",
   "execution_count": 20,
   "metadata": {
    "ExecuteTime": {
     "end_time": "2020-09-28T13:54:17.153352Z",
     "start_time": "2020-09-28T13:54:16.077942Z"
    }
   },
   "outputs": [],
   "source": [
    "algo_name = 'lgb'\n",
    "feature_name = 'feature'\n",
    "model_name = f'{algo_name}_{feature_name}'\n",
    "\n",
    "feature_file = feature_dir / f'{feature_name}.csv'\n",
    "sub_file = sub_dir / f'{model_name}.csv'"
   ]
  },
  {
   "cell_type": "code",
   "execution_count": 21,
   "metadata": {
    "ExecuteTime": {
     "end_time": "2020-09-28T13:54:21.868309Z",
     "start_time": "2020-09-28T13:54:17.740674Z"
    }
   },
   "outputs": [
    {
     "name": "stdout",
     "output_type": "stream",
     "text": [
      "(400000, 20)\n"
     ]
    },
    {
     "data": {
      "text/html": [
       "<div>\n",
       "<style scoped>\n",
       "    .dataframe tbody tr th:only-of-type {\n",
       "        vertical-align: middle;\n",
       "    }\n",
       "\n",
       "    .dataframe tbody tr th {\n",
       "        vertical-align: top;\n",
       "    }\n",
       "\n",
       "    .dataframe thead th {\n",
       "        text-align: right;\n",
       "    }\n",
       "</style>\n",
       "<table border=\"1\" class=\"dataframe\">\n",
       "  <thead>\n",
       "    <tr style=\"text-align: right;\">\n",
       "      <th></th>\n",
       "      <th>u</th>\n",
       "      <th>g</th>\n",
       "      <th>r</th>\n",
       "      <th>i</th>\n",
       "      <th>z</th>\n",
       "      <th>redshift</th>\n",
       "      <th>dered_z</th>\n",
       "      <th>nObserve</th>\n",
       "      <th>airmass_u</th>\n",
       "      <th>class</th>\n",
       "      <th>d_dered_u</th>\n",
       "      <th>d_dered_g</th>\n",
       "      <th>d_dered_r</th>\n",
       "      <th>d_dered_i</th>\n",
       "      <th>d_dered_z</th>\n",
       "      <th>d_dered_ig</th>\n",
       "      <th>d_dered_zg</th>\n",
       "      <th>d_dered_rz</th>\n",
       "      <th>d_dered_iz</th>\n",
       "      <th>d_obs_det</th>\n",
       "    </tr>\n",
       "    <tr>\n",
       "      <th>id</th>\n",
       "      <th></th>\n",
       "      <th></th>\n",
       "      <th></th>\n",
       "      <th></th>\n",
       "      <th></th>\n",
       "      <th></th>\n",
       "      <th></th>\n",
       "      <th></th>\n",
       "      <th></th>\n",
       "      <th></th>\n",
       "      <th></th>\n",
       "      <th></th>\n",
       "      <th></th>\n",
       "      <th></th>\n",
       "      <th></th>\n",
       "      <th></th>\n",
       "      <th></th>\n",
       "      <th></th>\n",
       "      <th></th>\n",
       "      <th></th>\n",
       "    </tr>\n",
       "  </thead>\n",
       "  <tbody>\n",
       "    <tr>\n",
       "      <th>0</th>\n",
       "      <td>23.2640</td>\n",
       "      <td>20.3368</td>\n",
       "      <td>19.0095</td>\n",
       "      <td>17.6724</td>\n",
       "      <td>16.9396</td>\n",
       "      <td>-8.1086e-05</td>\n",
       "      <td>16.9089</td>\n",
       "      <td>2.9444</td>\n",
       "      <td>1.1898</td>\n",
       "      <td>0.0</td>\n",
       "      <td>-0.1397</td>\n",
       "      <td>-0.0790</td>\n",
       "      <td>-0.0544</td>\n",
       "      <td>-0.0403</td>\n",
       "      <td>-0.0307</td>\n",
       "      <td>-2.6257</td>\n",
       "      <td>-3.3488</td>\n",
       "      <td>2.0462</td>\n",
       "      <td>0.7232</td>\n",
       "      <td>0.0000</td>\n",
       "    </tr>\n",
       "    <tr>\n",
       "      <th>1</th>\n",
       "      <td>15.0521</td>\n",
       "      <td>14.0620</td>\n",
       "      <td>13.4524</td>\n",
       "      <td>13.2684</td>\n",
       "      <td>13.1689</td>\n",
       "      <td>4.5061e-03</td>\n",
       "      <td>13.1347</td>\n",
       "      <td>0.6931</td>\n",
       "      <td>1.2533</td>\n",
       "      <td>1.0</td>\n",
       "      <td>-0.0857</td>\n",
       "      <td>-0.0574</td>\n",
       "      <td>-0.0410</td>\n",
       "      <td>-0.0322</td>\n",
       "      <td>-0.0343</td>\n",
       "      <td>-0.7683</td>\n",
       "      <td>-0.8698</td>\n",
       "      <td>0.2767</td>\n",
       "      <td>0.1016</td>\n",
       "      <td>0.0000</td>\n",
       "    </tr>\n",
       "    <tr>\n",
       "      <th>2</th>\n",
       "      <td>16.7864</td>\n",
       "      <td>15.8254</td>\n",
       "      <td>15.5363</td>\n",
       "      <td>15.3935</td>\n",
       "      <td>15.3500</td>\n",
       "      <td>4.7198e-04</td>\n",
       "      <td>15.2961</td>\n",
       "      <td>1.0986</td>\n",
       "      <td>1.0225</td>\n",
       "      <td>0.0</td>\n",
       "      <td>-0.1787</td>\n",
       "      <td>-0.1388</td>\n",
       "      <td>-0.0963</td>\n",
       "      <td>-0.0718</td>\n",
       "      <td>-0.0540</td>\n",
       "      <td>-0.3649</td>\n",
       "      <td>-0.3905</td>\n",
       "      <td>0.1440</td>\n",
       "      <td>0.0257</td>\n",
       "      <td>0.0000</td>\n",
       "    </tr>\n",
       "    <tr>\n",
       "      <th>3</th>\n",
       "      <td>25.6606</td>\n",
       "      <td>21.1887</td>\n",
       "      <td>20.2212</td>\n",
       "      <td>19.8949</td>\n",
       "      <td>19.6346</td>\n",
       "      <td>5.8143e-06</td>\n",
       "      <td>19.5552</td>\n",
       "      <td>1.6094</td>\n",
       "      <td>1.2054</td>\n",
       "      <td>0.0</td>\n",
       "      <td>-0.3070</td>\n",
       "      <td>-0.1941</td>\n",
       "      <td>-0.1339</td>\n",
       "      <td>-0.1003</td>\n",
       "      <td>-0.0795</td>\n",
       "      <td>-1.2000</td>\n",
       "      <td>-1.4395</td>\n",
       "      <td>0.5321</td>\n",
       "      <td>0.2395</td>\n",
       "      <td>0.2231</td>\n",
       "    </tr>\n",
       "    <tr>\n",
       "      <th>4</th>\n",
       "      <td>24.4534</td>\n",
       "      <td>20.6992</td>\n",
       "      <td>19.0424</td>\n",
       "      <td>18.3242</td>\n",
       "      <td>17.9826</td>\n",
       "      <td>-3.3247e-05</td>\n",
       "      <td>17.8759</td>\n",
       "      <td>2.6391</td>\n",
       "      <td>1.1939</td>\n",
       "      <td>0.0</td>\n",
       "      <td>-0.6820</td>\n",
       "      <td>-0.2653</td>\n",
       "      <td>-0.1794</td>\n",
       "      <td>-0.1339</td>\n",
       "      <td>-0.1067</td>\n",
       "      <td>-2.2436</td>\n",
       "      <td>-2.5579</td>\n",
       "      <td>0.9871</td>\n",
       "      <td>0.3144</td>\n",
       "      <td>0.0741</td>\n",
       "    </tr>\n",
       "  </tbody>\n",
       "</table>\n",
       "</div>"
      ],
      "text/plain": [
       "          u        g        r        i        z    redshift  dered_z  \\\n",
       "id                                                                     \n",
       "0   23.2640  20.3368  19.0095  17.6724  16.9396 -8.1086e-05  16.9089   \n",
       "1   15.0521  14.0620  13.4524  13.2684  13.1689  4.5061e-03  13.1347   \n",
       "2   16.7864  15.8254  15.5363  15.3935  15.3500  4.7198e-04  15.2961   \n",
       "3   25.6606  21.1887  20.2212  19.8949  19.6346  5.8143e-06  19.5552   \n",
       "4   24.4534  20.6992  19.0424  18.3242  17.9826 -3.3247e-05  17.8759   \n",
       "\n",
       "    nObserve  airmass_u  class  d_dered_u  d_dered_g  d_dered_r  d_dered_i  \\\n",
       "id                                                                           \n",
       "0     2.9444     1.1898    0.0    -0.1397    -0.0790    -0.0544    -0.0403   \n",
       "1     0.6931     1.2533    1.0    -0.0857    -0.0574    -0.0410    -0.0322   \n",
       "2     1.0986     1.0225    0.0    -0.1787    -0.1388    -0.0963    -0.0718   \n",
       "3     1.6094     1.2054    0.0    -0.3070    -0.1941    -0.1339    -0.1003   \n",
       "4     2.6391     1.1939    0.0    -0.6820    -0.2653    -0.1794    -0.1339   \n",
       "\n",
       "    d_dered_z  d_dered_ig  d_dered_zg  d_dered_rz  d_dered_iz  d_obs_det  \n",
       "id                                                                        \n",
       "0     -0.0307     -2.6257     -3.3488      2.0462      0.7232     0.0000  \n",
       "1     -0.0343     -0.7683     -0.8698      0.2767      0.1016     0.0000  \n",
       "2     -0.0540     -0.3649     -0.3905      0.1440      0.0257     0.0000  \n",
       "3     -0.0795     -1.2000     -1.4395      0.5321      0.2395     0.2231  \n",
       "4     -0.1067     -2.2436     -2.5579      0.9871      0.3144     0.0741  "
      ]
     },
     "execution_count": 21,
     "metadata": {},
     "output_type": "execute_result"
    }
   ],
   "source": [
    "df = pd.read_csv(feature_file, index_col=0)\n",
    "print(df.shape)\n",
    "df.head()"
   ]
  },
  {
   "cell_type": "code",
   "execution_count": 22,
   "metadata": {
    "ExecuteTime": {
     "end_time": "2020-09-28T13:54:23.760014Z",
     "start_time": "2020-09-28T13:54:22.723607Z"
    }
   },
   "outputs": [
    {
     "name": "stdout",
     "output_type": "stream",
     "text": [
      "(320000,) (320000, 19) (80000, 19)\n"
     ]
    }
   ],
   "source": [
    "y = df[target_col].values[:320000]\n",
    "df.drop(target_col, axis=1, inplace=True)\n",
    "trn = df.iloc[:320000]\n",
    "tst = df.iloc[320000:]\n",
    "feature_name = df.columns.tolist()\n",
    "print(y.shape, trn.shape, tst.shape)"
   ]
  },
  {
   "cell_type": "code",
   "execution_count": 23,
   "metadata": {
    "ExecuteTime": {
     "end_time": "2020-09-28T13:54:26.810173Z",
     "start_time": "2020-09-28T13:54:25.709804Z"
    }
   },
   "outputs": [
    {
     "name": "stdout",
     "output_type": "stream",
     "text": [
      "(256000, 19) (64000, 19) (256000,) (64000,)\n"
     ]
    }
   ],
   "source": [
    "\n",
    "X_trn, X_val, y_trn, y_val = train_test_split(trn, y, test_size=.2, random_state=seed)\n",
    "print(X_trn.shape, X_val.shape, y_trn.shape, y_val.shape)"
   ]
  },
  {
   "cell_type": "code",
   "execution_count": 25,
   "metadata": {
    "ExecuteTime": {
     "end_time": "2020-09-28T13:55:28.257092Z",
     "start_time": "2020-09-28T13:55:10.038518Z"
    }
   },
   "outputs": [
    {
     "name": "stdout",
     "output_type": "stream",
     "text": [
      "[1]\tvalid_0's multi_logloss: 0.871311\n",
      "Training until validation scores don't improve for 10 rounds\n",
      "[2]\tvalid_0's multi_logloss: 0.763774\n",
      "[3]\tvalid_0's multi_logloss: 0.684413\n",
      "[4]\tvalid_0's multi_logloss: 0.612971\n",
      "[5]\tvalid_0's multi_logloss: 0.563635\n",
      "[6]\tvalid_0's multi_logloss: 0.512739\n",
      "[7]\tvalid_0's multi_logloss: 0.476116\n",
      "[8]\tvalid_0's multi_logloss: 0.441592\n",
      "[9]\tvalid_0's multi_logloss: 0.41412\n",
      "[10]\tvalid_0's multi_logloss: 0.385429\n",
      "[11]\tvalid_0's multi_logloss: 0.363962\n",
      "[12]\tvalid_0's multi_logloss: 0.345442\n",
      "[13]\tvalid_0's multi_logloss: 0.330359\n",
      "[14]\tvalid_0's multi_logloss: 0.312887\n",
      "[15]\tvalid_0's multi_logloss: 0.298481\n",
      "[16]\tvalid_0's multi_logloss: 0.287736\n",
      "[17]\tvalid_0's multi_logloss: 0.276407\n",
      "[18]\tvalid_0's multi_logloss: 0.265588\n",
      "[19]\tvalid_0's multi_logloss: 0.256906\n",
      "[20]\tvalid_0's multi_logloss: 0.248264\n",
      "[21]\tvalid_0's multi_logloss: 0.240813\n",
      "[22]\tvalid_0's multi_logloss: 0.235525\n",
      "[23]\tvalid_0's multi_logloss: 0.228916\n",
      "[24]\tvalid_0's multi_logloss: 0.223362\n",
      "[25]\tvalid_0's multi_logloss: 0.218473\n",
      "[26]\tvalid_0's multi_logloss: 0.214015\n",
      "[27]\tvalid_0's multi_logloss: 0.20997\n",
      "[28]\tvalid_0's multi_logloss: 0.206121\n",
      "[29]\tvalid_0's multi_logloss: 0.20285\n",
      "[30]\tvalid_0's multi_logloss: 0.19981\n",
      "[31]\tvalid_0's multi_logloss: 0.197067\n",
      "[32]\tvalid_0's multi_logloss: 0.195121\n",
      "[33]\tvalid_0's multi_logloss: 0.192868\n",
      "[34]\tvalid_0's multi_logloss: 0.190896\n",
      "[35]\tvalid_0's multi_logloss: 0.189554\n",
      "[36]\tvalid_0's multi_logloss: 0.187913\n",
      "[37]\tvalid_0's multi_logloss: 0.186417\n",
      "[38]\tvalid_0's multi_logloss: 0.185287\n",
      "[39]\tvalid_0's multi_logloss: 0.183883\n",
      "[40]\tvalid_0's multi_logloss: 0.182496\n",
      "[41]\tvalid_0's multi_logloss: 0.181762\n",
      "[42]\tvalid_0's multi_logloss: 0.180636\n",
      "[43]\tvalid_0's multi_logloss: 0.179701\n",
      "[44]\tvalid_0's multi_logloss: 0.178718\n",
      "[45]\tvalid_0's multi_logloss: 0.177779\n",
      "[46]\tvalid_0's multi_logloss: 0.176907\n",
      "[47]\tvalid_0's multi_logloss: 0.17633\n",
      "[48]\tvalid_0's multi_logloss: 0.175676\n",
      "[49]\tvalid_0's multi_logloss: 0.175006\n",
      "[50]\tvalid_0's multi_logloss: 0.174475\n",
      "[51]\tvalid_0's multi_logloss: 0.173935\n",
      "[52]\tvalid_0's multi_logloss: 0.173457\n",
      "[53]\tvalid_0's multi_logloss: 0.172995\n",
      "[54]\tvalid_0's multi_logloss: 0.172559\n",
      "[55]\tvalid_0's multi_logloss: 0.172293\n",
      "[56]\tvalid_0's multi_logloss: 0.17194\n",
      "[57]\tvalid_0's multi_logloss: 0.171578\n",
      "[58]\tvalid_0's multi_logloss: 0.171234\n",
      "[59]\tvalid_0's multi_logloss: 0.171028\n",
      "[60]\tvalid_0's multi_logloss: 0.170629\n",
      "[61]\tvalid_0's multi_logloss: 0.170425\n",
      "[62]\tvalid_0's multi_logloss: 0.170178\n",
      "[63]\tvalid_0's multi_logloss: 0.169925\n",
      "[64]\tvalid_0's multi_logloss: 0.169587\n",
      "[65]\tvalid_0's multi_logloss: 0.16937\n",
      "[66]\tvalid_0's multi_logloss: 0.169187\n",
      "[67]\tvalid_0's multi_logloss: 0.168986\n",
      "[68]\tvalid_0's multi_logloss: 0.168703\n",
      "[69]\tvalid_0's multi_logloss: 0.168572\n",
      "[70]\tvalid_0's multi_logloss: 0.168452\n",
      "[71]\tvalid_0's multi_logloss: 0.168318\n",
      "[72]\tvalid_0's multi_logloss: 0.168441\n",
      "[73]\tvalid_0's multi_logloss: 0.168078\n",
      "[74]\tvalid_0's multi_logloss: 0.167847\n",
      "[75]\tvalid_0's multi_logloss: 0.167781\n",
      "[76]\tvalid_0's multi_logloss: 0.167654\n",
      "[77]\tvalid_0's multi_logloss: 0.16747\n",
      "[78]\tvalid_0's multi_logloss: 0.167344\n",
      "[79]\tvalid_0's multi_logloss: 0.167283\n",
      "[80]\tvalid_0's multi_logloss: 0.167165\n",
      "[81]\tvalid_0's multi_logloss: 0.16706\n",
      "[82]\tvalid_0's multi_logloss: 0.166959\n",
      "[83]\tvalid_0's multi_logloss: 0.166824\n",
      "[84]\tvalid_0's multi_logloss: 0.166722\n",
      "[85]\tvalid_0's multi_logloss: 0.166624\n",
      "[86]\tvalid_0's multi_logloss: 0.166613\n",
      "[87]\tvalid_0's multi_logloss: 0.166528\n",
      "[88]\tvalid_0's multi_logloss: 0.166445\n",
      "[89]\tvalid_0's multi_logloss: 0.166367\n",
      "[90]\tvalid_0's multi_logloss: 0.166286\n",
      "[91]\tvalid_0's multi_logloss: 0.166242\n",
      "[92]\tvalid_0's multi_logloss: 0.166198\n",
      "[93]\tvalid_0's multi_logloss: 0.166781\n",
      "[94]\tvalid_0's multi_logloss: 0.166112\n",
      "[95]\tvalid_0's multi_logloss: 0.167022\n",
      "[96]\tvalid_0's multi_logloss: 0.168512\n",
      "[97]\tvalid_0's multi_logloss: 0.168368\n",
      "[98]\tvalid_0's multi_logloss: 0.171629\n",
      "[99]\tvalid_0's multi_logloss: 0.171778\n",
      "[100]\tvalid_0's multi_logloss: 0.171538\n",
      "[101]\tvalid_0's multi_logloss: 0.170859\n",
      "[102]\tvalid_0's multi_logloss: 0.170486\n",
      "[103]\tvalid_0's multi_logloss: 0.170325\n",
      "[104]\tvalid_0's multi_logloss: 0.171203\n",
      "Early stopping, best iteration is:\n",
      "[94]\tvalid_0's multi_logloss: 0.166112\n"
     ]
    }
   ],
   "source": [
    "clf = lgb.LGBMClassifier(objective='multiclass',\n",
    "                         n_estimators=1000,\n",
    "                         num_leaves=64,\n",
    "                         learning_rate=0.1,\n",
    "                         min_child_samples=10,\n",
    "                         subsample=.5,\n",
    "                         subsample_freq=1,\n",
    "                         colsample_bytree=.8,\n",
    "                         random_state=seed,\n",
    "                         n_jobs=-1)\n",
    "clf.fit(X_trn, y_trn,\n",
    "        eval_set=[(X_val, y_val)],\n",
    "        eval_metric='multiclass',\n",
    "        early_stopping_rounds=10)\n",
    "p_val = clf.predict(X_val)\n",
    "p_tst = clf.predict(tst)"
   ]
  },
  {
   "cell_type": "code",
   "execution_count": 26,
   "metadata": {
    "ExecuteTime": {
     "end_time": "2020-09-28T13:55:33.390557Z",
     "start_time": "2020-09-28T13:55:32.541041Z"
    }
   },
   "outputs": [
    {
     "name": "stdout",
     "output_type": "stream",
     "text": [
      "93.0562%\n"
     ]
    }
   ],
   "source": [
    "print(f'{accuracy_score(y_val, p_val) * 100:.4f}%')"
   ]
  },
  {
   "cell_type": "code",
   "execution_count": 27,
   "metadata": {
    "ExecuteTime": {
     "end_time": "2020-09-28T13:55:43.759959Z",
     "start_time": "2020-09-28T13:55:42.575636Z"
    }
   },
   "outputs": [
    {
     "data": {
      "text/plain": [
       "<AxesSubplot:ylabel='feature'>"
      ]
     },
     "execution_count": 27,
     "metadata": {},
     "output_type": "execute_result"
    },
    {
     "data": {
      "image/png": "[encoded data removed]",
      "text/plain": [
       "<Figure size 1152x576 with 1 Axes>"
      ]
     },
     "metadata": {},
     "output_type": "display_data"
    }
   ],
   "source": [
    "\n",
    "imp = pd.DataFrame({'feature': trn.columns, 'importance': clf.feature_importances_})\n",
    "imp = imp.sort_values('importance').set_index('feature')\n",
    "imp.plot(kind='barh')"
   ]
  },
  {
   "cell_type": "code",
   "execution_count": 28,
   "metadata": {
    "ExecuteTime": {
     "end_time": "2020-09-28T13:55:51.988715Z",
     "start_time": "2020-09-28T13:55:50.977297Z"
    }
   },
   "outputs": [
    {
     "name": "stdout",
     "output_type": "stream",
     "text": [
      "(80000, 1)\n"
     ]
    },
    {
     "data": {
      "text/html": [
       "<div>\n",
       "<style scoped>\n",
       "    .dataframe tbody tr th:only-of-type {\n",
       "        vertical-align: middle;\n",
       "    }\n",
       "\n",
       "    .dataframe tbody tr th {\n",
       "        vertical-align: top;\n",
       "    }\n",
       "\n",
       "    .dataframe thead th {\n",
       "        text-align: right;\n",
       "    }\n",
       "</style>\n",
       "<table border=\"1\" class=\"dataframe\">\n",
       "  <thead>\n",
       "    <tr style=\"text-align: right;\">\n",
       "      <th></th>\n",
       "      <th>class</th>\n",
       "    </tr>\n",
       "    <tr>\n",
       "      <th>id</th>\n",
       "      <th></th>\n",
       "    </tr>\n",
       "  </thead>\n",
       "  <tbody>\n",
       "    <tr>\n",
       "      <th>320000</th>\n",
       "      <td>0</td>\n",
       "    </tr>\n",
       "    <tr>\n",
       "      <th>320001</th>\n",
       "      <td>0</td>\n",
       "    </tr>\n",
       "    <tr>\n",
       "      <th>320002</th>\n",
       "      <td>0</td>\n",
       "    </tr>\n",
       "    <tr>\n",
       "      <th>320003</th>\n",
       "      <td>0</td>\n",
       "    </tr>\n",
       "    <tr>\n",
       "      <th>320004</th>\n",
       "      <td>0</td>\n",
       "    </tr>\n",
       "  </tbody>\n",
       "</table>\n",
       "</div>"
      ],
      "text/plain": [
       "        class\n",
       "id           \n",
       "320000      0\n",
       "320001      0\n",
       "320002      0\n",
       "320003      0\n",
       "320004      0"
      ]
     },
     "execution_count": 28,
     "metadata": {},
     "output_type": "execute_result"
    }
   ],
   "source": [
    "sub = pd.read_csv(sample_file, index_col=0)\n",
    "print(sub.shape)\n",
    "sub.head()"
   ]
  },
  {
   "cell_type": "code",
   "execution_count": 29,
   "metadata": {
    "ExecuteTime": {
     "end_time": "2020-09-28T13:55:53.510937Z",
     "start_time": "2020-09-28T13:55:52.726372Z"
    }
   },
   "outputs": [
    {
     "data": {
      "text/html": [
       "<div>\n",
       "<style scoped>\n",
       "    .dataframe tbody tr th:only-of-type {\n",
       "        vertical-align: middle;\n",
       "    }\n",
       "\n",
       "    .dataframe tbody tr th {\n",
       "        vertical-align: top;\n",
       "    }\n",
       "\n",
       "    .dataframe thead th {\n",
       "        text-align: right;\n",
       "    }\n",
       "</style>\n",
       "<table border=\"1\" class=\"dataframe\">\n",
       "  <thead>\n",
       "    <tr style=\"text-align: right;\">\n",
       "      <th></th>\n",
       "      <th>class</th>\n",
       "    </tr>\n",
       "    <tr>\n",
       "      <th>id</th>\n",
       "      <th></th>\n",
       "    </tr>\n",
       "  </thead>\n",
       "  <tbody>\n",
       "    <tr>\n",
       "      <th>320000</th>\n",
       "      <td>2.0</td>\n",
       "    </tr>\n",
       "    <tr>\n",
       "      <th>320001</th>\n",
       "      <td>0.0</td>\n",
       "    </tr>\n",
       "    <tr>\n",
       "      <th>320002</th>\n",
       "      <td>2.0</td>\n",
       "    </tr>\n",
       "    <tr>\n",
       "      <th>320003</th>\n",
       "      <td>0.0</td>\n",
       "    </tr>\n",
       "    <tr>\n",
       "      <th>320004</th>\n",
       "      <td>2.0</td>\n",
       "    </tr>\n",
       "  </tbody>\n",
       "</table>\n",
       "</div>"
      ],
      "text/plain": [
       "        class\n",
       "id           \n",
       "320000    2.0\n",
       "320001    0.0\n",
       "320002    2.0\n",
       "320003    0.0\n",
       "320004    2.0"
      ]
     },
     "execution_count": 29,
     "metadata": {},
     "output_type": "execute_result"
    }
   ],
   "source": [
    "sub[target_col] = p_tst\n",
    "sub.head()"
   ]
  },
  {
   "cell_type": "code",
   "execution_count": 30,
   "metadata": {
    "ExecuteTime": {
     "end_time": "2020-09-28T13:55:55.618708Z",
     "start_time": "2020-09-28T13:55:54.776193Z"
    }
   },
   "outputs": [
    {
     "data": {
      "text/plain": [
       "2.0    41111\n",
       "0.0    29984\n",
       "1.0     8905\n",
       "Name: class, dtype: int64"
      ]
     },
     "execution_count": 30,
     "metadata": {},
     "output_type": "execute_result"
    }
   ],
   "source": [
    "sub[target_col].value_counts()"
   ]
  },
  {
   "cell_type": "code",
   "execution_count": 31,
   "metadata": {
    "ExecuteTime": {
     "end_time": "2020-09-28T13:55:59.105111Z",
     "start_time": "2020-09-28T13:55:57.682924Z"
    }
   },
   "outputs": [],
   "source": [
    "sub.to_csv(sub_file)"
   ]
  },
  {
   "cell_type": "code",
   "execution_count": null,
   "metadata": {},
   "outputs": [],
   "source": []
  }
 ],
 "metadata": {
  "kernelspec": {
   "display_name": "Python 3",
   "language": "python",
   "name": "python3"
  },
  "language_info": {
   "codemirror_mode": {
    "name": "ipython",
    "version": 3
   },
   "file_extension": ".py",
   "mimetype": "text/x-python",
   "name": "python",
   "nbconvert_exporter": "python",
   "pygments_lexer": "ipython3",
   "version": "3.7.9"
  }
 },
 "nbformat": 4,
 "nbformat_minor": 4
}
