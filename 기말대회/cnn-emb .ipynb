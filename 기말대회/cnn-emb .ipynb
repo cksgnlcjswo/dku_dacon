{
  "nbformat": 4,
  "nbformat_minor": 0,
  "metadata": {
    "colab": {
      "name": "cnn-emb.ipynb",
      "provenance": [],
      "collapsed_sections": []
    },
    "kernelspec": {
      "name": "python3",
      "display_name": "Python 3"
    },
    "accelerator": "GPU"
  },
  "cells": [
    {
      "cell_type": "code",
      "metadata": {
        "id": "fTbCBmuqMG7J"
      },
      "source": [
        "%reload_ext autoreload\n",
        "%autoreload 2\n",
        "%matplotlib inline"
      ],
      "execution_count": null,
      "outputs": []
    },
    {
      "cell_type": "code",
      "metadata": {
        "id": "3b2LpgLPMQET"
      },
      "source": [
        "from matplotlib import rcParams, pyplot as plt\n",
        "import numpy as np\n",
        "import os\n",
        "import pandas as pd\n",
        "from pathlib import Path\n",
        "import re\n",
        "from sklearn.metrics import accuracy_score, log_loss\n",
        "from sklearn.model_selection import StratifiedKFold\n",
        "import tensorflow as tf\n",
        "from tensorflow.keras import Sequential\n",
        "from tensorflow.keras.layers import Dense, Embedding, LSTM, GlobalMaxPooling1D, Conv1D, Dropout, Bidirectional\n",
        "from tensorflow.keras.preprocessing.sequence import pad_sequences\n",
        "from tensorflow.keras.preprocessing.text import Tokenizer\n",
        "from tensorflow.keras.callbacks import EarlyStopping, ReduceLROnPlateau\n",
        "from tensorflow.keras.utils import plot_model, to_categorical\n",
        "from tensorflow.keras.optimizers import Adam\n",
        "import warnings \n",
        "warnings.filterwarnings(action='ignore')"
      ],
      "execution_count": 16,
      "outputs": []
    },
    {
      "cell_type": "code",
      "metadata": {
        "colab": {
          "base_uri": "https://localhost:8080/"
        },
        "id": "5HiKxe5qMauM",
        "outputId": "4fdaf52f-3dae-453f-cf9d-f0c45f925249"
      },
      "source": [
        "gpus = tf.config.experimental.list_physical_devices('GPU')\n",
        "if gpus:\n",
        "    # Restrict TensorFlow to only use the first GPU\n",
        "    try:\n",
        "        tf.config.experimental.set_visible_devices(gpus[0], 'GPU')\n",
        "        logical_gpus = tf.config.experimental.list_logical_devices('GPU')\n",
        "        print(len(gpus), \"Physical GPUs,\", len(logical_gpus), \"Logical GPU\")\n",
        "    except RuntimeError as e:\n",
        "        # Visible devices must be set before GPUs have been initialized\n",
        "        print(e)\n",
        "else:\n",
        "    print('No GPU detected')\n"
      ],
      "execution_count": 17,
      "outputs": [
        {
          "output_type": "stream",
          "text": [
            "1 Physical GPUs, 1 Logical GPU\n"
          ],
          "name": "stdout"
        }
      ]
    },
    {
      "cell_type": "code",
      "metadata": {
        "id": "OaSKGWcLMbK1"
      },
      "source": [
        "rcParams['figure.figsize'] = (16, 8)\n",
        "plt.style.use('fivethirtyeight')\n",
        "pd.set_option('max_columns', 100)\n",
        "pd.set_option(\"display.precision\", 4)\n",
        "warnings.simplefilter('ignore')"
      ],
      "execution_count": 18,
      "outputs": []
    },
    {
      "cell_type": "code",
      "metadata": {
        "id": "0ahUSLlvMbVN"
      },
      "source": [
        "data_dir = Path('/content/drive/MyDrive/dacon/input')\n",
        "feature_dir = Path('../build/feature')\n",
        "val_dir = Path('/content/drive/MyDrive/dacon/build/val')\n",
        "tst_dir = Path('/content/drive/MyDrive/dacon/build/tst')\n",
        "sub_dir = Path('/content/drive/MyDrive/dacon/build/sub')\n",
        "\n",
        "trn_file = data_dir / 'train.csv'\n",
        "tst_file = data_dir / 'test_x.csv'\n",
        "sample_file = data_dir / 'sample_submission.csv'\n",
        "\n",
        "target_col = 'author'\n",
        "n_fold = 5\n",
        "n_class = 5\n",
        "seed = 42"
      ],
      "execution_count": 19,
      "outputs": []
    },
    {
      "cell_type": "code",
      "metadata": {
        "id": "srh_K431Mbck"
      },
      "source": [
        "algo_name = 'cnn'\n",
        "feature_name = 'emb'\n",
        "model_name = f'{algo_name}_{feature_name}'\n",
        "\n",
        "feature_file = feature_dir / f'{feature_name}.csv'\n",
        "p_val_file = val_dir / f'{model_name}.val.csv'\n",
        "p_tst_file = tst_dir / f'{model_name}.tst.csv'\n",
        "sub_file = sub_dir / f'{model_name}.csv'"
      ],
      "execution_count": 20,
      "outputs": []
    },
    {
      "cell_type": "code",
      "metadata": {
        "colab": {
          "base_uri": "https://localhost:8080/",
          "height": 235
        },
        "id": "aZQsfKEYMbjN",
        "outputId": "85d9f0cb-4b35-4690-88fd-aa81dc79c517"
      },
      "source": [
        "train = pd.read_csv(trn_file, index_col=0)\n",
        "train.head()"
      ],
      "execution_count": 48,
      "outputs": [
        {
          "output_type": "execute_result",
          "data": {
            "text/html": [
              "<div>\n",
              "<style scoped>\n",
              "    .dataframe tbody tr th:only-of-type {\n",
              "        vertical-align: middle;\n",
              "    }\n",
              "\n",
              "    .dataframe tbody tr th {\n",
              "        vertical-align: top;\n",
              "    }\n",
              "\n",
              "    .dataframe thead th {\n",
              "        text-align: right;\n",
              "    }\n",
              "</style>\n",
              "<table border=\"1\" class=\"dataframe\">\n",
              "  <thead>\n",
              "    <tr style=\"text-align: right;\">\n",
              "      <th></th>\n",
              "      <th>text</th>\n",
              "      <th>author</th>\n",
              "    </tr>\n",
              "    <tr>\n",
              "      <th>index</th>\n",
              "      <th></th>\n",
              "      <th></th>\n",
              "    </tr>\n",
              "  </thead>\n",
              "  <tbody>\n",
              "    <tr>\n",
              "      <th>0</th>\n",
              "      <td>He was almost choking. There was so much, so m...</td>\n",
              "      <td>3</td>\n",
              "    </tr>\n",
              "    <tr>\n",
              "      <th>1</th>\n",
              "      <td>“Your sister asked for it, I suppose?”</td>\n",
              "      <td>2</td>\n",
              "    </tr>\n",
              "    <tr>\n",
              "      <th>2</th>\n",
              "      <td>She was engaged one day as she walked, in per...</td>\n",
              "      <td>1</td>\n",
              "    </tr>\n",
              "    <tr>\n",
              "      <th>3</th>\n",
              "      <td>The captain was in the porch, keeping himself ...</td>\n",
              "      <td>4</td>\n",
              "    </tr>\n",
              "    <tr>\n",
              "      <th>4</th>\n",
              "      <td>“Have mercy, gentlemen!” odin flung up his han...</td>\n",
              "      <td>3</td>\n",
              "    </tr>\n",
              "  </tbody>\n",
              "</table>\n",
              "</div>"
            ],
            "text/plain": [
              "                                                    text  author\n",
              "index                                                           \n",
              "0      He was almost choking. There was so much, so m...       3\n",
              "1                 “Your sister asked for it, I suppose?”       2\n",
              "2       She was engaged one day as she walked, in per...       1\n",
              "3      The captain was in the porch, keeping himself ...       4\n",
              "4      “Have mercy, gentlemen!” odin flung up his han...       3"
            ]
          },
          "metadata": {
            "tags": []
          },
          "execution_count": 48
        }
      ]
    },
    {
      "cell_type": "code",
      "metadata": {
        "colab": {
          "base_uri": "https://localhost:8080/",
          "height": 235
        },
        "id": "SLWpuaSGMbpz",
        "outputId": "6c74ec83-eea4-4ad6-e05c-25b4cd8e9f10"
      },
      "source": [
        "test = pd.read_csv(tst_file, index_col=0)\n",
        "test.head()"
      ],
      "execution_count": 49,
      "outputs": [
        {
          "output_type": "execute_result",
          "data": {
            "text/html": [
              "<div>\n",
              "<style scoped>\n",
              "    .dataframe tbody tr th:only-of-type {\n",
              "        vertical-align: middle;\n",
              "    }\n",
              "\n",
              "    .dataframe tbody tr th {\n",
              "        vertical-align: top;\n",
              "    }\n",
              "\n",
              "    .dataframe thead th {\n",
              "        text-align: right;\n",
              "    }\n",
              "</style>\n",
              "<table border=\"1\" class=\"dataframe\">\n",
              "  <thead>\n",
              "    <tr style=\"text-align: right;\">\n",
              "      <th></th>\n",
              "      <th>text</th>\n",
              "    </tr>\n",
              "    <tr>\n",
              "      <th>index</th>\n",
              "      <th></th>\n",
              "    </tr>\n",
              "  </thead>\n",
              "  <tbody>\n",
              "    <tr>\n",
              "      <th>0</th>\n",
              "      <td>“Not at all. I think she is one of the most ch...</td>\n",
              "    </tr>\n",
              "    <tr>\n",
              "      <th>1</th>\n",
              "      <td>\"No,\" replied he, with sudden consciousness, \"...</td>\n",
              "    </tr>\n",
              "    <tr>\n",
              "      <th>2</th>\n",
              "      <td>As the lady had stated her intention of scream...</td>\n",
              "    </tr>\n",
              "    <tr>\n",
              "      <th>3</th>\n",
              "      <td>“And then suddenly in the silence I heard a so...</td>\n",
              "    </tr>\n",
              "    <tr>\n",
              "      <th>4</th>\n",
              "      <td>His conviction remained unchanged. So far as I...</td>\n",
              "    </tr>\n",
              "  </tbody>\n",
              "</table>\n",
              "</div>"
            ],
            "text/plain": [
              "                                                    text\n",
              "index                                                   \n",
              "0      “Not at all. I think she is one of the most ch...\n",
              "1      \"No,\" replied he, with sudden consciousness, \"...\n",
              "2      As the lady had stated her intention of scream...\n",
              "3      “And then suddenly in the silence I heard a so...\n",
              "4      His conviction remained unchanged. So far as I..."
            ]
          },
          "metadata": {
            "tags": []
          },
          "execution_count": 49
        }
      ]
    },
    {
      "cell_type": "code",
      "metadata": {
        "colab": {
          "base_uri": "https://localhost:8080/",
          "height": 452
        },
        "id": "q7OQVki9-9TH",
        "outputId": "504d84f5-717e-4b20-a602-c30f7dcd9211"
      },
      "source": [
        "train[train['text'].str.contains(\"}\")]"
      ],
      "execution_count": 23,
      "outputs": [
        {
          "output_type": "execute_result",
          "data": {
            "text/html": [
              "<div>\n",
              "<style scoped>\n",
              "    .dataframe tbody tr th:only-of-type {\n",
              "        vertical-align: middle;\n",
              "    }\n",
              "\n",
              "    .dataframe tbody tr th {\n",
              "        vertical-align: top;\n",
              "    }\n",
              "\n",
              "    .dataframe thead th {\n",
              "        text-align: right;\n",
              "    }\n",
              "</style>\n",
              "<table border=\"1\" class=\"dataframe\">\n",
              "  <thead>\n",
              "    <tr style=\"text-align: right;\">\n",
              "      <th></th>\n",
              "      <th>text</th>\n",
              "      <th>author</th>\n",
              "    </tr>\n",
              "    <tr>\n",
              "      <th>index</th>\n",
              "      <th></th>\n",
              "      <th></th>\n",
              "    </tr>\n",
              "  </thead>\n",
              "  <tbody>\n",
              "    <tr>\n",
              "      <th>5856</th>\n",
              "      <td>This was on the second day of our flight, afte...</td>\n",
              "      <td>4</td>\n",
              "    </tr>\n",
              "    <tr>\n",
              "      <th>9983</th>\n",
              "      <td>But my uncle was not to be turned from his ide...</td>\n",
              "      <td>4</td>\n",
              "    </tr>\n",
              "    <tr>\n",
              "      <th>13245</th>\n",
              "      <td>“I would be very sweir {11} to return,” says m...</td>\n",
              "      <td>4</td>\n",
              "    </tr>\n",
              "    <tr>\n",
              "      <th>16206</th>\n",
              "      <td>At this I leaped from my place, went over to h...</td>\n",
              "      <td>4</td>\n",
              "    </tr>\n",
              "    <tr>\n",
              "      <th>17336</th>\n",
              "      <td>Even Professors might be misled by the desire...</td>\n",
              "      <td>2</td>\n",
              "    </tr>\n",
              "    <tr>\n",
              "      <th>18304</th>\n",
              "      <td>“Do you know how much?” I said. “Do you know h...</td>\n",
              "      <td>4</td>\n",
              "    </tr>\n",
              "    <tr>\n",
              "      <th>19917</th>\n",
              "      <td>{4} But as for Grady, he began early to lamen...</td>\n",
              "      <td>4</td>\n",
              "    </tr>\n",
              "    <tr>\n",
              "      <th>22686</th>\n",
              "      <td>Onyway it behoved him to get an auld, decent w...</td>\n",
              "      <td>4</td>\n",
              "    </tr>\n",
              "    <tr>\n",
              "      <th>23042</th>\n",
              "      <td>The cipaye led me forward accordingly to a pla...</td>\n",
              "      <td>4</td>\n",
              "    </tr>\n",
              "    <tr>\n",
              "      <th>42580</th>\n",
              "      <td>“He’s not of this world,” whispered my lord, “...</td>\n",
              "      <td>4</td>\n",
              "    </tr>\n",
              "    <tr>\n",
              "      <th>45954</th>\n",
              "      <td>\"I gave you fifty lances, {3} sir,\" he said.</td>\n",
              "      <td>4</td>\n",
              "    </tr>\n",
              "    <tr>\n",
              "      <th>51627</th>\n",
              "      <td>It is a strange thing that I should be at a s...</td>\n",
              "      <td>4</td>\n",
              "    </tr>\n",
              "  </tbody>\n",
              "</table>\n",
              "</div>"
            ],
            "text/plain": [
              "                                                    text  author\n",
              "index                                                           \n",
              "5856   This was on the second day of our flight, afte...       4\n",
              "9983   But my uncle was not to be turned from his ide...       4\n",
              "13245  “I would be very sweir {11} to return,” says m...       4\n",
              "16206  At this I leaped from my place, went over to h...       4\n",
              "17336   Even Professors might be misled by the desire...       2\n",
              "18304  “Do you know how much?” I said. “Do you know h...       4\n",
              "19917   {4} But as for Grady, he began early to lamen...       4\n",
              "22686  Onyway it behoved him to get an auld, decent w...       4\n",
              "23042  The cipaye led me forward accordingly to a pla...       4\n",
              "42580  “He’s not of this world,” whispered my lord, “...       4\n",
              "45954       \"I gave you fifty lances, {3} sir,\" he said.       4\n",
              "51627   It is a strange thing that I should be at a s...       4"
            ]
          },
          "metadata": {
            "tags": []
          },
          "execution_count": 23
        }
      ]
    },
    {
      "cell_type": "code",
      "metadata": {
        "id": "-Ez6Q6-_h36l"
      },
      "source": [
        "train['text'] = train['text'].str.replace('\\?',' quesmark ')\n",
        "train['text'] = train['text'].str.replace('\\!',' exclmark ')\n",
        "train['text'] = train['text'].str.replace('\\&',' empent ')\n",
        "train['text'] = train['text'].str.replace(\"\\*\",' chstar ')\n",
        "train['text'] = train['text'].str.replace(\";\",' smcolons  ')\n",
        "\n",
        "test['text'] = test['text'].str.replace('\\?',' quesmark ')\n",
        "test['text'] = test['text'].str.replace('\\!',' exclmark ')\n",
        "test['text'] = test['text'].str.replace('\\&',' empent ')\n",
        "test['text'] = test['text'].str.replace(\"\\*\",' chstar ')\n",
        "test['text'] = test['text'].str.replace(\";\",' smcolons  ')"
      ],
      "execution_count": 50,
      "outputs": []
    },
    {
      "cell_type": "code",
      "metadata": {
        "id": "ucknbDiMMcFX"
      },
      "source": [
        "train['text']=train['text'].str.replace('\\'s', '')\n",
        "train['text']=train['text'].str.replace('’s', '')\n",
        "train['text']=train['text'].str.replace('\\'ll', '')\n",
        "train['text']=train['text'].str.replace('’ll', '')\n",
        "train['text']=train['text'].str.replace(\"\\'\", '')\n",
        "train['text']=train['text'].str.replace(\"’\", '')\n",
        "\n",
        "test['text']=test['text'].str.replace(\"’s\",'')\n",
        "test['text']=test['text'].str.replace(\"\\'s\",'')\n",
        "test['text']=test['text'].str.replace('\\'ll', '')\n",
        "test['text']=test['text'].str.replace('’ll', '')\n",
        "test['text']=test['text'].str.replace(\"\\'\", '')\n",
        "test['text']=test['text'].str.replace(\"’\", '')\n"
      ],
      "execution_count": 51,
      "outputs": []
    },
    {
      "cell_type": "code",
      "metadata": {
        "id": "RGcv3tL2McMq"
      },
      "source": [
        "train['text']=train['text'].str.replace('á', ' Ascenda ')\n",
        "train['text']=train['text'].str.replace('à', ' Descenda ')\n",
        "train['text']=train['text'].str.replace('â', ' Stremama ')\n",
        "train['text']=train['text'].str.replace('ä', ' Doublea ')\n",
        "train['text']=train['text'].str.replace('é', ' Ascende ')\n",
        "train['text']=train['text'].str.replace('í', ' Justi ')\n",
        "train['text']=train['text'].str.replace('ï', ' Doublei ')\n",
        "train['text']=train['text'].str.replace('ó', ' Comao ')\n",
        "train['text']=train['text'].str.replace('ú', ' Ascendu ')\n",
        "train['text']=train['text'].str.replace('ý', ' Ascendy ')\n",
        "train['text']=train['text'].str.replace('ü', ' Umlaut ')\n",
        "train['text']=train['text'].str.replace('è', ' Descende ')\n",
        "train['text']=train['text'].str.replace('£', ' Maludf ')\n",
        "\n",
        "test['text']=test['text'].str.replace('ä', ' Doublea ')\n",
        "test['text']=test['text'].str.replace('â', ' Stremama ')\n",
        "test['text']=test['text'].str.replace('à', ' Descenda ')\n",
        "test['text']=test['text'].str.replace('á', ' Ascenda ')\n",
        "test['text']=test['text'].str.replace('é', ' Ascende ')\n",
        "test['text']=test['text'].str.replace('ï', ' Doublei ')\n",
        "test['text']=test['text'].str.replace('í', ' Justi ')\n",
        "test['text']=test['text'].str.replace('ó', ' Comao  ')\n",
        "test['text']=test['text'].str.replace('ú', ' Ascendu ')\n",
        "test['text']=test['text'].str.replace('ý', ' Ascendy ')\n",
        "test['text']=test['text'].str.replace('ü', ' Umalut ')\n",
        "test['text']=test['text'].str.replace('è', ' Descende ')\n",
        "test['text']=test['text'].str.replace('£', ' Maludf ')"
      ],
      "execution_count": 52,
      "outputs": []
    },
    {
      "cell_type": "code",
      "metadata": {
        "id": "RfqsEPDRrQL3"
      },
      "source": [
        "train['text']=train['text'].str.replace('\\(', ' \\( ')\n",
        "train['text']=train['text'].str.replace('\\{', ' \\{ ')\n",
        "train['text']=train['text'].str.replace('\\[', ' \\[ ')\n",
        "train['text']=train['text'].str.replace('\\)', ' \\) ')\n",
        "train['text']=train['text'].str.replace('\\}', ' \\} ')\n",
        "train['text']=train['text'].str.replace('\\]', ' \\] ')\n",
        "train['text']=train['text'].str.replace('—', '')\n",
        "train['text']=train['text'].str.replace('_', '')\n",
        "train['text']=train['text'].str.replace(':', '')\n",
        "\n",
        "test['text']=test['text'].str.replace('\\(', ' \\( ')\n",
        "test['text']=test['text'].str.replace('\\{', ' \\{ ')\n",
        "test['text']=test['text'].str.replace('\\[', ' \\[ ')\n",
        "test['text']=test['text'].str.replace('\\)', ' \\) ')\n",
        "test['text']=test['text'].str.replace('\\}', ' \\} ')\n",
        "test['text']=test['text'].str.replace('\\]', ' \\] ')\n",
        "test['text']=test['text'].str.replace('—', '')\n",
        "test['text']=test['text'].str.replace('_', '')\n",
        "test['text']=test['text'].str.replace(':', '')"
      ],
      "execution_count": 53,
      "outputs": []
    },
    {
      "cell_type": "code",
      "metadata": {
        "colab": {
          "base_uri": "https://localhost:8080/",
          "height": 1000
        },
        "id": "PN7ee_Xy_oXQ",
        "outputId": "737566f0-80f7-4cd7-f5c3-28f2b225d25e"
      },
      "source": [
        "train[train['text'].str.contains(']')]"
      ],
      "execution_count": 54,
      "outputs": [
        {
          "output_type": "execute_result",
          "data": {
            "text/html": [
              "<div>\n",
              "<style scoped>\n",
              "    .dataframe tbody tr th:only-of-type {\n",
              "        vertical-align: middle;\n",
              "    }\n",
              "\n",
              "    .dataframe tbody tr th {\n",
              "        vertical-align: top;\n",
              "    }\n",
              "\n",
              "    .dataframe thead th {\n",
              "        text-align: right;\n",
              "    }\n",
              "</style>\n",
              "<table border=\"1\" class=\"dataframe\">\n",
              "  <thead>\n",
              "    <tr style=\"text-align: right;\">\n",
              "      <th></th>\n",
              "      <th>text</th>\n",
              "      <th>author</th>\n",
              "    </tr>\n",
              "    <tr>\n",
              "      <th>index</th>\n",
              "      <th></th>\n",
              "      <th></th>\n",
              "    </tr>\n",
              "  </thead>\n",
              "  <tbody>\n",
              "    <tr>\n",
              "      <th>375</th>\n",
              "      <td>The Light upon the Moor  \\[ Second Report of D...</td>\n",
              "      <td>2</td>\n",
              "    </tr>\n",
              "    <tr>\n",
              "      <th>2599</th>\n",
              "      <td>“Mr. odin exclmark ” cried odin, seeming glad ...</td>\n",
              "      <td>3</td>\n",
              "    </tr>\n",
              "    <tr>\n",
              "      <th>3763</th>\n",
              "      <td>“At first he only talked about it in tavernshe...</td>\n",
              "      <td>3</td>\n",
              "    </tr>\n",
              "    <tr>\n",
              "      <th>4010</th>\n",
              "      <td>“Do you consider, Doctor, that there is immedi...</td>\n",
              "      <td>1</td>\n",
              "    </tr>\n",
              "    <tr>\n",
              "      <th>4341</th>\n",
              "      <td>\\[  chstar  \\]  Dostoevsky appears to have f...</td>\n",
              "      <td>3</td>\n",
              "    </tr>\n",
              "    <tr>\n",
              "      <th>6721</th>\n",
              "      <td>“That was how Enoch odin came to his end. All ...</td>\n",
              "      <td>1</td>\n",
              "    </tr>\n",
              "    <tr>\n",
              "      <th>7257</th>\n",
              "      <td>odin and odin exchanged glances as if they tho...</td>\n",
              "      <td>1</td>\n",
              "    </tr>\n",
              "    <tr>\n",
              "      <th>7307</th>\n",
              "      <td>Half an hour after this conversation, she went...</td>\n",
              "      <td>3</td>\n",
              "    </tr>\n",
              "    <tr>\n",
              "      <th>7436</th>\n",
              "      <td>\\[  chstar  \\]  The emancipation of the serf...</td>\n",
              "      <td>3</td>\n",
              "    </tr>\n",
              "    <tr>\n",
              "      <th>12353</th>\n",
              "      <td>Although the presiding Genii in such an office...</td>\n",
              "      <td>0</td>\n",
              "    </tr>\n",
              "    <tr>\n",
              "      <th>14985</th>\n",
              "      <td>“I hardly expected you would. You must keep on...</td>\n",
              "      <td>1</td>\n",
              "    </tr>\n",
              "    <tr>\n",
              "      <th>15523</th>\n",
              "      <td>As he spoke he turned the contents of the wine...</td>\n",
              "      <td>1</td>\n",
              "    </tr>\n",
              "    <tr>\n",
              "      <th>16839</th>\n",
              "      <td>“Podkoleosin”  \\[ A character in Gogol comedy,...</td>\n",
              "      <td>3</td>\n",
              "    </tr>\n",
              "    <tr>\n",
              "      <th>22071</th>\n",
              "      <td>\\[ The notes of this paradoxalist do not end...</td>\n",
              "      <td>3</td>\n",
              "    </tr>\n",
              "    <tr>\n",
              "      <th>22127</th>\n",
              "      <td>It was the beginning of June, and for a whole ...</td>\n",
              "      <td>3</td>\n",
              "    </tr>\n",
              "    <tr>\n",
              "      <th>23551</th>\n",
              "      <td>“Give me food,” the other said, hoarsely. “I h...</td>\n",
              "      <td>1</td>\n",
              "    </tr>\n",
              "    <tr>\n",
              "      <th>30339</th>\n",
              "      <td>“Looking for lodgings.”  \\[ 3 \\]  I answered. ...</td>\n",
              "      <td>1</td>\n",
              "    </tr>\n",
              "    <tr>\n",
              "      <th>30416</th>\n",
              "      <td>“Kiss it and make it well,” she said, with per...</td>\n",
              "      <td>1</td>\n",
              "    </tr>\n",
              "    <tr>\n",
              "      <th>31411</th>\n",
              "      <td>\\[ At this point in the first and second edit...</td>\n",
              "      <td>1</td>\n",
              "    </tr>\n",
              "    <tr>\n",
              "      <th>32250</th>\n",
              "      <td>“What answer had your lecturer in Moscow to ma...</td>\n",
              "      <td>3</td>\n",
              "    </tr>\n",
              "    <tr>\n",
              "      <th>32883</th>\n",
              "      <td>odin FERRIER, FORMERLY OF SALT LAKE CITY,  \\[...</td>\n",
              "      <td>1</td>\n",
              "    </tr>\n",
              "    <tr>\n",
              "      <th>35541</th>\n",
              "      <td>“Dont imagine that I intended to kill him in c...</td>\n",
              "      <td>1</td>\n",
              "    </tr>\n",
              "    <tr>\n",
              "      <th>36102</th>\n",
              "      <td>\\[  chstar  \\]  A religious sect.--TRANSLATO...</td>\n",
              "      <td>3</td>\n",
              "    </tr>\n",
              "    <tr>\n",
              "      <th>37117</th>\n",
              "      <td>“‘At eight oclock, she said, gulping in her th...</td>\n",
              "      <td>1</td>\n",
              "    </tr>\n",
              "    <tr>\n",
              "      <th>40374</th>\n",
              "      <td>“ \\[ This from Hugo odin to his sons Rodger a...</td>\n",
              "      <td>2</td>\n",
              "    </tr>\n",
              "    <tr>\n",
              "      <th>40541</th>\n",
              "      <td>“DEAR MR. odin  \\[ he says \\]</td>\n",
              "      <td>2</td>\n",
              "    </tr>\n",
              "    <tr>\n",
              "      <th>48849</th>\n",
              "      <td>OUR morning exertions had been too much for m...</td>\n",
              "      <td>1</td>\n",
              "    </tr>\n",
              "    <tr>\n",
              "      <th>48926</th>\n",
              "      <td>“DEAR INSPECTOR odin  \\[ said the letter which...</td>\n",
              "      <td>2</td>\n",
              "    </tr>\n",
              "    <tr>\n",
              "      <th>49107</th>\n",
              "      <td>“Were all ready,” said several of his friends....</td>\n",
              "      <td>3</td>\n",
              "    </tr>\n",
              "    <tr>\n",
              "      <th>50626</th>\n",
              "      <td>\\[ End volume one of this edition. Printed b...</td>\n",
              "      <td>1</td>\n",
              "    </tr>\n",
              "    <tr>\n",
              "      <th>50962</th>\n",
              "      <td>\\[ At this point in the first and second edit...</td>\n",
              "      <td>1</td>\n",
              "    </tr>\n",
              "    <tr>\n",
              "      <th>52964</th>\n",
              "      <td>“Commonplace,” said odin, though I thought fro...</td>\n",
              "      <td>1</td>\n",
              "    </tr>\n",
              "  </tbody>\n",
              "</table>\n",
              "</div>"
            ],
            "text/plain": [
              "                                                    text  author\n",
              "index                                                           \n",
              "375    The Light upon the Moor  \\[ Second Report of D...       2\n",
              "2599   “Mr. odin exclmark ” cried odin, seeming glad ...       3\n",
              "3763   “At first he only talked about it in tavernshe...       3\n",
              "4010   “Do you consider, Doctor, that there is immedi...       1\n",
              "4341     \\[  chstar  \\]  Dostoevsky appears to have f...       3\n",
              "6721   “That was how Enoch odin came to his end. All ...       1\n",
              "7257   odin and odin exchanged glances as if they tho...       1\n",
              "7307   Half an hour after this conversation, she went...       3\n",
              "7436     \\[  chstar  \\]  The emancipation of the serf...       3\n",
              "12353  Although the presiding Genii in such an office...       0\n",
              "14985  “I hardly expected you would. You must keep on...       1\n",
              "15523  As he spoke he turned the contents of the wine...       1\n",
              "16839  “Podkoleosin”  \\[ A character in Gogol comedy,...       3\n",
              "22071    \\[ The notes of this paradoxalist do not end...       3\n",
              "22127  It was the beginning of June, and for a whole ...       3\n",
              "23551  “Give me food,” the other said, hoarsely. “I h...       1\n",
              "30339  “Looking for lodgings.”  \\[ 3 \\]  I answered. ...       1\n",
              "30416  “Kiss it and make it well,” she said, with per...       1\n",
              "31411   \\[ At this point in the first and second edit...       1\n",
              "32250  “What answer had your lecturer in Moscow to ma...       3\n",
              "32883   odin FERRIER, FORMERLY OF SALT LAKE CITY,  \\[...       1\n",
              "35541  “Dont imagine that I intended to kill him in c...       1\n",
              "36102    \\[  chstar  \\]  A religious sect.--TRANSLATO...       3\n",
              "37117  “‘At eight oclock, she said, gulping in her th...       1\n",
              "40374   “ \\[ This from Hugo odin to his sons Rodger a...       2\n",
              "40541                     “DEAR MR. odin  \\[ he says \\]        2\n",
              "48849   OUR morning exertions had been too much for m...       1\n",
              "48926  “DEAR INSPECTOR odin  \\[ said the letter which...       2\n",
              "49107  “Were all ready,” said several of his friends....       3\n",
              "50626    \\[ End volume one of this edition. Printed b...       1\n",
              "50962   \\[ At this point in the first and second edit...       1\n",
              "52964  “Commonplace,” said odin, though I thought fro...       1"
            ]
          },
          "metadata": {
            "tags": []
          },
          "execution_count": 54
        }
      ]
    },
    {
      "cell_type": "code",
      "metadata": {
        "colab": {
          "base_uri": "https://localhost:8080/"
        },
        "id": "dYYg27gLOGXS",
        "outputId": "1a08fc54-f50f-4ab4-c0a4-1017738f108b"
      },
      "source": [
        "import nltk\n",
        "nltk.download('wordnet')\n",
        "nltk.download('stopwords')\n",
        "nltk.download('punkt')\n"
      ],
      "execution_count": 55,
      "outputs": [
        {
          "output_type": "stream",
          "text": [
            "[nltk_data] Downloading package wordnet to /root/nltk_data...\n",
            "[nltk_data]   Package wordnet is already up-to-date!\n",
            "[nltk_data] Downloading package stopwords to /root/nltk_data...\n",
            "[nltk_data]   Package stopwords is already up-to-date!\n",
            "[nltk_data] Downloading package punkt to /root/nltk_data...\n",
            "[nltk_data]   Package punkt is already up-to-date!\n"
          ],
          "name": "stdout"
        },
        {
          "output_type": "execute_result",
          "data": {
            "text/plain": [
              "True"
            ]
          },
          "metadata": {
            "tags": []
          },
          "execution_count": 55
        }
      ]
    },
    {
      "cell_type": "code",
      "metadata": {
        "id": "ubdXmdYFOGlS"
      },
      "source": [
        "from nltk.stem.wordnet import WordNetLemmatizer \n",
        "from nltk.tokenize import TweetTokenizer\n",
        "\n",
        "def lemma_text(text):\n",
        "    tokenizer=TweetTokenizer()\n",
        "    words=tokenizer.tokenize(text)\n",
        "    lem = WordNetLemmatizer()\n",
        "    words=[lem.lemmatize(word, \"v\") for word in words]\n",
        "    \n",
        "    clean_sent=\" \".join(words)\n",
        "    \n",
        "    return clean_sent\n",
        "\n",
        "train['text'] = train['text'].str.lower().apply(lemma_text)\n",
        "test['text'] = test['text'].str.lower().apply(lemma_text)"
      ],
      "execution_count": 56,
      "outputs": []
    },
    {
      "cell_type": "code",
      "metadata": {
        "colab": {
          "base_uri": "https://localhost:8080/",
          "height": 80
        },
        "id": "dS4dFec94tI9",
        "outputId": "da199037-6e6e-4241-cb8a-3bbba2e349e1"
      },
      "source": [
        "train[train['text'].str.contains(\"'ll\")]\n"
      ],
      "execution_count": 32,
      "outputs": [
        {
          "output_type": "execute_result",
          "data": {
            "text/html": [
              "<div>\n",
              "<style scoped>\n",
              "    .dataframe tbody tr th:only-of-type {\n",
              "        vertical-align: middle;\n",
              "    }\n",
              "\n",
              "    .dataframe tbody tr th {\n",
              "        vertical-align: top;\n",
              "    }\n",
              "\n",
              "    .dataframe thead th {\n",
              "        text-align: right;\n",
              "    }\n",
              "</style>\n",
              "<table border=\"1\" class=\"dataframe\">\n",
              "  <thead>\n",
              "    <tr style=\"text-align: right;\">\n",
              "      <th></th>\n",
              "      <th>text</th>\n",
              "      <th>author</th>\n",
              "    </tr>\n",
              "    <tr>\n",
              "      <th>index</th>\n",
              "      <th></th>\n",
              "      <th></th>\n",
              "    </tr>\n",
              "  </thead>\n",
              "  <tbody>\n",
              "  </tbody>\n",
              "</table>\n",
              "</div>"
            ],
            "text/plain": [
              "Empty DataFrame\n",
              "Columns: [text, author]\n",
              "Index: []"
            ]
          },
          "metadata": {
            "tags": []
          },
          "execution_count": 32
        }
      ]
    },
    {
      "cell_type": "code",
      "metadata": {
        "colab": {
          "base_uri": "https://localhost:8080/",
          "height": 476
        },
        "id": "WtQcN35_Mccp",
        "outputId": "22e6e75a-4c9e-4fd6-9c98-6cbf6495ab08"
      },
      "source": [
        "train['text'].str.len().hist()"
      ],
      "execution_count": 33,
      "outputs": [
        {
          "output_type": "execute_result",
          "data": {
            "text/plain": [
              "<matplotlib.axes._subplots.AxesSubplot at 0x7fe5d77318d0>"
            ]
          },
          "metadata": {
            "tags": []
          },
          "execution_count": 33
        },
        {
          "output_type": "display_data",
          "data": {
            "image/png": "[encoded data removed]",
            "text/plain": [
              "<Figure size 1152x576 with 1 Axes>"
            ]
          },
          "metadata": {
            "tags": []
          }
        }
      ]
    },
    {
      "cell_type": "code",
      "metadata": {
        "colab": {
          "base_uri": "https://localhost:8080/"
        },
        "id": "7VimIN9vMclT",
        "outputId": "18cff4a4-9bbc-4a11-920b-3a0694978909"
      },
      "source": [
        "X_trn = train['text'].values\n",
        "X_tst = test['text'].values\n",
        "y = train['author'].values\n",
        "print(X_trn.shape, X_tst.shape, y.shape)"
      ],
      "execution_count": 57,
      "outputs": [
        {
          "output_type": "stream",
          "text": [
            "(54879,) (19617,) (54879,)\n"
          ],
          "name": "stdout"
        }
      ]
    },
    {
      "cell_type": "code",
      "metadata": {
        "id": "Q3bdRKHoMcuT"
      },
      "source": [
        "vocab_size = 21000\n",
        "embedding_dim = 128\n",
        "max_length = 550\n",
        "padding_type='post'"
      ],
      "execution_count": 58,
      "outputs": []
    },
    {
      "cell_type": "code",
      "metadata": {
        "id": "GHip4uvHMc2P"
      },
      "source": [
        "tokenizer = Tokenizer(num_words = vocab_size)\n",
        "tokenizer.fit_on_texts(X_trn)\n",
        "word_index = tokenizer.word_index"
      ],
      "execution_count": 59,
      "outputs": []
    },
    {
      "cell_type": "code",
      "metadata": {
        "id": "1x9C4seTMc-f"
      },
      "source": [
        "\n",
        "train_sequences = tokenizer.texts_to_sequences(X_trn)\n",
        "test_sequences = tokenizer.texts_to_sequences(X_tst)"
      ],
      "execution_count": 60,
      "outputs": []
    },
    {
      "cell_type": "code",
      "metadata": {
        "colab": {
          "base_uri": "https://localhost:8080/"
        },
        "id": "OThSlL25MdHG",
        "outputId": "979915cb-9874-4d9b-a8c2-5fa6acd26154"
      },
      "source": [
        "trn = pad_sequences(train_sequences, padding=padding_type, maxlen=max_length)\n",
        "tst = pad_sequences(test_sequences, padding=padding_type, maxlen=max_length)\n",
        "print(trn.shape, tst.shape)"
      ],
      "execution_count": 61,
      "outputs": [
        {
          "output_type": "stream",
          "text": [
            "(54879, 550) (19617, 550)\n"
          ],
          "name": "stdout"
        }
      ]
    },
    {
      "cell_type": "code",
      "metadata": {
        "id": "92vBhrKgMdOd"
      },
      "source": [
        "cv = StratifiedKFold(n_splits=n_fold, shuffle=True, random_state=seed)"
      ],
      "execution_count": 62,
      "outputs": []
    },
    {
      "cell_type": "code",
      "metadata": {
        "id": "apsqIhOTPPd3"
      },
      "source": [
        "def get_model():\n",
        "    model = Sequential([\n",
        "        Embedding(vocab_size, embedding_dim, input_length=max_length),\n",
        "        Dropout(0.2),\n",
        "        Conv1D(256, 3, padding='valid', activation='relu', strides=1),  \n",
        "        GlobalMaxPooling1D(),\n",
        "        Dense(64, activation='relu'),\n",
        "        Dropout(0.2),\n",
        "        Dense(n_class, activation='softmax')\n",
        "    ])\n",
        "    \n",
        "    # compile model\n",
        "    model.compile(loss='categorical_crossentropy',\n",
        "                  optimizer=Adam(learning_rate=.005))\n",
        "    return model"
      ],
      "execution_count": 63,
      "outputs": []
    },
    {
      "cell_type": "code",
      "metadata": {
        "colab": {
          "base_uri": "https://localhost:8080/"
        },
        "id": "7HmEeZeTPR2l",
        "outputId": "be6b55fb-f6b1-42d7-df3b-9aca10a656fe"
      },
      "source": [
        "p_val = np.zeros((trn.shape[0], n_class))\n",
        "p_tst = np.zeros((tst.shape[0], n_class))\n",
        "for i, (i_trn, i_val) in enumerate(cv.split(trn, y), 1):\n",
        "    print(f'training model for CV #{i}')\n",
        "    es = EarlyStopping(monitor='val_loss', min_delta=0.001, patience=3,\n",
        "                       verbose=1, mode='min', baseline=None, restore_best_weights=True)\n",
        "\n",
        "    clf = get_model()    \n",
        "    clf.fit(trn[i_trn], \n",
        "            to_categorical(y[i_trn]),\n",
        "            validation_data=(trn[i_val], to_categorical(y[i_val])),\n",
        "            epochs=10,\n",
        "            batch_size=256,\n",
        "            callbacks=[es])\n",
        "    p_val[i_val, :] = clf.predict(trn[i_val])\n",
        "    p_tst += clf.predict(tst) / n_fold"
      ],
      "execution_count": 64,
      "outputs": [
        {
          "output_type": "stream",
          "text": [
            "training model for CV #1\n",
            "Epoch 1/10\n",
            "172/172 [==============================] - 16s 94ms/step - loss: 0.9564 - val_loss: 0.6665\n",
            "Epoch 2/10\n",
            "172/172 [==============================] - 16s 92ms/step - loss: 0.5395 - val_loss: 0.6003\n",
            "Epoch 3/10\n",
            "172/172 [==============================] - 16s 95ms/step - loss: 0.3801 - val_loss: 0.6491\n",
            "Epoch 4/10\n",
            "172/172 [==============================] - 16s 94ms/step - loss: 0.2922 - val_loss: 0.7210\n",
            "Epoch 5/10\n",
            "172/172 [==============================] - ETA: 0s - loss: 0.2417Restoring model weights from the end of the best epoch.\n",
            "172/172 [==============================] - 16s 94ms/step - loss: 0.2417 - val_loss: 0.7973\n",
            "Epoch 00005: early stopping\n",
            "training model for CV #2\n",
            "Epoch 1/10\n",
            "172/172 [==============================] - 16s 94ms/step - loss: 0.9720 - val_loss: 0.6923\n",
            "Epoch 2/10\n",
            "172/172 [==============================] - 16s 95ms/step - loss: 0.5544 - val_loss: 0.5986\n",
            "Epoch 3/10\n",
            "172/172 [==============================] - 16s 95ms/step - loss: 0.3966 - val_loss: 0.6558\n",
            "Epoch 4/10\n",
            "172/172 [==============================] - 16s 95ms/step - loss: 0.2988 - val_loss: 0.6790\n",
            "Epoch 5/10\n",
            "172/172 [==============================] - ETA: 0s - loss: 0.2483Restoring model weights from the end of the best epoch.\n",
            "172/172 [==============================] - 16s 94ms/step - loss: 0.2483 - val_loss: 0.7925\n",
            "Epoch 00005: early stopping\n",
            "training model for CV #3\n",
            "Epoch 1/10\n",
            "172/172 [==============================] - 16s 95ms/step - loss: 0.9500 - val_loss: 0.6778\n",
            "Epoch 2/10\n",
            "172/172 [==============================] - 16s 94ms/step - loss: 0.5329 - val_loss: 0.5878\n",
            "Epoch 3/10\n",
            "172/172 [==============================] - 16s 94ms/step - loss: 0.3750 - val_loss: 0.6256\n",
            "Epoch 4/10\n",
            "172/172 [==============================] - 16s 95ms/step - loss: 0.2824 - val_loss: 0.6793\n",
            "Epoch 5/10\n",
            "172/172 [==============================] - ETA: 0s - loss: 0.2338Restoring model weights from the end of the best epoch.\n",
            "172/172 [==============================] - 16s 95ms/step - loss: 0.2338 - val_loss: 0.7972\n",
            "Epoch 00005: early stopping\n",
            "training model for CV #4\n",
            "Epoch 1/10\n",
            "172/172 [==============================] - 16s 94ms/step - loss: 0.9650 - val_loss: 0.6472\n",
            "Epoch 2/10\n",
            "172/172 [==============================] - 16s 95ms/step - loss: 0.5518 - val_loss: 0.6047\n",
            "Epoch 3/10\n",
            "172/172 [==============================] - 16s 94ms/step - loss: 0.3913 - val_loss: 0.6299\n",
            "Epoch 4/10\n",
            "172/172 [==============================] - 16s 94ms/step - loss: 0.3030 - val_loss: 0.6815\n",
            "Epoch 5/10\n",
            "172/172 [==============================] - ETA: 0s - loss: 0.2490Restoring model weights from the end of the best epoch.\n",
            "172/172 [==============================] - 16s 94ms/step - loss: 0.2490 - val_loss: 0.7327\n",
            "Epoch 00005: early stopping\n",
            "training model for CV #5\n",
            "Epoch 1/10\n",
            "172/172 [==============================] - 16s 92ms/step - loss: 0.9445 - val_loss: 0.6721\n",
            "Epoch 2/10\n",
            "172/172 [==============================] - 16s 92ms/step - loss: 0.5300 - val_loss: 0.6019\n",
            "Epoch 3/10\n",
            "172/172 [==============================] - 16s 92ms/step - loss: 0.3626 - val_loss: 0.6171\n",
            "Epoch 4/10\n",
            "172/172 [==============================] - 16s 92ms/step - loss: 0.2796 - val_loss: 0.7046\n",
            "Epoch 5/10\n",
            "172/172 [==============================] - ETA: 0s - loss: 0.2353Restoring model weights from the end of the best epoch.\n",
            "172/172 [==============================] - 16s 93ms/step - loss: 0.2353 - val_loss: 0.7624\n",
            "Epoch 00005: early stopping\n"
          ],
          "name": "stdout"
        }
      ]
    },
    {
      "cell_type": "code",
      "metadata": {
        "id": "_NhAmqFqPUPp",
        "colab": {
          "base_uri": "https://localhost:8080/"
        },
        "outputId": "591a7cd7-fd3b-4899-fa90-8cf14e7da817"
      },
      "source": [
        "print(f'Accuracy (CV): {accuracy_score(y, np.argmax(p_val, axis=1)) * 100:8.4f}%')\n",
        "print(f'Log Loss (CV): {log_loss(pd.get_dummies(y), p_val):8.4f}')\n"
      ],
      "execution_count": 65,
      "outputs": [
        {
          "output_type": "stream",
          "text": [
            "Accuracy (CV):  78.1702%\n",
            "Log Loss (CV):   0.5987\n"
          ],
          "name": "stdout"
        }
      ]
    },
    {
      "cell_type": "code",
      "metadata": {
        "id": "oYyiNnrHPjF8"
      },
      "source": [
        "\n",
        "np.savetxt(p_val_file, p_val, fmt='%.6f', delimiter=',')\n",
        "np.savetxt(p_tst_file, p_tst, fmt='%.6f', delimiter=',')"
      ],
      "execution_count": 66,
      "outputs": []
    },
    {
      "cell_type": "code",
      "metadata": {
        "id": "H7exZyfiPle_",
        "colab": {
          "base_uri": "https://localhost:8080/",
          "height": 253
        },
        "outputId": "24160716-8d98-42e8-81a6-f510fcd09be7"
      },
      "source": [
        "sub = pd.read_csv(sample_file, index_col=0)\n",
        "print(sub.shape)\n",
        "sub.head()"
      ],
      "execution_count": 67,
      "outputs": [
        {
          "output_type": "stream",
          "text": [
            "(19617, 5)\n"
          ],
          "name": "stdout"
        },
        {
          "output_type": "execute_result",
          "data": {
            "text/html": [
              "<div>\n",
              "<style scoped>\n",
              "    .dataframe tbody tr th:only-of-type {\n",
              "        vertical-align: middle;\n",
              "    }\n",
              "\n",
              "    .dataframe tbody tr th {\n",
              "        vertical-align: top;\n",
              "    }\n",
              "\n",
              "    .dataframe thead th {\n",
              "        text-align: right;\n",
              "    }\n",
              "</style>\n",
              "<table border=\"1\" class=\"dataframe\">\n",
              "  <thead>\n",
              "    <tr style=\"text-align: right;\">\n",
              "      <th></th>\n",
              "      <th>0</th>\n",
              "      <th>1</th>\n",
              "      <th>2</th>\n",
              "      <th>3</th>\n",
              "      <th>4</th>\n",
              "    </tr>\n",
              "    <tr>\n",
              "      <th>index</th>\n",
              "      <th></th>\n",
              "      <th></th>\n",
              "      <th></th>\n",
              "      <th></th>\n",
              "      <th></th>\n",
              "    </tr>\n",
              "  </thead>\n",
              "  <tbody>\n",
              "    <tr>\n",
              "      <th>0</th>\n",
              "      <td>0</td>\n",
              "      <td>0</td>\n",
              "      <td>0</td>\n",
              "      <td>0</td>\n",
              "      <td>0</td>\n",
              "    </tr>\n",
              "    <tr>\n",
              "      <th>1</th>\n",
              "      <td>0</td>\n",
              "      <td>0</td>\n",
              "      <td>0</td>\n",
              "      <td>0</td>\n",
              "      <td>0</td>\n",
              "    </tr>\n",
              "    <tr>\n",
              "      <th>2</th>\n",
              "      <td>0</td>\n",
              "      <td>0</td>\n",
              "      <td>0</td>\n",
              "      <td>0</td>\n",
              "      <td>0</td>\n",
              "    </tr>\n",
              "    <tr>\n",
              "      <th>3</th>\n",
              "      <td>0</td>\n",
              "      <td>0</td>\n",
              "      <td>0</td>\n",
              "      <td>0</td>\n",
              "      <td>0</td>\n",
              "    </tr>\n",
              "    <tr>\n",
              "      <th>4</th>\n",
              "      <td>0</td>\n",
              "      <td>0</td>\n",
              "      <td>0</td>\n",
              "      <td>0</td>\n",
              "      <td>0</td>\n",
              "    </tr>\n",
              "  </tbody>\n",
              "</table>\n",
              "</div>"
            ],
            "text/plain": [
              "       0  1  2  3  4\n",
              "index               \n",
              "0      0  0  0  0  0\n",
              "1      0  0  0  0  0\n",
              "2      0  0  0  0  0\n",
              "3      0  0  0  0  0\n",
              "4      0  0  0  0  0"
            ]
          },
          "metadata": {
            "tags": []
          },
          "execution_count": 67
        }
      ]
    },
    {
      "cell_type": "code",
      "metadata": {
        "id": "61nUSj3xPn6g",
        "colab": {
          "base_uri": "https://localhost:8080/",
          "height": 235
        },
        "outputId": "165422c9-de20-4bf7-8422-3cc7f4dd6ca2"
      },
      "source": [
        "sub[sub.columns] = p_tst\n",
        "sub.head()"
      ],
      "execution_count": 68,
      "outputs": [
        {
          "output_type": "execute_result",
          "data": {
            "text/html": [
              "<div>\n",
              "<style scoped>\n",
              "    .dataframe tbody tr th:only-of-type {\n",
              "        vertical-align: middle;\n",
              "    }\n",
              "\n",
              "    .dataframe tbody tr th {\n",
              "        vertical-align: top;\n",
              "    }\n",
              "\n",
              "    .dataframe thead th {\n",
              "        text-align: right;\n",
              "    }\n",
              "</style>\n",
              "<table border=\"1\" class=\"dataframe\">\n",
              "  <thead>\n",
              "    <tr style=\"text-align: right;\">\n",
              "      <th></th>\n",
              "      <th>0</th>\n",
              "      <th>1</th>\n",
              "      <th>2</th>\n",
              "      <th>3</th>\n",
              "      <th>4</th>\n",
              "    </tr>\n",
              "    <tr>\n",
              "      <th>index</th>\n",
              "      <th></th>\n",
              "      <th></th>\n",
              "      <th></th>\n",
              "      <th></th>\n",
              "      <th></th>\n",
              "    </tr>\n",
              "  </thead>\n",
              "  <tbody>\n",
              "    <tr>\n",
              "      <th>0</th>\n",
              "      <td>0.0292</td>\n",
              "      <td>0.6978</td>\n",
              "      <td>0.2351</td>\n",
              "      <td>0.0366</td>\n",
              "      <td>0.0014</td>\n",
              "    </tr>\n",
              "    <tr>\n",
              "      <th>1</th>\n",
              "      <td>0.4128</td>\n",
              "      <td>0.1591</td>\n",
              "      <td>0.0535</td>\n",
              "      <td>0.1109</td>\n",
              "      <td>0.2637</td>\n",
              "    </tr>\n",
              "    <tr>\n",
              "      <th>2</th>\n",
              "      <td>0.9920</td>\n",
              "      <td>0.0050</td>\n",
              "      <td>0.0009</td>\n",
              "      <td>0.0008</td>\n",
              "      <td>0.0014</td>\n",
              "    </tr>\n",
              "    <tr>\n",
              "      <th>3</th>\n",
              "      <td>0.0553</td>\n",
              "      <td>0.0086</td>\n",
              "      <td>0.8805</td>\n",
              "      <td>0.0115</td>\n",
              "      <td>0.0441</td>\n",
              "    </tr>\n",
              "    <tr>\n",
              "      <th>4</th>\n",
              "      <td>0.5561</td>\n",
              "      <td>0.0144</td>\n",
              "      <td>0.0947</td>\n",
              "      <td>0.1836</td>\n",
              "      <td>0.1512</td>\n",
              "    </tr>\n",
              "  </tbody>\n",
              "</table>\n",
              "</div>"
            ],
            "text/plain": [
              "            0       1       2       3       4\n",
              "index                                        \n",
              "0      0.0292  0.6978  0.2351  0.0366  0.0014\n",
              "1      0.4128  0.1591  0.0535  0.1109  0.2637\n",
              "2      0.9920  0.0050  0.0009  0.0008  0.0014\n",
              "3      0.0553  0.0086  0.8805  0.0115  0.0441\n",
              "4      0.5561  0.0144  0.0947  0.1836  0.1512"
            ]
          },
          "metadata": {
            "tags": []
          },
          "execution_count": 68
        }
      ]
    },
    {
      "cell_type": "code",
      "metadata": {
        "id": "i6alb5f5PoFC"
      },
      "source": [
        "sub.to_csv(sub_file)"
      ],
      "execution_count": 69,
      "outputs": []
    },
    {
      "cell_type": "code",
      "metadata": {
        "id": "MlNrcWwVQGyV"
      },
      "source": [
        ""
      ],
      "execution_count": null,
      "outputs": []
    }
  ]
}
