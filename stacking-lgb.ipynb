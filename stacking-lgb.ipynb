{
 "cells": [
  {
   "cell_type": "code",
   "execution_count": 1,
   "metadata": {
    "ExecuteTime": {
     "end_time": "2020-10-06T05:40:17.195999Z",
     "start_time": "2020-10-06T05:40:14.772452Z"
    }
   },
   "outputs": [],
   "source": [
    "\n",
    "%reload_ext autoreload\n",
    "%autoreload 2\n",
    "%matplotlib inline"
   ]
  },
  {
   "cell_type": "code",
   "execution_count": 2,
   "metadata": {
    "ExecuteTime": {
     "end_time": "2020-10-06T05:40:24.470881Z",
     "start_time": "2020-10-06T05:40:17.935547Z"
    }
   },
   "outputs": [],
   "source": [
    "import lightgbm as lgb\n",
    "from matplotlib import pyplot as plt\n",
    "from matplotlib import rcParams\n",
    "import numpy as np\n",
    "from pathlib import Path\n",
    "import pandas as pd\n",
    "from sklearn.metrics import accuracy_score\n",
    "from sklearn.model_selection import StratifiedKFold\n",
    "import seaborn as sns\n",
    "import warnings"
   ]
  },
  {
   "cell_type": "code",
   "execution_count": 3,
   "metadata": {
    "ExecuteTime": {
     "end_time": "2020-10-06T05:40:25.782654Z",
     "start_time": "2020-10-06T05:40:25.073533Z"
    }
   },
   "outputs": [],
   "source": [
    "rcParams['figure.figsize'] = (16, 8)\n",
    "plt.style.use('fivethirtyeight')\n",
    "pd.set_option('max_columns', 100)\n",
    "pd.set_option(\"display.precision\", 4)\n",
    "warnings.simplefilter('ignore')"
   ]
  },
  {
   "cell_type": "code",
   "execution_count": 4,
   "metadata": {
    "ExecuteTime": {
     "end_time": "2020-10-06T05:40:26.688136Z",
     "start_time": "2020-10-06T05:40:26.322348Z"
    }
   },
   "outputs": [],
   "source": [
    "\n",
    "data_dir = Path('../input')\n",
    "feature_dir = Path('../feature')\n",
    "val_dir = Path('../txt')\n",
    "tst_dir = Path('../txt')\n",
    "sub_dir = Path('../submission')\n",
    "\n",
    "trn_file = data_dir / 'train.csv'\n",
    "tst_file = data_dir / 'test.csv'\n",
    "sample_file = sub_dir / 'sample_submission.csv'\n",
    "\n",
    "target_col = 'class'\n",
    "n_fold = 5\n",
    "n_class = 3\n",
    "seed = 42"
   ]
  },
  {
   "cell_type": "code",
   "execution_count": 5,
   "metadata": {
    "ExecuteTime": {
     "end_time": "2020-10-06T05:40:27.599989Z",
     "start_time": "2020-10-06T05:40:27.242190Z"
    }
   },
   "outputs": [],
   "source": [
    "algo_name = 'lgbcv'\n",
    "feature_name = 'stacking1'\n",
    "model_name = f'{algo_name}_{feature_name}'\n",
    "\n",
    "feature_file = feature_dir / f'{feature_name}.csv'\n",
    "p_val_file = val_dir / f'{model_name}.val.csv'\n",
    "p_tst_file = tst_dir / f'{model_name}.tst.csv'\n",
    "sub_file = sub_dir / f'{model_name}.csv'"
   ]
  },
  {
   "cell_type": "code",
   "execution_count": 6,
   "metadata": {
    "ExecuteTime": {
     "end_time": "2020-10-06T05:40:53.667302Z",
     "start_time": "2020-10-06T05:40:28.173965Z"
    }
   },
   "outputs": [
    {
     "data": {
      "text/plain": [
       "['lrcv_polyfeature_class0',\n",
       " 'lrcv_polyfeature_class1',\n",
       " 'lrcv_polyfeature_class2',\n",
       " 'rfcv_feature_class0',\n",
       " 'rfcv_feature_class1',\n",
       " 'rfcv_feature_class2',\n",
       " 'lgbcv_feature_class0',\n",
       " 'lgbcv_feature_class1',\n",
       " 'lgbcv_feature_class2']"
      ]
     },
     "execution_count": 6,
     "metadata": {},
     "output_type": "execute_result"
    }
   ],
   "source": [
    "model_names = ['lrcv_polyfeature', 'rfcv_feature', 'lgbcv_feature']\n",
    "trn = []\n",
    "tst = []\n",
    "feature_names = []\n",
    "for model in model_names:\n",
    "    trn.append(np.loadtxt(val_dir / f'{model}.val.csv', delimiter=','))\n",
    "    tst.append(np.loadtxt(tst_dir / f'{model}.tst.csv', delimiter=','))\n",
    "    feature_names += [f'{model}_class0', f'{model}_class1', f'{model}_class2']\n",
    "    \n",
    "trn = np.hstack(trn)\n",
    "tst = np.hstack(tst)\n",
    "feature_names"
   ]
  },
  {
   "cell_type": "code",
   "execution_count": 7,
   "metadata": {
    "ExecuteTime": {
     "end_time": "2020-10-06T05:41:03.072743Z",
     "start_time": "2020-10-06T05:41:01.720200Z"
    }
   },
   "outputs": [
    {
     "data": {
      "text/plain": [
       "(320000,)"
      ]
     },
     "execution_count": 7,
     "metadata": {},
     "output_type": "execute_result"
    }
   ],
   "source": [
    "y = pd.read_csv(trn_file, index_col=0, usecols=['id', target_col]).values.flatten()\n",
    "y.shape"
   ]
  },
  {
   "cell_type": "code",
   "execution_count": 8,
   "metadata": {
    "ExecuteTime": {
     "end_time": "2020-10-06T05:41:05.329007Z",
     "start_time": "2020-10-06T05:41:03.747357Z"
    }
   },
   "outputs": [
    {
     "data": {
      "text/plain": [
       "(320000,)"
      ]
     },
     "execution_count": 8,
     "metadata": {},
     "output_type": "execute_result"
    }
   ],
   "source": [
    "y = pd.read_csv(trn_file, index_col=0, usecols=['id', target_col]).values.flatten()\n",
    "y.shape"
   ]
  },
  {
   "cell_type": "code",
   "execution_count": 9,
   "metadata": {
    "ExecuteTime": {
     "end_time": "2020-10-06T05:41:06.668270Z",
     "start_time": "2020-10-06T05:41:06.269482Z"
    }
   },
   "outputs": [],
   "source": [
    "cv = StratifiedKFold(n_splits=n_fold, shuffle=True, random_state=seed)\n"
   ]
  },
  {
   "cell_type": "code",
   "execution_count": null,
   "metadata": {
    "ExecuteTime": {
     "start_time": "2020-10-06T05:41:07.887Z"
    }
   },
   "outputs": [
    {
     "name": "stdout",
     "output_type": "stream",
     "text": [
      "training model for CV #1\n",
      "[1]\tvalid_0's multi_logloss: 0.907862\n",
      "Training until validation scores don't improve for 10 rounds\n",
      "[2]\tvalid_0's multi_logloss: 0.840513\n",
      "[3]\tvalid_0's multi_logloss: 0.781542\n",
      "[4]\tvalid_0's multi_logloss: 0.729193\n",
      "[5]\tvalid_0's multi_logloss: 0.682449\n",
      "[6]\tvalid_0's multi_logloss: 0.640536\n",
      "[7]\tvalid_0's multi_logloss: 0.602664\n",
      "[8]\tvalid_0's multi_logloss: 0.568377\n",
      "[9]\tvalid_0's multi_logloss: 0.537182\n",
      "[10]\tvalid_0's multi_logloss: 0.508779\n",
      "[11]\tvalid_0's multi_logloss: 0.482835\n",
      "[12]\tvalid_0's multi_logloss: 0.459086\n",
      "[13]\tvalid_0's multi_logloss: 0.437311\n",
      "[14]\tvalid_0's multi_logloss: 0.417316\n",
      "[15]\tvalid_0's multi_logloss: 0.398961\n",
      "[16]\tvalid_0's multi_logloss: 0.381965\n",
      "[17]\tvalid_0's multi_logloss: 0.36633\n",
      "[18]\tvalid_0's multi_logloss: 0.351892\n",
      "[19]\tvalid_0's multi_logloss: 0.33853\n",
      "[20]\tvalid_0's multi_logloss: 0.32616\n",
      "[21]\tvalid_0's multi_logloss: 0.314724\n",
      "[22]\tvalid_0's multi_logloss: 0.304124\n",
      "[23]\tvalid_0's multi_logloss: 0.294311\n",
      "[24]\tvalid_0's multi_logloss: 0.285195\n",
      "[25]\tvalid_0's multi_logloss: 0.276737\n",
      "[26]\tvalid_0's multi_logloss: 0.268879\n",
      "[27]\tvalid_0's multi_logloss: 0.261573\n",
      "[28]\tvalid_0's multi_logloss: 0.254782\n",
      "[29]\tvalid_0's multi_logloss: 0.248474\n",
      "[30]\tvalid_0's multi_logloss: 0.242597\n",
      "[31]\tvalid_0's multi_logloss: 0.237107\n",
      "[32]\tvalid_0's multi_logloss: 0.231992\n",
      "[33]\tvalid_0's multi_logloss: 0.227237\n",
      "[34]\tvalid_0's multi_logloss: 0.222801\n",
      "[35]\tvalid_0's multi_logloss: 0.218651\n",
      "[36]\tvalid_0's multi_logloss: 0.214791\n",
      "[37]\tvalid_0's multi_logloss: 0.211173\n",
      "[38]\tvalid_0's multi_logloss: 0.207816\n",
      "[39]\tvalid_0's multi_logloss: 0.204671\n",
      "[40]\tvalid_0's multi_logloss: 0.201711\n",
      "[41]\tvalid_0's multi_logloss: 0.198959\n",
      "[42]\tvalid_0's multi_logloss: 0.196367\n",
      "[43]\tvalid_0's multi_logloss: 0.193964\n",
      "[44]\tvalid_0's multi_logloss: 0.191713\n",
      "[45]\tvalid_0's multi_logloss: 0.18958\n",
      "[46]\tvalid_0's multi_logloss: 0.187605\n",
      "[47]\tvalid_0's multi_logloss: 0.185759\n",
      "[48]\tvalid_0's multi_logloss: 0.184026\n",
      "[49]\tvalid_0's multi_logloss: 0.182393\n",
      "[50]\tvalid_0's multi_logloss: 0.180884\n",
      "[51]\tvalid_0's multi_logloss: 0.179449\n",
      "[52]\tvalid_0's multi_logloss: 0.178097\n",
      "[53]\tvalid_0's multi_logloss: 0.176858\n",
      "[54]\tvalid_0's multi_logloss: 0.175672\n",
      "[55]\tvalid_0's multi_logloss: 0.174559\n",
      "[56]\tvalid_0's multi_logloss: 0.173509\n",
      "[57]\tvalid_0's multi_logloss: 0.172523\n",
      "[58]\tvalid_0's multi_logloss: 0.171585\n",
      "[59]\tvalid_0's multi_logloss: 0.170715\n",
      "[60]\tvalid_0's multi_logloss: 0.169898\n",
      "[61]\tvalid_0's multi_logloss: 0.169129\n",
      "[62]\tvalid_0's multi_logloss: 0.168389\n",
      "[63]\tvalid_0's multi_logloss: 0.16769\n",
      "[64]\tvalid_0's multi_logloss: 0.16703\n",
      "[65]\tvalid_0's multi_logloss: 0.166415\n",
      "[66]\tvalid_0's multi_logloss: 0.165814\n",
      "[67]\tvalid_0's multi_logloss: 0.165266\n",
      "[68]\tvalid_0's multi_logloss: 0.164766\n",
      "[69]\tvalid_0's multi_logloss: 0.164275\n",
      "[70]\tvalid_0's multi_logloss: 0.163818\n",
      "[71]\tvalid_0's multi_logloss: 0.16338\n",
      "[72]\tvalid_0's multi_logloss: 0.162968\n",
      "[73]\tvalid_0's multi_logloss: 0.162582\n",
      "[74]\tvalid_0's multi_logloss: 0.162221\n",
      "[75]\tvalid_0's multi_logloss: 0.161879\n",
      "[76]\tvalid_0's multi_logloss: 0.161572\n",
      "[77]\tvalid_0's multi_logloss: 0.161271\n",
      "[78]\tvalid_0's multi_logloss: 0.160964\n",
      "[79]\tvalid_0's multi_logloss: 0.160689\n",
      "[80]\tvalid_0's multi_logloss: 0.160417\n",
      "[81]\tvalid_0's multi_logloss: 0.160175\n",
      "[82]\tvalid_0's multi_logloss: 0.159932\n",
      "[83]\tvalid_0's multi_logloss: 0.159713\n",
      "[84]\tvalid_0's multi_logloss: 0.159505\n",
      "[85]\tvalid_0's multi_logloss: 0.1593\n",
      "[86]\tvalid_0's multi_logloss: 0.159103\n",
      "[87]\tvalid_0's multi_logloss: 0.158913\n",
      "[88]\tvalid_0's multi_logloss: 0.158728\n",
      "[89]\tvalid_0's multi_logloss: 0.158568\n",
      "[90]\tvalid_0's multi_logloss: 0.158423\n",
      "[91]\tvalid_0's multi_logloss: 0.158253\n",
      "[92]\tvalid_0's multi_logloss: 0.158107\n",
      "[93]\tvalid_0's multi_logloss: 0.157975\n",
      "[94]\tvalid_0's multi_logloss: 0.157831\n",
      "[95]\tvalid_0's multi_logloss: 0.157684\n",
      "[96]\tvalid_0's multi_logloss: 0.157566\n",
      "[97]\tvalid_0's multi_logloss: 0.157438\n",
      "[98]\tvalid_0's multi_logloss: 0.157338\n",
      "[99]\tvalid_0's multi_logloss: 0.157208\n",
      "[100]\tvalid_0's multi_logloss: 0.157114\n",
      "[101]\tvalid_0's multi_logloss: 0.15701\n",
      "[102]\tvalid_0's multi_logloss: 0.156924\n",
      "[103]\tvalid_0's multi_logloss: 0.156851\n",
      "[104]\tvalid_0's multi_logloss: 0.156763\n",
      "[105]\tvalid_0's multi_logloss: 0.156693\n",
      "[106]\tvalid_0's multi_logloss: 0.156617\n",
      "[107]\tvalid_0's multi_logloss: 0.156546\n",
      "[108]\tvalid_0's multi_logloss: 0.156461\n",
      "[109]\tvalid_0's multi_logloss: 0.156398\n",
      "[110]\tvalid_0's multi_logloss: 0.156353\n",
      "[111]\tvalid_0's multi_logloss: 0.156298\n",
      "[112]\tvalid_0's multi_logloss: 0.156235\n",
      "[113]\tvalid_0's multi_logloss: 0.156179\n",
      "[114]\tvalid_0's multi_logloss: 0.156127\n",
      "[115]\tvalid_0's multi_logloss: 0.156086\n",
      "[116]\tvalid_0's multi_logloss: 0.156021\n",
      "[117]\tvalid_0's multi_logloss: 0.155974\n",
      "[118]\tvalid_0's multi_logloss: 0.155926\n",
      "[119]\tvalid_0's multi_logloss: 0.155883\n",
      "[120]\tvalid_0's multi_logloss: 0.155843\n",
      "[121]\tvalid_0's multi_logloss: 0.155802\n",
      "[122]\tvalid_0's multi_logloss: 0.155784\n",
      "[123]\tvalid_0's multi_logloss: 0.155764\n",
      "[124]\tvalid_0's multi_logloss: 0.155742\n",
      "[125]\tvalid_0's multi_logloss: 0.155729\n",
      "[126]\tvalid_0's multi_logloss: 0.15569\n",
      "[127]\tvalid_0's multi_logloss: 0.155662\n",
      "[128]\tvalid_0's multi_logloss: 0.15564\n",
      "[129]\tvalid_0's multi_logloss: 0.155619\n",
      "[130]\tvalid_0's multi_logloss: 0.155606\n",
      "[131]\tvalid_0's multi_logloss: 0.155591\n",
      "[132]\tvalid_0's multi_logloss: 0.15557\n",
      "[133]\tvalid_0's multi_logloss: 0.155564\n",
      "[134]\tvalid_0's multi_logloss: 0.155547\n",
      "[135]\tvalid_0's multi_logloss: 0.155536\n",
      "[136]\tvalid_0's multi_logloss: 0.155529\n",
      "[137]\tvalid_0's multi_logloss: 0.155518\n",
      "[138]\tvalid_0's multi_logloss: 0.155502\n",
      "[139]\tvalid_0's multi_logloss: 0.155494\n",
      "[140]\tvalid_0's multi_logloss: 0.155487\n",
      "[141]\tvalid_0's multi_logloss: 0.155487\n",
      "[142]\tvalid_0's multi_logloss: 0.155492\n",
      "[143]\tvalid_0's multi_logloss: 0.155493\n",
      "[144]\tvalid_0's multi_logloss: 0.15551\n",
      "[145]\tvalid_0's multi_logloss: 0.155498\n",
      "[146]\tvalid_0's multi_logloss: 0.155502\n",
      "[147]\tvalid_0's multi_logloss: 0.155501\n",
      "[148]\tvalid_0's multi_logloss: 0.155494\n",
      "[149]\tvalid_0's multi_logloss: 0.155507\n",
      "[150]\tvalid_0's multi_logloss: 0.155503\n",
      "Early stopping, best iteration is:\n",
      "[140]\tvalid_0's multi_logloss: 0.155487\n",
      "training model for CV #2\n",
      "[1]\tvalid_0's multi_logloss: 0.907983\n",
      "Training until validation scores don't improve for 10 rounds\n",
      "[2]\tvalid_0's multi_logloss: 0.840757\n",
      "[3]\tvalid_0's multi_logloss: 0.781877\n",
      "[4]\tvalid_0's multi_logloss: 0.729741\n",
      "[5]\tvalid_0's multi_logloss: 0.683196\n",
      "[6]\tvalid_0's multi_logloss: 0.641398\n",
      "[7]\tvalid_0's multi_logloss: 0.603633\n",
      "[8]\tvalid_0's multi_logloss: 0.569503\n",
      "[9]\tvalid_0's multi_logloss: 0.538408\n",
      "[10]\tvalid_0's multi_logloss: 0.510087\n",
      "[11]\tvalid_0's multi_logloss: 0.484217\n",
      "[12]\tvalid_0's multi_logloss: 0.460528\n",
      "[13]\tvalid_0's multi_logloss: 0.438818\n",
      "[14]\tvalid_0's multi_logloss: 0.418829\n",
      "[15]\tvalid_0's multi_logloss: 0.40048\n",
      "[16]\tvalid_0's multi_logloss: 0.383559\n",
      "[17]\tvalid_0's multi_logloss: 0.367951\n",
      "[18]\tvalid_0's multi_logloss: 0.353503\n",
      "[19]\tvalid_0's multi_logloss: 0.340209\n",
      "[20]\tvalid_0's multi_logloss: 0.327883\n",
      "[21]\tvalid_0's multi_logloss: 0.316434\n",
      "[22]\tvalid_0's multi_logloss: 0.305885\n",
      "[23]\tvalid_0's multi_logloss: 0.29611\n",
      "[24]\tvalid_0's multi_logloss: 0.287003\n",
      "[25]\tvalid_0's multi_logloss: 0.278567\n",
      "[26]\tvalid_0's multi_logloss: 0.27074\n",
      "[27]\tvalid_0's multi_logloss: 0.263467\n",
      "[28]\tvalid_0's multi_logloss: 0.256689\n",
      "[29]\tvalid_0's multi_logloss: 0.250381\n",
      "[30]\tvalid_0's multi_logloss: 0.244489\n",
      "[31]\tvalid_0's multi_logloss: 0.239035\n",
      "[32]\tvalid_0's multi_logloss: 0.233935\n",
      "[33]\tvalid_0's multi_logloss: 0.229162\n",
      "[34]\tvalid_0's multi_logloss: 0.224739\n",
      "[35]\tvalid_0's multi_logloss: 0.220593\n",
      "[36]\tvalid_0's multi_logloss: 0.216732\n",
      "[37]\tvalid_0's multi_logloss: 0.213127\n",
      "[38]\tvalid_0's multi_logloss: 0.20978\n",
      "[39]\tvalid_0's multi_logloss: 0.206634\n",
      "[40]\tvalid_0's multi_logloss: 0.20368\n",
      "[41]\tvalid_0's multi_logloss: 0.200926\n",
      "[42]\tvalid_0's multi_logloss: 0.198342\n",
      "[43]\tvalid_0's multi_logloss: 0.19594\n",
      "[44]\tvalid_0's multi_logloss: 0.193695\n",
      "[45]\tvalid_0's multi_logloss: 0.191559\n",
      "[46]\tvalid_0's multi_logloss: 0.18956\n",
      "[47]\tvalid_0's multi_logloss: 0.187693\n",
      "[48]\tvalid_0's multi_logloss: 0.185939\n",
      "[49]\tvalid_0's multi_logloss: 0.184285\n",
      "[50]\tvalid_0's multi_logloss: 0.182751\n",
      "[51]\tvalid_0's multi_logloss: 0.1813\n",
      "[52]\tvalid_0's multi_logloss: 0.179934\n",
      "[53]\tvalid_0's multi_logloss: 0.178662\n",
      "[54]\tvalid_0's multi_logloss: 0.17747\n",
      "[55]\tvalid_0's multi_logloss: 0.176345\n"
     ]
    },
    {
     "name": "stdout",
     "output_type": "stream",
     "text": [
      "[56]\tvalid_0's multi_logloss: 0.175263\n",
      "[57]\tvalid_0's multi_logloss: 0.17427\n",
      "[58]\tvalid_0's multi_logloss: 0.173303\n",
      "[59]\tvalid_0's multi_logloss: 0.172424\n",
      "[60]\tvalid_0's multi_logloss: 0.17159\n",
      "[61]\tvalid_0's multi_logloss: 0.170812\n",
      "[62]\tvalid_0's multi_logloss: 0.170077\n",
      "[63]\tvalid_0's multi_logloss: 0.169357\n",
      "[64]\tvalid_0's multi_logloss: 0.168706\n",
      "[65]\tvalid_0's multi_logloss: 0.168105\n",
      "[66]\tvalid_0's multi_logloss: 0.167501\n",
      "[67]\tvalid_0's multi_logloss: 0.166965\n",
      "[68]\tvalid_0's multi_logloss: 0.166447\n",
      "[69]\tvalid_0's multi_logloss: 0.165963\n",
      "[70]\tvalid_0's multi_logloss: 0.16548\n",
      "[71]\tvalid_0's multi_logloss: 0.165033\n",
      "[72]\tvalid_0's multi_logloss: 0.1646\n",
      "[73]\tvalid_0's multi_logloss: 0.1642\n",
      "[74]\tvalid_0's multi_logloss: 0.163826\n",
      "[75]\tvalid_0's multi_logloss: 0.163476\n",
      "[76]\tvalid_0's multi_logloss: 0.163129\n",
      "[77]\tvalid_0's multi_logloss: 0.162819\n",
      "[78]\tvalid_0's multi_logloss: 0.16251\n",
      "[79]\tvalid_0's multi_logloss: 0.162231\n",
      "[80]\tvalid_0's multi_logloss: 0.161959\n",
      "[81]\tvalid_0's multi_logloss: 0.161696\n",
      "[82]\tvalid_0's multi_logloss: 0.161435\n",
      "[83]\tvalid_0's multi_logloss: 0.161184\n",
      "[84]\tvalid_0's multi_logloss: 0.160968\n",
      "[85]\tvalid_0's multi_logloss: 0.160761\n",
      "[86]\tvalid_0's multi_logloss: 0.160556\n",
      "[87]\tvalid_0's multi_logloss: 0.160363\n",
      "[88]\tvalid_0's multi_logloss: 0.160197\n",
      "[89]\tvalid_0's multi_logloss: 0.160031\n",
      "[90]\tvalid_0's multi_logloss: 0.159853\n",
      "[91]\tvalid_0's multi_logloss: 0.159674\n",
      "[92]\tvalid_0's multi_logloss: 0.159512\n",
      "[93]\tvalid_0's multi_logloss: 0.159378\n",
      "[94]\tvalid_0's multi_logloss: 0.159244\n",
      "[95]\tvalid_0's multi_logloss: 0.159139\n",
      "[96]\tvalid_0's multi_logloss: 0.158988\n",
      "[97]\tvalid_0's multi_logloss: 0.158865\n",
      "[98]\tvalid_0's multi_logloss: 0.158751\n",
      "[99]\tvalid_0's multi_logloss: 0.158639\n",
      "[100]\tvalid_0's multi_logloss: 0.158538\n",
      "[101]\tvalid_0's multi_logloss: 0.158457\n",
      "[102]\tvalid_0's multi_logloss: 0.158336\n",
      "[103]\tvalid_0's multi_logloss: 0.158253\n",
      "[104]\tvalid_0's multi_logloss: 0.158163\n",
      "[105]\tvalid_0's multi_logloss: 0.158064\n",
      "[106]\tvalid_0's multi_logloss: 0.157969\n",
      "[107]\tvalid_0's multi_logloss: 0.157895\n",
      "[108]\tvalid_0's multi_logloss: 0.157848\n",
      "[109]\tvalid_0's multi_logloss: 0.157754\n",
      "[110]\tvalid_0's multi_logloss: 0.157693\n",
      "[111]\tvalid_0's multi_logloss: 0.15764\n",
      "[112]\tvalid_0's multi_logloss: 0.1576\n",
      "[113]\tvalid_0's multi_logloss: 0.15754\n",
      "[114]\tvalid_0's multi_logloss: 0.157495\n",
      "[115]\tvalid_0's multi_logloss: 0.15744\n",
      "[116]\tvalid_0's multi_logloss: 0.157391\n",
      "[117]\tvalid_0's multi_logloss: 0.157343\n",
      "[118]\tvalid_0's multi_logloss: 0.1573\n",
      "[119]\tvalid_0's multi_logloss: 0.157254\n",
      "[120]\tvalid_0's multi_logloss: 0.157217\n",
      "[121]\tvalid_0's multi_logloss: 0.157179\n",
      "[122]\tvalid_0's multi_logloss: 0.157156\n",
      "[123]\tvalid_0's multi_logloss: 0.157129\n",
      "[124]\tvalid_0's multi_logloss: 0.157102\n",
      "[125]\tvalid_0's multi_logloss: 0.157085\n",
      "[126]\tvalid_0's multi_logloss: 0.15707\n",
      "[127]\tvalid_0's multi_logloss: 0.157059\n",
      "[128]\tvalid_0's multi_logloss: 0.157042\n",
      "[129]\tvalid_0's multi_logloss: 0.157011\n",
      "[130]\tvalid_0's multi_logloss: 0.156989\n",
      "[131]\tvalid_0's multi_logloss: 0.156966\n",
      "[132]\tvalid_0's multi_logloss: 0.156945\n",
      "[133]\tvalid_0's multi_logloss: 0.156926\n",
      "[134]\tvalid_0's multi_logloss: 0.156913\n",
      "[135]\tvalid_0's multi_logloss: 0.156903\n",
      "[136]\tvalid_0's multi_logloss: 0.156889\n",
      "[137]\tvalid_0's multi_logloss: 0.156868\n",
      "[138]\tvalid_0's multi_logloss: 0.156846\n",
      "[139]\tvalid_0's multi_logloss: 0.156828\n",
      "[140]\tvalid_0's multi_logloss: 0.156833\n",
      "[141]\tvalid_0's multi_logloss: 0.15682\n",
      "[142]\tvalid_0's multi_logloss: 0.156805\n",
      "[143]\tvalid_0's multi_logloss: 0.156786\n",
      "[144]\tvalid_0's multi_logloss: 0.156782\n",
      "[145]\tvalid_0's multi_logloss: 0.156751\n",
      "[146]\tvalid_0's multi_logloss: 0.156747\n",
      "[147]\tvalid_0's multi_logloss: 0.156734\n",
      "[148]\tvalid_0's multi_logloss: 0.156726\n",
      "[149]\tvalid_0's multi_logloss: 0.156724\n",
      "[150]\tvalid_0's multi_logloss: 0.156726\n",
      "[151]\tvalid_0's multi_logloss: 0.15671\n",
      "[152]\tvalid_0's multi_logloss: 0.156712\n",
      "[153]\tvalid_0's multi_logloss: 0.156709\n",
      "[154]\tvalid_0's multi_logloss: 0.156702\n",
      "[155]\tvalid_0's multi_logloss: 0.15671\n",
      "[156]\tvalid_0's multi_logloss: 0.156706\n",
      "[157]\tvalid_0's multi_logloss: 0.156711\n",
      "[158]\tvalid_0's multi_logloss: 0.156698\n",
      "[159]\tvalid_0's multi_logloss: 0.156714\n",
      "[160]\tvalid_0's multi_logloss: 0.15671\n",
      "[161]\tvalid_0's multi_logloss: 0.156703\n",
      "[162]\tvalid_0's multi_logloss: 0.156708\n",
      "[163]\tvalid_0's multi_logloss: 0.156695\n",
      "[164]\tvalid_0's multi_logloss: 0.156697\n",
      "[165]\tvalid_0's multi_logloss: 0.156705\n",
      "[166]\tvalid_0's multi_logloss: 0.156712\n",
      "[167]\tvalid_0's multi_logloss: 0.156717\n",
      "[168]\tvalid_0's multi_logloss: 0.156718\n",
      "[169]\tvalid_0's multi_logloss: 0.156725\n",
      "[170]\tvalid_0's multi_logloss: 0.156737\n",
      "[171]\tvalid_0's multi_logloss: 0.156733\n",
      "[172]\tvalid_0's multi_logloss: 0.156735\n",
      "[173]\tvalid_0's multi_logloss: 0.156761\n",
      "Early stopping, best iteration is:\n",
      "[163]\tvalid_0's multi_logloss: 0.156695\n",
      "training model for CV #3\n",
      "[1]\tvalid_0's multi_logloss: 0.90817\n",
      "Training until validation scores don't improve for 10 rounds\n",
      "[2]\tvalid_0's multi_logloss: 0.840764\n",
      "[3]\tvalid_0's multi_logloss: 0.781724\n",
      "[4]\tvalid_0's multi_logloss: 0.729458\n",
      "[5]\tvalid_0's multi_logloss: 0.682866\n",
      "[6]\tvalid_0's multi_logloss: 0.641034\n",
      "[7]\tvalid_0's multi_logloss: 0.603299\n",
      "[8]\tvalid_0's multi_logloss: 0.569116\n",
      "[9]\tvalid_0's multi_logloss: 0.538016\n",
      "[10]\tvalid_0's multi_logloss: 0.509791\n",
      "[11]\tvalid_0's multi_logloss: 0.483867\n",
      "[12]\tvalid_0's multi_logloss: 0.460091\n",
      "[13]\tvalid_0's multi_logloss: 0.438403\n",
      "[14]\tvalid_0's multi_logloss: 0.418456\n",
      "[15]\tvalid_0's multi_logloss: 0.40017\n",
      "[16]\tvalid_0's multi_logloss: 0.383295\n",
      "[17]\tvalid_0's multi_logloss: 0.367676\n",
      "[18]\tvalid_0's multi_logloss: 0.353319\n",
      "[19]\tvalid_0's multi_logloss: 0.339981\n",
      "[20]\tvalid_0's multi_logloss: 0.32765\n",
      "[21]\tvalid_0's multi_logloss: 0.316236\n",
      "[22]\tvalid_0's multi_logloss: 0.305721\n",
      "[23]\tvalid_0's multi_logloss: 0.29591\n",
      "[24]\tvalid_0's multi_logloss: 0.286792\n",
      "[25]\tvalid_0's multi_logloss: 0.278385\n",
      "[26]\tvalid_0's multi_logloss: 0.270573\n",
      "[27]\tvalid_0's multi_logloss: 0.263338\n",
      "[28]\tvalid_0's multi_logloss: 0.256506\n",
      "[29]\tvalid_0's multi_logloss: 0.250192\n",
      "[30]\tvalid_0's multi_logloss: 0.244316\n",
      "[31]\tvalid_0's multi_logloss: 0.238867\n",
      "[32]\tvalid_0's multi_logloss: 0.233792\n",
      "[33]\tvalid_0's multi_logloss: 0.229091\n",
      "[34]\tvalid_0's multi_logloss: 0.22466\n",
      "[35]\tvalid_0's multi_logloss: 0.220501\n",
      "[36]\tvalid_0's multi_logloss: 0.216643\n",
      "[37]\tvalid_0's multi_logloss: 0.213026\n",
      "[38]\tvalid_0's multi_logloss: 0.20964\n",
      "[39]\tvalid_0's multi_logloss: 0.2065\n",
      "[40]\tvalid_0's multi_logloss: 0.203532\n",
      "[41]\tvalid_0's multi_logloss: 0.200793\n",
      "[42]\tvalid_0's multi_logloss: 0.198201\n",
      "[43]\tvalid_0's multi_logloss: 0.195766\n",
      "[44]\tvalid_0's multi_logloss: 0.193512\n",
      "[45]\tvalid_0's multi_logloss: 0.191365\n",
      "[46]\tvalid_0's multi_logloss: 0.189393\n",
      "[47]\tvalid_0's multi_logloss: 0.187535\n",
      "[48]\tvalid_0's multi_logloss: 0.185803\n",
      "[49]\tvalid_0's multi_logloss: 0.184145\n",
      "[50]\tvalid_0's multi_logloss: 0.182598\n",
      "[51]\tvalid_0's multi_logloss: 0.181143\n",
      "[52]\tvalid_0's multi_logloss: 0.179809\n",
      "[53]\tvalid_0's multi_logloss: 0.178554\n",
      "[54]\tvalid_0's multi_logloss: 0.177346\n",
      "[55]\tvalid_0's multi_logloss: 0.176216\n",
      "[56]\tvalid_0's multi_logloss: 0.175127\n",
      "[57]\tvalid_0's multi_logloss: 0.174154\n",
      "[58]\tvalid_0's multi_logloss: 0.173207\n",
      "[59]\tvalid_0's multi_logloss: 0.172315\n",
      "[60]\tvalid_0's multi_logloss: 0.171478\n",
      "[61]\tvalid_0's multi_logloss: 0.170662\n",
      "[62]\tvalid_0's multi_logloss: 0.169919\n",
      "[63]\tvalid_0's multi_logloss: 0.169224\n",
      "[64]\tvalid_0's multi_logloss: 0.168607\n",
      "[65]\tvalid_0's multi_logloss: 0.167993\n",
      "[66]\tvalid_0's multi_logloss: 0.167422\n",
      "[67]\tvalid_0's multi_logloss: 0.166868\n",
      "[68]\tvalid_0's multi_logloss: 0.166385\n",
      "[69]\tvalid_0's multi_logloss: 0.165874\n",
      "[70]\tvalid_0's multi_logloss: 0.165411\n",
      "[71]\tvalid_0's multi_logloss: 0.165\n",
      "[72]\tvalid_0's multi_logloss: 0.164574\n",
      "[73]\tvalid_0's multi_logloss: 0.164243\n",
      "[74]\tvalid_0's multi_logloss: 0.163885\n",
      "[75]\tvalid_0's multi_logloss: 0.163558\n",
      "[76]\tvalid_0's multi_logloss: 0.163202\n",
      "[77]\tvalid_0's multi_logloss: 0.162901\n",
      "[78]\tvalid_0's multi_logloss: 0.162673\n",
      "[79]\tvalid_0's multi_logloss: 0.162342\n",
      "[80]\tvalid_0's multi_logloss: 0.162088\n",
      "[81]\tvalid_0's multi_logloss: 0.16184\n",
      "[82]\tvalid_0's multi_logloss: 0.161602\n",
      "[83]\tvalid_0's multi_logloss: 0.161357\n",
      "[84]\tvalid_0's multi_logloss: 0.161139\n",
      "[85]\tvalid_0's multi_logloss: 0.160934\n"
     ]
    }
   ],
   "source": [
    "p_val = np.zeros((trn.shape[0], n_class))\n",
    "p_tst = np.zeros((tst.shape[0], n_class))\n",
    "for i, (i_trn, i_val) in enumerate(cv.split(trn, y), 1):\n",
    "    print(f'training model for CV #{i}')\n",
    "    clf = lgb.LGBMClassifier(objective='multiclass',\n",
    "                             n_estimators=1000,\n",
    "                             num_leaves=64,\n",
    "                             learning_rate=0.05,\n",
    "                             min_child_samples=10,\n",
    "                             subsample=.5,\n",
    "                             subsample_freq=1,\n",
    "                             colsample_bytree=.8,\n",
    "                             random_state=seed,\n",
    "                             n_jobs=-1)\n",
    "    clf.fit(trn[i_trn], y[i_trn],\n",
    "            eval_set=[(trn[i_val], y[i_val])],\n",
    "            eval_metric='multiclass',\n",
    "            early_stopping_rounds=10)\n",
    "    \n",
    "    p_val[i_val, :] = clf.predict_proba(trn[i_val])\n",
    "    p_tst += clf.predict_proba(tst) / n_fold"
   ]
  },
  {
   "cell_type": "code",
   "execution_count": 11,
   "metadata": {
    "ExecuteTime": {
     "end_time": "2020-10-03T04:18:52.271132Z",
     "start_time": "2020-10-03T04:18:51.912336Z"
    }
   },
   "outputs": [
    {
     "name": "stdout",
     "output_type": "stream",
     "text": [
      "93.4328%\n"
     ]
    }
   ],
   "source": [
    "\n",
    "print(f'{accuracy_score(y, np.argmax(p_val, axis=1)) * 100:.4f}%')"
   ]
  },
  {
   "cell_type": "code",
   "execution_count": 12,
   "metadata": {
    "ExecuteTime": {
     "end_time": "2020-10-03T04:18:54.298906Z",
     "start_time": "2020-10-03T04:18:53.980105Z"
    }
   },
   "outputs": [
    {
     "name": "stdout",
     "output_type": "stream",
     "text": [
      "(320000, 3) (80000, 3)\n"
     ]
    }
   ],
   "source": [
    "print(p_val.shape, p_tst.shape)"
   ]
  },
  {
   "cell_type": "code",
   "execution_count": 13,
   "metadata": {
    "ExecuteTime": {
     "end_time": "2020-10-03T04:18:58.400437Z",
     "start_time": "2020-10-03T04:18:54.957450Z"
    }
   },
   "outputs": [],
   "source": [
    "\n",
    "np.savetxt(p_val_file, p_val, fmt='%.6f', delimiter=',')\n",
    "np.savetxt(p_tst_file, p_tst, fmt='%.6f', delimiter=',')"
   ]
  },
  {
   "cell_type": "code",
   "execution_count": 14,
   "metadata": {
    "ExecuteTime": {
     "end_time": "2020-10-03T04:18:59.077050Z",
     "start_time": "2020-10-03T04:18:58.403406Z"
    }
   },
   "outputs": [
    {
     "ename": "AttributeError",
     "evalue": "'LGBMClassifier' object has no attribute 'coef_'",
     "output_type": "error",
     "traceback": [
      "\u001b[1;31m---------------------------------------------------------------------------\u001b[0m",
      "\u001b[1;31mAttributeError\u001b[0m                            Traceback (most recent call last)",
      "\u001b[1;32m<ipython-input-14-742ca016ff99>\u001b[0m in \u001b[0;36m<module>\u001b[1;34m\u001b[0m\n\u001b[1;32m----> 1\u001b[1;33m \u001b[0mclf\u001b[0m\u001b[1;33m.\u001b[0m\u001b[0mcoef_\u001b[0m\u001b[1;33m.\u001b[0m\u001b[0mshape\u001b[0m\u001b[1;33m\u001b[0m\u001b[1;33m\u001b[0m\u001b[0m\n\u001b[0m",
      "\u001b[1;31mAttributeError\u001b[0m: 'LGBMClassifier' object has no attribute 'coef_'"
     ]
    }
   ],
   "source": [
    "clf.coef_.shape"
   ]
  },
  {
   "cell_type": "code",
   "execution_count": 15,
   "metadata": {
    "ExecuteTime": {
     "end_time": "2020-10-03T04:18:59.984142Z",
     "start_time": "2020-10-03T04:18:59.290541Z"
    }
   },
   "outputs": [
    {
     "data": {
      "text/plain": [
       "<AxesSubplot:ylabel='feature'>"
      ]
     },
     "execution_count": 15,
     "metadata": {},
     "output_type": "execute_result"
    },
    {
     "data": {
      "image/png": "[encoded data removed]",
      "text/plain": [
       "<Figure size 1152x576 with 1 Axes>"
      ]
     },
     "metadata": {},
     "output_type": "display_data"
    }
   ],
   "source": [
    "imp = pd.DataFrame({'feature': feature_names, 'importance': clf.feature_importances_})\n",
    "imp = imp.sort_values('importance').set_index('feature')\n",
    "imp.plot(kind='barh')"
   ]
  },
  {
   "cell_type": "code",
   "execution_count": 16,
   "metadata": {
    "ExecuteTime": {
     "end_time": "2020-10-03T04:19:00.828497Z",
     "start_time": "2020-10-03T04:19:00.467704Z"
    }
   },
   "outputs": [
    {
     "name": "stdout",
     "output_type": "stream",
     "text": [
      "(80000, 1)\n"
     ]
    },
    {
     "data": {
      "text/html": [
       "<div>\n",
       "<style scoped>\n",
       "    .dataframe tbody tr th:only-of-type {\n",
       "        vertical-align: middle;\n",
       "    }\n",
       "\n",
       "    .dataframe tbody tr th {\n",
       "        vertical-align: top;\n",
       "    }\n",
       "\n",
       "    .dataframe thead th {\n",
       "        text-align: right;\n",
       "    }\n",
       "</style>\n",
       "<table border=\"1\" class=\"dataframe\">\n",
       "  <thead>\n",
       "    <tr style=\"text-align: right;\">\n",
       "      <th></th>\n",
       "      <th>class</th>\n",
       "    </tr>\n",
       "    <tr>\n",
       "      <th>id</th>\n",
       "      <th></th>\n",
       "    </tr>\n",
       "  </thead>\n",
       "  <tbody>\n",
       "    <tr>\n",
       "      <th>320000</th>\n",
       "      <td>0</td>\n",
       "    </tr>\n",
       "    <tr>\n",
       "      <th>320001</th>\n",
       "      <td>0</td>\n",
       "    </tr>\n",
       "    <tr>\n",
       "      <th>320002</th>\n",
       "      <td>0</td>\n",
       "    </tr>\n",
       "    <tr>\n",
       "      <th>320003</th>\n",
       "      <td>0</td>\n",
       "    </tr>\n",
       "    <tr>\n",
       "      <th>320004</th>\n",
       "      <td>0</td>\n",
       "    </tr>\n",
       "  </tbody>\n",
       "</table>\n",
       "</div>"
      ],
      "text/plain": [
       "        class\n",
       "id           \n",
       "320000      0\n",
       "320001      0\n",
       "320002      0\n",
       "320003      0\n",
       "320004      0"
      ]
     },
     "execution_count": 16,
     "metadata": {},
     "output_type": "execute_result"
    }
   ],
   "source": [
    "sub = pd.read_csv(sample_file, index_col=0)\n",
    "print(sub.shape)\n",
    "sub.head()"
   ]
  },
  {
   "cell_type": "code",
   "execution_count": 17,
   "metadata": {
    "ExecuteTime": {
     "end_time": "2020-10-03T04:19:01.541041Z",
     "start_time": "2020-10-03T04:19:01.223923Z"
    }
   },
   "outputs": [
    {
     "data": {
      "text/html": [
       "<div>\n",
       "<style scoped>\n",
       "    .dataframe tbody tr th:only-of-type {\n",
       "        vertical-align: middle;\n",
       "    }\n",
       "\n",
       "    .dataframe tbody tr th {\n",
       "        vertical-align: top;\n",
       "    }\n",
       "\n",
       "    .dataframe thead th {\n",
       "        text-align: right;\n",
       "    }\n",
       "</style>\n",
       "<table border=\"1\" class=\"dataframe\">\n",
       "  <thead>\n",
       "    <tr style=\"text-align: right;\">\n",
       "      <th></th>\n",
       "      <th>class</th>\n",
       "    </tr>\n",
       "    <tr>\n",
       "      <th>id</th>\n",
       "      <th></th>\n",
       "    </tr>\n",
       "  </thead>\n",
       "  <tbody>\n",
       "    <tr>\n",
       "      <th>320000</th>\n",
       "      <td>2</td>\n",
       "    </tr>\n",
       "    <tr>\n",
       "      <th>320001</th>\n",
       "      <td>0</td>\n",
       "    </tr>\n",
       "    <tr>\n",
       "      <th>320002</th>\n",
       "      <td>2</td>\n",
       "    </tr>\n",
       "    <tr>\n",
       "      <th>320003</th>\n",
       "      <td>0</td>\n",
       "    </tr>\n",
       "    <tr>\n",
       "      <th>320004</th>\n",
       "      <td>2</td>\n",
       "    </tr>\n",
       "  </tbody>\n",
       "</table>\n",
       "</div>"
      ],
      "text/plain": [
       "        class\n",
       "id           \n",
       "320000      2\n",
       "320001      0\n",
       "320002      2\n",
       "320003      0\n",
       "320004      2"
      ]
     },
     "execution_count": 17,
     "metadata": {},
     "output_type": "execute_result"
    }
   ],
   "source": [
    "sub[target_col] = np.argmax(p_tst, axis=1)\n",
    "sub.head()"
   ]
  },
  {
   "cell_type": "code",
   "execution_count": 18,
   "metadata": {
    "ExecuteTime": {
     "end_time": "2020-10-03T04:19:02.563438Z",
     "start_time": "2020-10-03T04:19:02.094707Z"
    }
   },
   "outputs": [
    {
     "data": {
      "text/plain": [
       "2    40872\n",
       "0    29991\n",
       "1     9137\n",
       "Name: class, dtype: int64"
      ]
     },
     "execution_count": 18,
     "metadata": {},
     "output_type": "execute_result"
    }
   ],
   "source": [
    "sub[target_col].value_counts()"
   ]
  },
  {
   "cell_type": "code",
   "execution_count": 19,
   "metadata": {
    "ExecuteTime": {
     "end_time": "2020-10-03T04:19:04.075174Z",
     "start_time": "2020-10-03T04:19:03.558422Z"
    }
   },
   "outputs": [],
   "source": [
    "sub.to_csv(sub_file)"
   ]
  },
  {
   "cell_type": "code",
   "execution_count": null,
   "metadata": {},
   "outputs": [],
   "source": []
  }
 ],
 "metadata": {
  "kernelspec": {
   "display_name": "Python 3",
   "language": "python",
   "name": "python3"
  },
  "language_info": {
   "codemirror_mode": {
    "name": "ipython",
    "version": 3
   },
   "file_extension": ".py",
   "mimetype": "text/x-python",
   "name": "python",
   "nbconvert_exporter": "python",
   "pygments_lexer": "ipython3",
   "version": "3.7.9"
  }
 },
 "nbformat": 4,
 "nbformat_minor": 4
}
