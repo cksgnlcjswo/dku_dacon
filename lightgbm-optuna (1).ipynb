{
 "cells": [
  {
   "cell_type": "code",
   "execution_count": 21,
   "metadata": {
    "ExecuteTime": {
     "end_time": "2020-10-06T06:24:21.290893Z",
     "start_time": "2020-10-06T06:24:20.568289Z"
    }
   },
   "outputs": [],
   "source": [
    "\n",
    "%reload_ext autoreload\n",
    "%autoreload 2\n",
    "%matplotlib inline"
   ]
  },
  {
   "cell_type": "code",
   "execution_count": 22,
   "metadata": {
    "ExecuteTime": {
     "end_time": "2020-10-06T06:24:25.400482Z",
     "start_time": "2020-10-06T06:24:21.800804Z"
    }
   },
   "outputs": [],
   "source": [
    "from lightgbm import LGBMClassifier\n",
    "from matplotlib import pyplot as plt\n",
    "from matplotlib import rcParams\n",
    "import numpy as np\n",
    "import optuna.integration.lightgbm as lgb\n",
    "from pathlib import Path\n",
    "import pandas as pd\n",
    "from sklearn.metrics import accuracy_score\n",
    "from sklearn.model_selection import StratifiedKFold, train_test_split\n",
    "import seaborn as sns\n",
    "import warnings"
   ]
  },
  {
   "cell_type": "code",
   "execution_count": 23,
   "metadata": {
    "ExecuteTime": {
     "end_time": "2020-10-06T06:24:28.423970Z",
     "start_time": "2020-10-06T06:24:27.622469Z"
    }
   },
   "outputs": [],
   "source": [
    "rcParams['figure.figsize'] = (16, 8)\n",
    "plt.style.use('fivethirtyeight')\n",
    "pd.set_option('max_columns', 100)\n",
    "pd.set_option(\"display.precision\", 4)\n",
    "warnings.simplefilter('ignore')"
   ]
  },
  {
   "cell_type": "code",
   "execution_count": 24,
   "metadata": {
    "ExecuteTime": {
     "end_time": "2020-10-06T06:24:29.840532Z",
     "start_time": "2020-10-06T06:24:29.043955Z"
    }
   },
   "outputs": [],
   "source": [
    "data_dir = Path('../input')\n",
    "feature_dir = Path('../feature')\n",
    "val_dir = Path('../txt')\n",
    "tst_dir = Path('../txt')\n",
    "sub_dir = Path('../submission')\n",
    "\n",
    "trn_file = data_dir / 'train.csv'\n",
    "tst_file = data_dir / 'test.csv'\n",
    "sample_file = sub_dir / 'sample_submission.csv'\n",
    "\n",
    "target_col = 'class'\n",
    "n_fold = 5\n",
    "n_class = 3\n",
    "seed = 42"
   ]
  },
  {
   "cell_type": "code",
   "execution_count": 25,
   "metadata": {
    "ExecuteTime": {
     "end_time": "2020-10-06T06:24:31.730467Z",
     "start_time": "2020-10-06T06:24:30.597452Z"
    }
   },
   "outputs": [],
   "source": [
    "algo_name = 'lgb_optuna'\n",
    "feature_name = 'feature'\n",
    "model_name = f'{algo_name}_{feature_name}'\n",
    "\n",
    "feature_file = feature_dir / f'{feature_name}.csv'\n",
    "p_val_file = val_dir / f'{model_name}.val.csv'\n",
    "p_tst_file = tst_dir / f'{model_name}.tst.csv'\n",
    "sub_file = sub_dir / f'{model_name}.csv'"
   ]
  },
  {
   "cell_type": "code",
   "execution_count": 26,
   "metadata": {
    "ExecuteTime": {
     "end_time": "2020-10-06T06:24:37.453219Z",
     "start_time": "2020-10-06T06:24:32.352138Z"
    }
   },
   "outputs": [
    {
     "name": "stdout",
     "output_type": "stream",
     "text": [
      "(400000, 26)\n"
     ]
    },
    {
     "data": {
      "text/html": [
       "<div>\n",
       "<style scoped>\n",
       "    .dataframe tbody tr th:only-of-type {\n",
       "        vertical-align: middle;\n",
       "    }\n",
       "\n",
       "    .dataframe tbody tr th {\n",
       "        vertical-align: top;\n",
       "    }\n",
       "\n",
       "    .dataframe thead th {\n",
       "        text-align: right;\n",
       "    }\n",
       "</style>\n",
       "<table border=\"1\" class=\"dataframe\">\n",
       "  <thead>\n",
       "    <tr style=\"text-align: right;\">\n",
       "      <th></th>\n",
       "      <th>z</th>\n",
       "      <th>redshift</th>\n",
       "      <th>dered_u</th>\n",
       "      <th>dered_g</th>\n",
       "      <th>dered_r</th>\n",
       "      <th>dered_i</th>\n",
       "      <th>dered_z</th>\n",
       "      <th>nObserve</th>\n",
       "      <th>airmass_u</th>\n",
       "      <th>class</th>\n",
       "      <th>g_r</th>\n",
       "      <th>u_g</th>\n",
       "      <th>r_i</th>\n",
       "      <th>i_z</th>\n",
       "      <th>u_r</th>\n",
       "      <th>d_dered_u</th>\n",
       "      <th>d_dered_g</th>\n",
       "      <th>d_dered_r</th>\n",
       "      <th>d_dered_i</th>\n",
       "      <th>d_dered_z</th>\n",
       "      <th>d_dered_ug</th>\n",
       "      <th>d_dered_gr</th>\n",
       "      <th>d_dered_iz</th>\n",
       "      <th>d_dered_ur</th>\n",
       "      <th>d_dered_ri</th>\n",
       "      <th>d_obs_det</th>\n",
       "    </tr>\n",
       "    <tr>\n",
       "      <th>id</th>\n",
       "      <th></th>\n",
       "      <th></th>\n",
       "      <th></th>\n",
       "      <th></th>\n",
       "      <th></th>\n",
       "      <th></th>\n",
       "      <th></th>\n",
       "      <th></th>\n",
       "      <th></th>\n",
       "      <th></th>\n",
       "      <th></th>\n",
       "      <th></th>\n",
       "      <th></th>\n",
       "      <th></th>\n",
       "      <th></th>\n",
       "      <th></th>\n",
       "      <th></th>\n",
       "      <th></th>\n",
       "      <th></th>\n",
       "      <th></th>\n",
       "      <th></th>\n",
       "      <th></th>\n",
       "      <th></th>\n",
       "      <th></th>\n",
       "      <th></th>\n",
       "      <th></th>\n",
       "    </tr>\n",
       "  </thead>\n",
       "  <tbody>\n",
       "    <tr>\n",
       "      <th>0</th>\n",
       "      <td>16.9396</td>\n",
       "      <td>-8.1086e-05</td>\n",
       "      <td>23.1243</td>\n",
       "      <td>20.2578</td>\n",
       "      <td>18.9551</td>\n",
       "      <td>17.6321</td>\n",
       "      <td>16.9089</td>\n",
       "      <td>1.3723</td>\n",
       "      <td>1.1898</td>\n",
       "      <td>0.0</td>\n",
       "      <td>1.3273</td>\n",
       "      <td>2.9272</td>\n",
       "      <td>1.3371</td>\n",
       "      <td>0.7328</td>\n",
       "      <td>4.2545</td>\n",
       "      <td>-0.1397</td>\n",
       "      <td>-0.0790</td>\n",
       "      <td>-0.0544</td>\n",
       "      <td>-0.0403</td>\n",
       "      <td>-0.0307</td>\n",
       "      <td>2.8665</td>\n",
       "      <td>1.3027</td>\n",
       "      <td>0.7232</td>\n",
       "      <td>4.1691</td>\n",
       "      <td>1.3230</td>\n",
       "      <td>2.1456</td>\n",
       "    </tr>\n",
       "    <tr>\n",
       "      <th>1</th>\n",
       "      <td>13.1689</td>\n",
       "      <td>4.5061e-03</td>\n",
       "      <td>14.9664</td>\n",
       "      <td>14.0045</td>\n",
       "      <td>13.4114</td>\n",
       "      <td>13.2363</td>\n",
       "      <td>13.1347</td>\n",
       "      <td>0.5266</td>\n",
       "      <td>1.2533</td>\n",
       "      <td>1.0</td>\n",
       "      <td>0.6096</td>\n",
       "      <td>0.9902</td>\n",
       "      <td>0.1840</td>\n",
       "      <td>0.0995</td>\n",
       "      <td>1.5997</td>\n",
       "      <td>-0.0857</td>\n",
       "      <td>-0.0574</td>\n",
       "      <td>-0.0410</td>\n",
       "      <td>-0.0322</td>\n",
       "      <td>-0.0343</td>\n",
       "      <td>0.9619</td>\n",
       "      <td>0.5931</td>\n",
       "      <td>0.1016</td>\n",
       "      <td>1.5550</td>\n",
       "      <td>0.1751</td>\n",
       "      <td>1.3163</td>\n",
       "    </tr>\n",
       "    <tr>\n",
       "      <th>2</th>\n",
       "      <td>15.3500</td>\n",
       "      <td>4.7198e-04</td>\n",
       "      <td>16.6076</td>\n",
       "      <td>15.6866</td>\n",
       "      <td>15.4400</td>\n",
       "      <td>15.3217</td>\n",
       "      <td>15.2961</td>\n",
       "      <td>0.7413</td>\n",
       "      <td>1.0225</td>\n",
       "      <td>0.0</td>\n",
       "      <td>0.2891</td>\n",
       "      <td>0.9610</td>\n",
       "      <td>0.1428</td>\n",
       "      <td>0.0435</td>\n",
       "      <td>1.2501</td>\n",
       "      <td>-0.1787</td>\n",
       "      <td>-0.1388</td>\n",
       "      <td>-0.0963</td>\n",
       "      <td>-0.0718</td>\n",
       "      <td>-0.0540</td>\n",
       "      <td>0.9211</td>\n",
       "      <td>0.2466</td>\n",
       "      <td>0.0257</td>\n",
       "      <td>1.1676</td>\n",
       "      <td>0.1183</td>\n",
       "      <td>1.4821</td>\n",
       "    </tr>\n",
       "    <tr>\n",
       "      <th>3</th>\n",
       "      <td>19.6346</td>\n",
       "      <td>5.8143e-06</td>\n",
       "      <td>25.3536</td>\n",
       "      <td>20.9947</td>\n",
       "      <td>20.0873</td>\n",
       "      <td>19.7947</td>\n",
       "      <td>19.5552</td>\n",
       "      <td>0.9591</td>\n",
       "      <td>1.2054</td>\n",
       "      <td>0.0</td>\n",
       "      <td>0.9676</td>\n",
       "      <td>4.4719</td>\n",
       "      <td>0.3262</td>\n",
       "      <td>0.2603</td>\n",
       "      <td>5.4395</td>\n",
       "      <td>-0.3070</td>\n",
       "      <td>-0.1941</td>\n",
       "      <td>-0.1339</td>\n",
       "      <td>-0.1003</td>\n",
       "      <td>-0.0795</td>\n",
       "      <td>4.3590</td>\n",
       "      <td>0.9074</td>\n",
       "      <td>0.2395</td>\n",
       "      <td>5.2664</td>\n",
       "      <td>0.2926</td>\n",
       "      <td>1.4454</td>\n",
       "    </tr>\n",
       "    <tr>\n",
       "      <th>4</th>\n",
       "      <td>17.9826</td>\n",
       "      <td>-3.3247e-05</td>\n",
       "      <td>23.7714</td>\n",
       "      <td>20.4338</td>\n",
       "      <td>18.8630</td>\n",
       "      <td>18.1903</td>\n",
       "      <td>17.8759</td>\n",
       "      <td>1.2917</td>\n",
       "      <td>1.1939</td>\n",
       "      <td>0.0</td>\n",
       "      <td>1.6568</td>\n",
       "      <td>3.7543</td>\n",
       "      <td>0.7182</td>\n",
       "      <td>0.3415</td>\n",
       "      <td>5.4111</td>\n",
       "      <td>-0.6820</td>\n",
       "      <td>-0.2653</td>\n",
       "      <td>-0.1794</td>\n",
       "      <td>-0.1339</td>\n",
       "      <td>-0.1067</td>\n",
       "      <td>3.3376</td>\n",
       "      <td>1.5709</td>\n",
       "      <td>0.3144</td>\n",
       "      <td>4.9084</td>\n",
       "      <td>0.6727</td>\n",
       "      <td>1.9857</td>\n",
       "    </tr>\n",
       "  </tbody>\n",
       "</table>\n",
       "</div>"
      ],
      "text/plain": [
       "          z    redshift  dered_u  dered_g  dered_r  dered_i  dered_z  \\\n",
       "id                                                                     \n",
       "0   16.9396 -8.1086e-05  23.1243  20.2578  18.9551  17.6321  16.9089   \n",
       "1   13.1689  4.5061e-03  14.9664  14.0045  13.4114  13.2363  13.1347   \n",
       "2   15.3500  4.7198e-04  16.6076  15.6866  15.4400  15.3217  15.2961   \n",
       "3   19.6346  5.8143e-06  25.3536  20.9947  20.0873  19.7947  19.5552   \n",
       "4   17.9826 -3.3247e-05  23.7714  20.4338  18.8630  18.1903  17.8759   \n",
       "\n",
       "    nObserve  airmass_u  class     g_r     u_g     r_i     i_z     u_r  \\\n",
       "id                                                                       \n",
       "0     1.3723     1.1898    0.0  1.3273  2.9272  1.3371  0.7328  4.2545   \n",
       "1     0.5266     1.2533    1.0  0.6096  0.9902  0.1840  0.0995  1.5997   \n",
       "2     0.7413     1.0225    0.0  0.2891  0.9610  0.1428  0.0435  1.2501   \n",
       "3     0.9591     1.2054    0.0  0.9676  4.4719  0.3262  0.2603  5.4395   \n",
       "4     1.2917     1.1939    0.0  1.6568  3.7543  0.7182  0.3415  5.4111   \n",
       "\n",
       "    d_dered_u  d_dered_g  d_dered_r  d_dered_i  d_dered_z  d_dered_ug  \\\n",
       "id                                                                      \n",
       "0     -0.1397    -0.0790    -0.0544    -0.0403    -0.0307      2.8665   \n",
       "1     -0.0857    -0.0574    -0.0410    -0.0322    -0.0343      0.9619   \n",
       "2     -0.1787    -0.1388    -0.0963    -0.0718    -0.0540      0.9211   \n",
       "3     -0.3070    -0.1941    -0.1339    -0.1003    -0.0795      4.3590   \n",
       "4     -0.6820    -0.2653    -0.1794    -0.1339    -0.1067      3.3376   \n",
       "\n",
       "    d_dered_gr  d_dered_iz  d_dered_ur  d_dered_ri  d_obs_det  \n",
       "id                                                             \n",
       "0       1.3027      0.7232      4.1691      1.3230     2.1456  \n",
       "1       0.5931      0.1016      1.5550      0.1751     1.3163  \n",
       "2       0.2466      0.0257      1.1676      0.1183     1.4821  \n",
       "3       0.9074      0.2395      5.2664      0.2926     1.4454  \n",
       "4       1.5709      0.3144      4.9084      0.6727     1.9857  "
      ]
     },
     "execution_count": 26,
     "metadata": {},
     "output_type": "execute_result"
    }
   ],
   "source": [
    "df = pd.read_csv(feature_file, index_col=0)\n",
    "print(df.shape)\n",
    "df.head()"
   ]
  },
  {
   "cell_type": "code",
   "execution_count": 27,
   "metadata": {
    "ExecuteTime": {
     "end_time": "2020-10-06T06:24:39.807367Z",
     "start_time": "2020-10-06T06:24:38.897888Z"
    }
   },
   "outputs": [
    {
     "name": "stdout",
     "output_type": "stream",
     "text": [
      "(320000,) (320000, 25) (80000, 25)\n"
     ]
    }
   ],
   "source": [
    "y = df[target_col].values[:320000]\n",
    "df.drop(target_col, axis=1, inplace=True)\n",
    "trn = df.iloc[:320000].values\n",
    "tst = df.iloc[320000:].values\n",
    "feature_name = df.columns.tolist()\n",
    "print(y.shape, trn.shape, tst.shape)"
   ]
  },
  {
   "cell_type": "code",
   "execution_count": 28,
   "metadata": {
    "ExecuteTime": {
     "end_time": "2020-10-06T06:24:41.553990Z",
     "start_time": "2020-10-06T06:24:40.521531Z"
    }
   },
   "outputs": [],
   "source": [
    "X_trn, X_val, y_trn, y_val = train_test_split(trn, y, test_size=.2, random_state=seed)"
   ]
  },
  {
   "cell_type": "code",
   "execution_count": 29,
   "metadata": {
    "ExecuteTime": {
     "end_time": "2020-10-06T06:24:43.526109Z",
     "start_time": "2020-10-06T06:24:42.421741Z"
    }
   },
   "outputs": [],
   "source": [
    "params = {\n",
    "    \"objective\": \"multiclass\",\n",
    "    \"metric\": \"multi_logloss\",\n",
    "    \"num_class\": 3,\n",
    "    \"n_estimators\": 1000,\n",
    "    \"subsample_freq\": 1,\n",
    "    \"lambda_l1\": 0.,\n",
    "    \"lambda_l2\": 0.,\n",
    "    \"random_state\": seed,\n",
    "    \"n_jobs\": -1,\n",
    "}"
   ]
  },
  {
   "cell_type": "code",
   "execution_count": 30,
   "metadata": {
    "ExecuteTime": {
     "end_time": "2020-10-06T07:05:39.829841Z",
     "start_time": "2020-10-06T06:24:44.776867Z"
    }
   },
   "outputs": [
    {
     "name": "stderr",
     "output_type": "stream",
     "text": [
      "[I 2020-10-06 15:24:45,747] A new study created in memory with name: no-name-9b105626-6230-4c48-b7ef-8a1cc429ec6c\n",
      "feature_fraction, val_score: inf:   0%|          | 0/7 [00:00<?, ?it/s]"
     ]
    },
    {
     "name": "stdout",
     "output_type": "stream",
     "text": [
      "[LightGBM] [Warning] Auto-choosing col-wise multi-threading, the overhead of testing was 0.085804 seconds.\n",
      "You can set `force_col_wise=true` to remove the overhead.\n",
      "[LightGBM] [Info] Total Bins 6060\n",
      "[LightGBM] [Info] Number of data points in the train set: 256000, number of used features: 25\n",
      "[LightGBM] [Info] Start training from score -0.980965\n",
      "[LightGBM] [Info] Start training from score -2.012659\n",
      "[LightGBM] [Info] Start training from score -0.710460\n",
      "Training until validation scores don't improve for 10 rounds\n",
      "Early stopping, best iteration is:\n",
      "[75]\ttraining's multi_logloss: 0.148563\tvalid_1's multi_logloss: 0.161707\n"
     ]
    },
    {
     "name": "stderr",
     "output_type": "stream",
     "text": [
      "feature_fraction, val_score: 0.161707:  14%|#4        | 1/7 [00:20<02:04, 20.82s/it][I 2020-10-06 15:25:06,583] Trial 0 finished with value: 0.1617067517283609 and parameters: {'feature_fraction': 1.0}. Best is trial 0 with value: 0.1617067517283609.\n",
      "feature_fraction, val_score: 0.161707:  14%|#4        | 1/7 [00:20<02:04, 20.82s/it]"
     ]
    },
    {
     "name": "stdout",
     "output_type": "stream",
     "text": [
      "[LightGBM] [Warning] Auto-choosing col-wise multi-threading, the overhead of testing was 0.121842 seconds.\n",
      "You can set `force_col_wise=true` to remove the overhead.\n",
      "[LightGBM] [Info] Total Bins 6060\n",
      "[LightGBM] [Info] Number of data points in the train set: 256000, number of used features: 25\n",
      "[LightGBM] [Info] Start training from score -0.980965\n",
      "[LightGBM] [Info] Start training from score -2.012659\n",
      "[LightGBM] [Info] Start training from score -0.710460\n",
      "Training until validation scores don't improve for 10 rounds\n",
      "[100]\ttraining's multi_logloss: 0.143883\tvalid_1's multi_logloss: 0.160292\n",
      "[200]\ttraining's multi_logloss: 0.131677\tvalid_1's multi_logloss: 0.158459\n",
      "Early stopping, best iteration is:\n",
      "[259]\ttraining's multi_logloss: 0.125949\tvalid_1's multi_logloss: 0.15809\n"
     ]
    },
    {
     "name": "stderr",
     "output_type": "stream",
     "text": [
      "feature_fraction, val_score: 0.158090:  29%|##8       | 2/7 [01:14<02:33, 30.71s/it][I 2020-10-06 15:26:00,378] Trial 1 finished with value: 0.15809041897531523 and parameters: {'feature_fraction': 0.8999999999999999}. Best is trial 1 with value: 0.15809041897531523.\n",
      "feature_fraction, val_score: 0.158090:  29%|##8       | 2/7 [01:14<02:33, 30.71s/it]"
     ]
    },
    {
     "name": "stdout",
     "output_type": "stream",
     "text": [
      "[LightGBM] [Warning] Auto-choosing col-wise multi-threading, the overhead of testing was 0.152078 seconds.\n",
      "You can set `force_col_wise=true` to remove the overhead.\n",
      "[LightGBM] [Info] Total Bins 6060\n",
      "[LightGBM] [Info] Number of data points in the train set: 256000, number of used features: 25\n",
      "[LightGBM] [Info] Start training from score -0.980965\n",
      "[LightGBM] [Info] Start training from score -2.012659\n",
      "[LightGBM] [Info] Start training from score -0.710460\n",
      "Training until validation scores don't improve for 10 rounds\n",
      "[100]\ttraining's multi_logloss: 0.145734\tvalid_1's multi_logloss: 0.160264\n",
      "[200]\ttraining's multi_logloss: 0.132933\tvalid_1's multi_logloss: 0.157908\n",
      "Early stopping, best iteration is:\n",
      "[235]\ttraining's multi_logloss: 0.129646\tvalid_1's multi_logloss: 0.157713\n"
     ]
    },
    {
     "name": "stderr",
     "output_type": "stream",
     "text": [
      "feature_fraction, val_score: 0.157713:  43%|####2     | 3/7 [02:18<02:42, 40.61s/it][I 2020-10-06 15:27:04,078] Trial 2 finished with value: 0.15771333644759597 and parameters: {'feature_fraction': 0.6}. Best is trial 2 with value: 0.15771333644759597.\n",
      "feature_fraction, val_score: 0.157713:  43%|####2     | 3/7 [02:18<02:42, 40.61s/it]"
     ]
    },
    {
     "name": "stdout",
     "output_type": "stream",
     "text": [
      "[LightGBM] [Warning] Auto-choosing col-wise multi-threading, the overhead of testing was 0.151584 seconds.\n",
      "You can set `force_col_wise=true` to remove the overhead.\n",
      "[LightGBM] [Info] Total Bins 6060\n",
      "[LightGBM] [Info] Number of data points in the train set: 256000, number of used features: 25\n",
      "[LightGBM] [Info] Start training from score -0.980965\n",
      "[LightGBM] [Info] Start training from score -2.012659\n",
      "[LightGBM] [Info] Start training from score -0.710460\n",
      "Training until validation scores don't improve for 10 rounds\n",
      "[100]\ttraining's multi_logloss: 0.14464\tvalid_1's multi_logloss: 0.160185\n",
      "[200]\ttraining's multi_logloss: 0.132013\tvalid_1's multi_logloss: 0.158034\n",
      "Early stopping, best iteration is:\n",
      "[233]\ttraining's multi_logloss: 0.128836\tvalid_1's multi_logloss: 0.157819\n"
     ]
    },
    {
     "name": "stderr",
     "output_type": "stream",
     "text": [
      "feature_fraction, val_score: 0.157713:  57%|#####7    | 4/7 [03:04<02:07, 42.34s/it][I 2020-10-06 15:27:50,465] Trial 3 finished with value: 0.15781911911106056 and parameters: {'feature_fraction': 0.7}. Best is trial 2 with value: 0.15771333644759597.\n",
      "feature_fraction, val_score: 0.157713:  57%|#####7    | 4/7 [03:04<02:07, 42.34s/it]"
     ]
    },
    {
     "name": "stdout",
     "output_type": "stream",
     "text": [
      "[LightGBM] [Warning] Auto-choosing col-wise multi-threading, the overhead of testing was 0.102573 seconds.\n",
      "You can set `force_col_wise=true` to remove the overhead.\n",
      "[LightGBM] [Info] Total Bins 6060\n",
      "[LightGBM] [Info] Number of data points in the train set: 256000, number of used features: 25\n",
      "[LightGBM] [Info] Start training from score -0.980965\n",
      "[LightGBM] [Info] Start training from score -2.012659\n",
      "[LightGBM] [Info] Start training from score -0.710460\n",
      "Training until validation scores don't improve for 10 rounds\n",
      "[100]\ttraining's multi_logloss: 0.146185\tvalid_1's multi_logloss: 0.160497\n",
      "Early stopping, best iteration is:\n",
      "[107]\ttraining's multi_logloss: 0.144981\tvalid_1's multi_logloss: 0.160335\n"
     ]
    },
    {
     "name": "stderr",
     "output_type": "stream",
     "text": [
      "feature_fraction, val_score: 0.157713:  71%|#######1  | 5/7 [03:26<01:12, 36.07s/it][I 2020-10-06 15:28:11,905] Trial 4 finished with value: 0.16033490595652058 and parameters: {'feature_fraction': 0.5}. Best is trial 2 with value: 0.15771333644759597.\n",
      "feature_fraction, val_score: 0.157713:  71%|#######1  | 5/7 [03:26<01:12, 36.07s/it]"
     ]
    },
    {
     "name": "stdout",
     "output_type": "stream",
     "text": [
      "[LightGBM] [Warning] Auto-choosing col-wise multi-threading, the overhead of testing was 0.084727 seconds.\n",
      "You can set `force_col_wise=true` to remove the overhead.\n",
      "[LightGBM] [Info] Total Bins 6060\n",
      "[LightGBM] [Info] Number of data points in the train set: 256000, number of used features: 25\n",
      "[LightGBM] [Info] Start training from score -0.980965\n",
      "[LightGBM] [Info] Start training from score -2.012659\n",
      "[LightGBM] [Info] Start training from score -0.710460\n",
      "Training until validation scores don't improve for 10 rounds\n",
      "[100]\ttraining's multi_logloss: 0.148933\tvalid_1's multi_logloss: 0.162193\n",
      "Early stopping, best iteration is:\n",
      "[170]\ttraining's multi_logloss: 0.138531\tvalid_1's multi_logloss: 0.158955\n"
     ]
    },
    {
     "name": "stderr",
     "output_type": "stream",
     "text": [
      "feature_fraction, val_score: 0.157713:  86%|########5 | 6/7 [03:58<00:34, 34.88s/it][I 2020-10-06 15:28:44,010] Trial 5 finished with value: 0.1589547262960009 and parameters: {'feature_fraction': 0.4}. Best is trial 2 with value: 0.15771333644759597.\n",
      "feature_fraction, val_score: 0.157713:  86%|########5 | 6/7 [03:58<00:34, 34.88s/it]"
     ]
    },
    {
     "name": "stdout",
     "output_type": "stream",
     "text": [
      "[LightGBM] [Warning] Auto-choosing col-wise multi-threading, the overhead of testing was 0.125768 seconds.\n",
      "You can set `force_col_wise=true` to remove the overhead.\n",
      "[LightGBM] [Info] Total Bins 6060\n",
      "[LightGBM] [Info] Number of data points in the train set: 256000, number of used features: 25\n",
      "[LightGBM] [Info] Start training from score -0.980965\n",
      "[LightGBM] [Info] Start training from score -2.012659\n",
      "[LightGBM] [Info] Start training from score -0.710460\n",
      "Training until validation scores don't improve for 10 rounds\n",
      "Early stopping, best iteration is:\n",
      "[82]\ttraining's multi_logloss: 0.147683\tvalid_1's multi_logloss: 0.161202\n"
     ]
    },
    {
     "name": "stderr",
     "output_type": "stream",
     "text": [
      "feature_fraction, val_score: 0.157713: 100%|##########| 7/7 [04:19<00:00, 30.86s/it][I 2020-10-06 15:29:05,485] Trial 6 finished with value: 0.16120201952254856 and parameters: {'feature_fraction': 0.8}. Best is trial 2 with value: 0.15771333644759597.\n",
      "feature_fraction, val_score: 0.157713: 100%|##########| 7/7 [04:19<00:00, 37.10s/it]\n",
      "num_leaves, val_score: 0.157713:   0%|          | 0/20 [00:00<?, ?it/s]"
     ]
    },
    {
     "name": "stdout",
     "output_type": "stream",
     "text": [
      "[LightGBM] [Warning] Auto-choosing col-wise multi-threading, the overhead of testing was 0.090930 seconds.\n",
      "You can set `force_col_wise=true` to remove the overhead.\n",
      "[LightGBM] [Info] Total Bins 6060\n",
      "[LightGBM] [Info] Number of data points in the train set: 256000, number of used features: 25\n",
      "[LightGBM] [Info] Start training from score -0.980965\n",
      "[LightGBM] [Info] Start training from score -2.012659\n",
      "[LightGBM] [Info] Start training from score -0.710460\n",
      "Training until validation scores don't improve for 10 rounds\n",
      "[100]\ttraining's multi_logloss: 0.101367\tvalid_1's multi_logloss: 0.156968\n",
      "Early stopping, best iteration is:\n",
      "[101]\ttraining's multi_logloss: 0.101049\tvalid_1's multi_logloss: 0.156935\n"
     ]
    },
    {
     "name": "stderr",
     "output_type": "stream",
     "text": [
      "num_leaves, val_score: 0.156935:   5%|5         | 1/20 [00:31<10:01, 31.65s/it][I 2020-10-06 15:29:37,175] Trial 7 finished with value: 0.15693476778164636 and parameters: {'num_leaves': 185}. Best is trial 7 with value: 0.15693476778164636.\n",
      "num_leaves, val_score: 0.156935:   5%|5         | 1/20 [00:31<10:01, 31.65s/it]"
     ]
    },
    {
     "name": "stdout",
     "output_type": "stream",
     "text": [
      "[LightGBM] [Warning] Auto-choosing col-wise multi-threading, the overhead of testing was 0.092730 seconds.\n",
      "You can set `force_col_wise=true` to remove the overhead.\n",
      "[LightGBM] [Info] Total Bins 6060\n",
      "[LightGBM] [Info] Number of data points in the train set: 256000, number of used features: 25\n",
      "[LightGBM] [Info] Start training from score -0.980965\n",
      "[LightGBM] [Info] Start training from score -2.012659\n",
      "[LightGBM] [Info] Start training from score -0.710460\n",
      "Training until validation scores don't improve for 10 rounds\n",
      "[100]\ttraining's multi_logloss: 0.13185\tvalid_1's multi_logloss: 0.158165\n",
      "Early stopping, best iteration is:\n",
      "[182]\ttraining's multi_logloss: 0.116482\tvalid_1's multi_logloss: 0.157134\n"
     ]
    },
    {
     "name": "stderr",
     "output_type": "stream",
     "text": [
      "num_leaves, val_score: 0.156935:  10%|#         | 2/20 [01:12<10:18, 34.38s/it][I 2020-10-06 15:30:17,920] Trial 8 finished with value: 0.15713385702944435 and parameters: {'num_leaves': 66}. Best is trial 7 with value: 0.15693476778164636.\n",
      "num_leaves, val_score: 0.156935:  10%|#         | 2/20 [01:12<10:18, 34.38s/it]"
     ]
    },
    {
     "name": "stdout",
     "output_type": "stream",
     "text": [
      "[LightGBM] [Warning] Auto-choosing col-wise multi-threading, the overhead of testing was 0.127382 seconds.\n",
      "You can set `force_col_wise=true` to remove the overhead.\n",
      "[LightGBM] [Info] Total Bins 6060\n",
      "[LightGBM] [Info] Number of data points in the train set: 256000, number of used features: 25\n",
      "[LightGBM] [Info] Start training from score -0.980965\n",
      "[LightGBM] [Info] Start training from score -2.012659\n",
      "[LightGBM] [Info] Start training from score -0.710460\n",
      "Training until validation scores don't improve for 10 rounds\n",
      "[100]\ttraining's multi_logloss: 0.091673\tvalid_1's multi_logloss: 0.156847\n",
      "Early stopping, best iteration is:\n",
      "[103]\ttraining's multi_logloss: 0.0904789\tvalid_1's multi_logloss: 0.156804\n"
     ]
    },
    {
     "name": "stderr",
     "output_type": "stream",
     "text": [
      "num_leaves, val_score: 0.156804:  15%|#5        | 3/20 [01:46<09:45, 34.42s/it][I 2020-10-06 15:30:52,425] Trial 9 finished with value: 0.15680387039922558 and parameters: {'num_leaves': 237}. Best is trial 9 with value: 0.15680387039922558.\n",
      "num_leaves, val_score: 0.156804:  15%|#5        | 3/20 [01:46<09:45, 34.42s/it]"
     ]
    },
    {
     "name": "stdout",
     "output_type": "stream",
     "text": [
      "[LightGBM] [Warning] Auto-choosing col-wise multi-threading, the overhead of testing was 0.092273 seconds.\n",
      "You can set `force_col_wise=true` to remove the overhead.\n",
      "[LightGBM] [Info] Total Bins 6060\n",
      "[LightGBM] [Info] Number of data points in the train set: 256000, number of used features: 25\n",
      "[LightGBM] [Info] Start training from score -0.980965\n",
      "[LightGBM] [Info] Start training from score -2.012659\n",
      "[LightGBM] [Info] Start training from score -0.710460\n",
      "Training until validation scores don't improve for 10 rounds\n",
      "[100]\ttraining's multi_logloss: 0.0882276\tvalid_1's multi_logloss: 0.157267\n",
      "Early stopping, best iteration is:\n",
      "[92]\ttraining's multi_logloss: 0.091585\tvalid_1's multi_logloss: 0.15717\n"
     ]
    },
    {
     "name": "stderr",
     "output_type": "stream",
     "text": [
      "num_leaves, val_score: 0.156804:  20%|##        | 4/20 [02:22<09:17, 34.87s/it][I 2020-10-06 15:31:28,363] Trial 10 finished with value: 0.15716976968537988 and parameters: {'num_leaves': 256}. Best is trial 9 with value: 0.15680387039922558.\n",
      "num_leaves, val_score: 0.156804:  20%|##        | 4/20 [02:22<09:17, 34.87s/it]"
     ]
    },
    {
     "name": "stdout",
     "output_type": "stream",
     "text": [
      "[LightGBM] [Warning] Auto-choosing col-wise multi-threading, the overhead of testing was 0.116726 seconds.\n",
      "You can set `force_col_wise=true` to remove the overhead.\n",
      "[LightGBM] [Info] Total Bins 6060\n",
      "[LightGBM] [Info] Number of data points in the train set: 256000, number of used features: 25\n",
      "[LightGBM] [Info] Start training from score -0.980965\n",
      "[LightGBM] [Info] Start training from score -2.012659\n",
      "[LightGBM] [Info] Start training from score -0.710460\n",
      "Training until validation scores don't improve for 10 rounds\n",
      "[100]\ttraining's multi_logloss: 0.0945333\tvalid_1's multi_logloss: 0.157339\n",
      "Early stopping, best iteration is:\n",
      "[110]\ttraining's multi_logloss: 0.0910041\tvalid_1's multi_logloss: 0.157256\n"
     ]
    },
    {
     "name": "stderr",
     "output_type": "stream",
     "text": [
      "num_leaves, val_score: 0.156804:  25%|##5       | 5/20 [03:12<09:51, 39.45s/it][I 2020-10-06 15:32:18,490] Trial 11 finished with value: 0.15725645179902506 and parameters: {'num_leaves': 221}. Best is trial 9 with value: 0.15680387039922558.\n",
      "num_leaves, val_score: 0.156804:  25%|##5       | 5/20 [03:12<09:51, 39.45s/it]"
     ]
    },
    {
     "name": "stdout",
     "output_type": "stream",
     "text": [
      "[LightGBM] [Warning] Auto-choosing col-wise multi-threading, the overhead of testing was 0.078349 seconds.\n",
      "You can set `force_col_wise=true` to remove the overhead.\n",
      "[LightGBM] [Info] Total Bins 6060\n",
      "[LightGBM] [Info] Number of data points in the train set: 256000, number of used features: 25\n",
      "[LightGBM] [Info] Start training from score -0.980965\n",
      "[LightGBM] [Info] Start training from score -2.012659\n",
      "[LightGBM] [Info] Start training from score -0.710460\n",
      "Training until validation scores don't improve for 10 rounds\n",
      "[100]\ttraining's multi_logloss: 0.106282\tvalid_1's multi_logloss: 0.157343\n",
      "Early stopping, best iteration is:\n",
      "[105]\ttraining's multi_logloss: 0.104623\tvalid_1's multi_logloss: 0.157278\n"
     ]
    },
    {
     "name": "stderr",
     "output_type": "stream",
     "text": [
      "num_leaves, val_score: 0.156804:  30%|###       | 6/20 [03:43<08:34, 36.73s/it][I 2020-10-06 15:32:48,858] Trial 12 finished with value: 0.15727805614773113 and parameters: {'num_leaves': 160}. Best is trial 9 with value: 0.15680387039922558.\n",
      "num_leaves, val_score: 0.156804:  30%|###       | 6/20 [03:43<08:34, 36.73s/it]"
     ]
    },
    {
     "name": "stdout",
     "output_type": "stream",
     "text": [
      "[LightGBM] [Warning] Auto-choosing col-wise multi-threading, the overhead of testing was 0.089133 seconds.\n",
      "You can set `force_col_wise=true` to remove the overhead.\n",
      "[LightGBM] [Info] Total Bins 6060\n",
      "[LightGBM] [Info] Number of data points in the train set: 256000, number of used features: 25\n",
      "[LightGBM] [Info] Start training from score -0.980965\n",
      "[LightGBM] [Info] Start training from score -2.012659\n",
      "[LightGBM] [Info] Start training from score -0.710460\n",
      "Training until validation scores don't improve for 10 rounds\n",
      "[100]\ttraining's multi_logloss: 0.100383\tvalid_1's multi_logloss: 0.157001\n",
      "Early stopping, best iteration is:\n",
      "[101]\ttraining's multi_logloss: 0.100049\tvalid_1's multi_logloss: 0.156961\n"
     ]
    },
    {
     "name": "stderr",
     "output_type": "stream",
     "text": [
      "num_leaves, val_score: 0.156804:  35%|###5      | 7/20 [04:17<07:47, 36.00s/it][I 2020-10-06 15:33:23,145] Trial 13 finished with value: 0.15696137220462367 and parameters: {'num_leaves': 189}. Best is trial 9 with value: 0.15680387039922558.\n",
      "num_leaves, val_score: 0.156804:  35%|###5      | 7/20 [04:17<07:47, 36.00s/it]"
     ]
    },
    {
     "name": "stdout",
     "output_type": "stream",
     "text": [
      "[LightGBM] [Warning] Auto-choosing col-wise multi-threading, the overhead of testing was 0.085018 seconds.\n",
      "You can set `force_col_wise=true` to remove the overhead.\n",
      "[LightGBM] [Info] Total Bins 6060\n",
      "[LightGBM] [Info] Number of data points in the train set: 256000, number of used features: 25\n",
      "[LightGBM] [Info] Start training from score -0.980965\n",
      "[LightGBM] [Info] Start training from score -2.012659\n",
      "[LightGBM] [Info] Start training from score -0.710460\n",
      "Training until validation scores don't improve for 10 rounds\n",
      "[100]\ttraining's multi_logloss: 0.0894568\tvalid_1's multi_logloss: 0.157168\n",
      "Early stopping, best iteration is:\n",
      "[101]\ttraining's multi_logloss: 0.0890386\tvalid_1's multi_logloss: 0.15715\n"
     ]
    },
    {
     "name": "stderr",
     "output_type": "stream",
     "text": [
      "num_leaves, val_score: 0.156804:  40%|####      | 8/20 [04:51<07:03, 35.25s/it][I 2020-10-06 15:33:56,664] Trial 14 finished with value: 0.15714952013502292 and parameters: {'num_leaves': 250}. Best is trial 9 with value: 0.15680387039922558.\n",
      "num_leaves, val_score: 0.156804:  40%|####      | 8/20 [04:51<07:03, 35.25s/it]"
     ]
    },
    {
     "name": "stdout",
     "output_type": "stream",
     "text": [
      "[LightGBM] [Warning] Auto-choosing col-wise multi-threading, the overhead of testing was 0.111808 seconds.\n",
      "You can set `force_col_wise=true` to remove the overhead.\n",
      "[LightGBM] [Info] Total Bins 6060\n",
      "[LightGBM] [Info] Number of data points in the train set: 256000, number of used features: 25\n",
      "[LightGBM] [Info] Start training from score -0.980965\n",
      "[LightGBM] [Info] Start training from score -2.012659\n",
      "[LightGBM] [Info] Start training from score -0.710460\n",
      "Training until validation scores don't improve for 10 rounds\n",
      "[100]\ttraining's multi_logloss: 0.117672\tvalid_1's multi_logloss: 0.157241\n",
      "Early stopping, best iteration is:\n",
      "[122]\ttraining's multi_logloss: 0.111457\tvalid_1's multi_logloss: 0.156993\n"
     ]
    },
    {
     "name": "stderr",
     "output_type": "stream",
     "text": [
      "num_leaves, val_score: 0.156804:  45%|####5     | 9/20 [05:24<06:20, 34.60s/it][I 2020-10-06 15:34:29,743] Trial 15 finished with value: 0.15699263863422847 and parameters: {'num_leaves': 114}. Best is trial 9 with value: 0.15680387039922558.\n",
      "num_leaves, val_score: 0.156804:  45%|####5     | 9/20 [05:24<06:20, 34.60s/it]"
     ]
    },
    {
     "name": "stdout",
     "output_type": "stream",
     "text": [
      "[LightGBM] [Warning] Auto-choosing col-wise multi-threading, the overhead of testing was 0.133276 seconds.\n",
      "You can set `force_col_wise=true` to remove the overhead.\n",
      "[LightGBM] [Info] Total Bins 6060\n",
      "[LightGBM] [Info] Number of data points in the train set: 256000, number of used features: 25\n",
      "[LightGBM] [Info] Start training from score -0.980965\n",
      "[LightGBM] [Info] Start training from score -2.012659\n",
      "[LightGBM] [Info] Start training from score -0.710460\n",
      "Training until validation scores don't improve for 10 rounds\n",
      "[100]\ttraining's multi_logloss: 0.0995927\tvalid_1's multi_logloss: 0.157173\n",
      "Early stopping, best iteration is:\n",
      "[110]\ttraining's multi_logloss: 0.0960569\tvalid_1's multi_logloss: 0.157145\n"
     ]
    },
    {
     "name": "stderr",
     "output_type": "stream",
     "text": [
      "num_leaves, val_score: 0.156804:  50%|#####     | 10/20 [05:56<05:39, 33.98s/it][I 2020-10-06 15:35:02,288] Trial 16 finished with value: 0.15714542201798395 and parameters: {'num_leaves': 193}. Best is trial 9 with value: 0.15680387039922558.\n",
      "num_leaves, val_score: 0.156804:  50%|#####     | 10/20 [05:56<05:39, 33.98s/it]"
     ]
    },
    {
     "name": "stdout",
     "output_type": "stream",
     "text": [
      "[LightGBM] [Warning] Auto-choosing col-wise multi-threading, the overhead of testing was 0.160921 seconds.\n",
      "You can set `force_col_wise=true` to remove the overhead.\n",
      "[LightGBM] [Info] Total Bins 6060\n",
      "[LightGBM] [Info] Number of data points in the train set: 256000, number of used features: 25\n",
      "[LightGBM] [Info] Start training from score -0.980965\n",
      "[LightGBM] [Info] Start training from score -2.012659\n",
      "[LightGBM] [Info] Start training from score -0.710460\n",
      "Training until validation scores don't improve for 10 rounds\n",
      "[100]\ttraining's multi_logloss: 0.112442\tvalid_1's multi_logloss: 0.157138\n",
      "Early stopping, best iteration is:\n",
      "[108]\ttraining's multi_logloss: 0.110066\tvalid_1's multi_logloss: 0.157016\n"
     ]
    },
    {
     "name": "stderr",
     "output_type": "stream",
     "text": [
      "num_leaves, val_score: 0.156804:  55%|#####5    | 11/20 [06:26<04:53, 32.63s/it][I 2020-10-06 15:35:31,754] Trial 17 finished with value: 0.1570156840563474 and parameters: {'num_leaves': 133}. Best is trial 9 with value: 0.15680387039922558.\n",
      "num_leaves, val_score: 0.156804:  55%|#####5    | 11/20 [06:26<04:53, 32.63s/it]"
     ]
    },
    {
     "name": "stdout",
     "output_type": "stream",
     "text": [
      "[LightGBM] [Warning] Auto-choosing col-wise multi-threading, the overhead of testing was 0.084036 seconds.\n",
      "You can set `force_col_wise=true` to remove the overhead.\n",
      "[LightGBM] [Info] Total Bins 6060\n",
      "[LightGBM] [Info] Number of data points in the train set: 256000, number of used features: 25\n",
      "[LightGBM] [Info] Start training from score -0.980965\n",
      "[LightGBM] [Info] Start training from score -2.012659\n",
      "[LightGBM] [Info] Start training from score -0.710460\n",
      "Training until validation scores don't improve for 10 rounds\n",
      "[100]\ttraining's multi_logloss: 0.0952246\tvalid_1's multi_logloss: 0.157052\n",
      "Early stopping, best iteration is:\n",
      "[103]\ttraining's multi_logloss: 0.0942304\tvalid_1's multi_logloss: 0.156988\n"
     ]
    },
    {
     "name": "stderr",
     "output_type": "stream",
     "text": [
      "num_leaves, val_score: 0.156804:  60%|######    | 12/20 [06:58<04:19, 32.39s/it][I 2020-10-06 15:36:03,585] Trial 18 finished with value: 0.15698769324772413 and parameters: {'num_leaves': 215}. Best is trial 9 with value: 0.15680387039922558.\n",
      "num_leaves, val_score: 0.156804:  60%|######    | 12/20 [06:58<04:19, 32.39s/it]"
     ]
    },
    {
     "name": "stdout",
     "output_type": "stream",
     "text": [
      "[LightGBM] [Warning] Auto-choosing col-wise multi-threading, the overhead of testing was 0.090286 seconds.\n",
      "You can set `force_col_wise=true` to remove the overhead.\n",
      "[LightGBM] [Info] Total Bins 6060\n",
      "[LightGBM] [Info] Number of data points in the train set: 256000, number of used features: 25\n",
      "[LightGBM] [Info] Start training from score -0.980965\n",
      "[LightGBM] [Info] Start training from score -2.012659\n",
      "[LightGBM] [Info] Start training from score -0.710460\n",
      "Training until validation scores don't improve for 10 rounds\n",
      "[100]\ttraining's multi_logloss: 0.0881386\tvalid_1's multi_logloss: 0.157268\n",
      "Early stopping, best iteration is:\n",
      "[91]\ttraining's multi_logloss: 0.0919224\tvalid_1's multi_logloss: 0.157208\n"
     ]
    },
    {
     "name": "stderr",
     "output_type": "stream",
     "text": [
      "num_leaves, val_score: 0.156804:  65%|######5   | 13/20 [07:30<03:47, 32.44s/it][I 2020-10-06 15:36:36,149] Trial 19 finished with value: 0.15720787924794113 and parameters: {'num_leaves': 255}. Best is trial 9 with value: 0.15680387039922558.\n",
      "num_leaves, val_score: 0.156804:  65%|######5   | 13/20 [07:30<03:47, 32.44s/it]"
     ]
    },
    {
     "name": "stdout",
     "output_type": "stream",
     "text": [
      "[LightGBM] [Warning] Auto-choosing col-wise multi-threading, the overhead of testing was 0.093325 seconds.\n",
      "You can set `force_col_wise=true` to remove the overhead.\n",
      "[LightGBM] [Info] Total Bins 6060\n",
      "[LightGBM] [Info] Number of data points in the train set: 256000, number of used features: 25\n",
      "[LightGBM] [Info] Start training from score -0.980965\n",
      "[LightGBM] [Info] Start training from score -2.012659\n",
      "[LightGBM] [Info] Start training from score -0.710460\n",
      "Training until validation scores don't improve for 10 rounds\n",
      "[100]\ttraining's multi_logloss: 0.106282\tvalid_1's multi_logloss: 0.157343\n",
      "Early stopping, best iteration is:\n",
      "[105]\ttraining's multi_logloss: 0.104623\tvalid_1's multi_logloss: 0.157278\n"
     ]
    },
    {
     "name": "stderr",
     "output_type": "stream",
     "text": [
      "num_leaves, val_score: 0.156804:  70%|#######   | 14/20 [08:03<03:16, 32.71s/it][I 2020-10-06 15:37:09,494] Trial 20 finished with value: 0.15727805614773113 and parameters: {'num_leaves': 160}. Best is trial 9 with value: 0.15680387039922558.\n",
      "num_leaves, val_score: 0.156804:  70%|#######   | 14/20 [08:03<03:16, 32.71s/it]"
     ]
    },
    {
     "name": "stdout",
     "output_type": "stream",
     "text": [
      "[LightGBM] [Warning] Auto-choosing col-wise multi-threading, the overhead of testing was 0.082190 seconds.\n",
      "You can set `force_col_wise=true` to remove the overhead.\n",
      "[LightGBM] [Info] Total Bins 6060\n",
      "[LightGBM] [Info] Number of data points in the train set: 256000, number of used features: 25\n",
      "[LightGBM] [Info] Start training from score -0.980965\n",
      "[LightGBM] [Info] Start training from score -2.012659\n",
      "[LightGBM] [Info] Start training from score -0.710460\n",
      "Training until validation scores don't improve for 10 rounds\n",
      "[100]\ttraining's multi_logloss: 0.101891\tvalid_1's multi_logloss: 0.157109\n",
      "Early stopping, best iteration is:\n",
      "[104]\ttraining's multi_logloss: 0.100361\tvalid_1's multi_logloss: 0.157087\n"
     ]
    },
    {
     "name": "stderr",
     "output_type": "stream",
     "text": [
      "num_leaves, val_score: 0.156804:  75%|#######5  | 15/20 [08:40<02:49, 33.94s/it][I 2020-10-06 15:37:46,283] Trial 21 finished with value: 0.15708659945280412 and parameters: {'num_leaves': 182}. Best is trial 9 with value: 0.15680387039922558.\n",
      "num_leaves, val_score: 0.156804:  75%|#######5  | 15/20 [08:40<02:49, 33.94s/it]"
     ]
    },
    {
     "name": "stdout",
     "output_type": "stream",
     "text": [
      "[LightGBM] [Warning] Auto-choosing col-wise multi-threading, the overhead of testing was 0.105374 seconds.\n",
      "You can set `force_col_wise=true` to remove the overhead.\n",
      "[LightGBM] [Info] Total Bins 6060\n",
      "[LightGBM] [Info] Number of data points in the train set: 256000, number of used features: 25\n",
      "[LightGBM] [Info] Start training from score -0.980965\n",
      "[LightGBM] [Info] Start training from score -2.012659\n",
      "[LightGBM] [Info] Start training from score -0.710460\n",
      "Training until validation scores don't improve for 10 rounds\n",
      "[100]\ttraining's multi_logloss: 0.0961535\tvalid_1's multi_logloss: 0.157202\n",
      "Early stopping, best iteration is:\n",
      "[92]\ttraining's multi_logloss: 0.0989763\tvalid_1's multi_logloss: 0.157168\n"
     ]
    },
    {
     "name": "stderr",
     "output_type": "stream",
     "text": [
      "num_leaves, val_score: 0.156804:  80%|########  | 16/20 [09:20<02:22, 35.64s/it][I 2020-10-06 15:38:25,905] Trial 22 finished with value: 0.15716778097645998 and parameters: {'num_leaves': 213}. Best is trial 9 with value: 0.15680387039922558.\n",
      "num_leaves, val_score: 0.156804:  80%|########  | 16/20 [09:20<02:22, 35.64s/it]"
     ]
    },
    {
     "name": "stdout",
     "output_type": "stream",
     "text": [
      "[LightGBM] [Warning] Auto-choosing col-wise multi-threading, the overhead of testing was 0.081324 seconds.\n",
      "You can set `force_col_wise=true` to remove the overhead.\n",
      "[LightGBM] [Info] Total Bins 6060\n",
      "[LightGBM] [Info] Number of data points in the train set: 256000, number of used features: 25\n",
      "[LightGBM] [Info] Start training from score -0.980965\n",
      "[LightGBM] [Info] Start training from score -2.012659\n",
      "[LightGBM] [Info] Start training from score -0.710460\n",
      "Training until validation scores don't improve for 10 rounds\n",
      "[100]\ttraining's multi_logloss: 0.103018\tvalid_1's multi_logloss: 0.157055\n",
      "Early stopping, best iteration is:\n",
      "[96]\ttraining's multi_logloss: 0.104372\tvalid_1's multi_logloss: 0.157046\n"
     ]
    },
    {
     "name": "stderr",
     "output_type": "stream",
     "text": [
      "num_leaves, val_score: 0.156804:  85%|########5 | 17/20 [09:52<01:43, 34.63s/it][I 2020-10-06 15:38:58,190] Trial 23 finished with value: 0.15704649597686554 and parameters: {'num_leaves': 178}. Best is trial 9 with value: 0.15680387039922558.\n",
      "num_leaves, val_score: 0.156804:  85%|########5 | 17/20 [09:52<01:43, 34.63s/it]"
     ]
    },
    {
     "name": "stdout",
     "output_type": "stream",
     "text": [
      "[LightGBM] [Warning] Auto-choosing col-wise multi-threading, the overhead of testing was 0.088974 seconds.\n",
      "You can set `force_col_wise=true` to remove the overhead.\n",
      "[LightGBM] [Info] Total Bins 6060\n",
      "[LightGBM] [Info] Number of data points in the train set: 256000, number of used features: 25\n",
      "[LightGBM] [Info] Start training from score -0.980965\n",
      "[LightGBM] [Info] Start training from score -2.012659\n",
      "[LightGBM] [Info] Start training from score -0.710460\n",
      "Training until validation scores don't improve for 10 rounds\n",
      "Early stopping, best iteration is:\n",
      "[89]\ttraining's multi_logloss: 0.0972762\tvalid_1's multi_logloss: 0.157356\n"
     ]
    },
    {
     "name": "stderr",
     "output_type": "stream",
     "text": [
      "num_leaves, val_score: 0.156804:  90%|######### | 18/20 [10:26<01:09, 34.51s/it][I 2020-10-06 15:39:32,401] Trial 24 finished with value: 0.1573555521598015 and parameters: {'num_leaves': 230}. Best is trial 9 with value: 0.15680387039922558.\n",
      "num_leaves, val_score: 0.156804:  90%|######### | 18/20 [10:26<01:09, 34.51s/it]"
     ]
    },
    {
     "name": "stdout",
     "output_type": "stream",
     "text": [
      "[LightGBM] [Warning] Auto-choosing col-wise multi-threading, the overhead of testing was 0.080133 seconds.\n",
      "You can set `force_col_wise=true` to remove the overhead.\n",
      "[LightGBM] [Info] Total Bins 6060\n",
      "[LightGBM] [Info] Number of data points in the train set: 256000, number of used features: 25\n",
      "[LightGBM] [Info] Start training from score -0.980965\n",
      "[LightGBM] [Info] Start training from score -2.012659\n",
      "[LightGBM] [Info] Start training from score -0.710460\n",
      "Training until validation scores don't improve for 10 rounds\n",
      "[100]\ttraining's multi_logloss: 0.115825\tvalid_1's multi_logloss: 0.157226\n",
      "Early stopping, best iteration is:\n",
      "[111]\ttraining's multi_logloss: 0.112565\tvalid_1's multi_logloss: 0.157097\n"
     ]
    },
    {
     "name": "stderr",
     "output_type": "stream",
     "text": [
      "num_leaves, val_score: 0.156804:  95%|#########5| 19/20 [11:08<00:36, 36.53s/it][I 2020-10-06 15:40:13,655] Trial 25 finished with value: 0.15709736289324908 and parameters: {'num_leaves': 121}. Best is trial 9 with value: 0.15680387039922558.\n",
      "num_leaves, val_score: 0.156804:  95%|#########5| 19/20 [11:08<00:36, 36.53s/it]"
     ]
    },
    {
     "name": "stdout",
     "output_type": "stream",
     "text": [
      "[LightGBM] [Warning] Auto-choosing col-wise multi-threading, the overhead of testing was 0.167653 seconds.\n",
      "You can set `force_col_wise=true` to remove the overhead.\n",
      "[LightGBM] [Info] Total Bins 6060\n",
      "[LightGBM] [Info] Number of data points in the train set: 256000, number of used features: 25\n",
      "[LightGBM] [Info] Start training from score -0.980965\n",
      "[LightGBM] [Info] Start training from score -2.012659\n",
      "[LightGBM] [Info] Start training from score -0.710460\n",
      "Training until validation scores don't improve for 10 rounds\n",
      "[100]\ttraining's multi_logloss: 0.214287\tvalid_1's multi_logloss: 0.215521\n",
      "[200]\ttraining's multi_logloss: 0.202271\tvalid_1's multi_logloss: 0.204313\n",
      "[300]\ttraining's multi_logloss: 0.19733\tvalid_1's multi_logloss: 0.199804\n",
      "[400]\ttraining's multi_logloss: 0.194366\tvalid_1's multi_logloss: 0.197111\n",
      "[500]\ttraining's multi_logloss: 0.192391\tvalid_1's multi_logloss: 0.195315\n",
      "[600]\ttraining's multi_logloss: 0.190995\tvalid_1's multi_logloss: 0.194063\n",
      "[700]\ttraining's multi_logloss: 0.189969\tvalid_1's multi_logloss: 0.19318\n",
      "[800]\ttraining's multi_logloss: 0.189182\tvalid_1's multi_logloss: 0.192515\n",
      "[900]\ttraining's multi_logloss: 0.188555\tvalid_1's multi_logloss: 0.191968\n",
      "[1000]\ttraining's multi_logloss: 0.188036\tvalid_1's multi_logloss: 0.191545\n",
      "Did not meet early stopping. Best iteration is:\n",
      "[1000]\ttraining's multi_logloss: 0.188036\tvalid_1's multi_logloss: 0.191545\n"
     ]
    },
    {
     "name": "stderr",
     "output_type": "stream",
     "text": [
      "num_leaves, val_score: 0.156804: 100%|##########| 20/20 [13:28<00:00, 67.78s/it][I 2020-10-06 15:42:34,358] Trial 26 finished with value: 0.19154527524911957 and parameters: {'num_leaves': 2}. Best is trial 9 with value: 0.15680387039922558.\n",
      "num_leaves, val_score: 0.156804: 100%|##########| 20/20 [13:28<00:00, 40.44s/it]\n",
      "bagging, val_score: 0.156804:   0%|          | 0/10 [00:00<?, ?it/s]"
     ]
    },
    {
     "name": "stdout",
     "output_type": "stream",
     "text": [
      "[LightGBM] [Warning] Auto-choosing col-wise multi-threading, the overhead of testing was 0.079726 seconds.\n",
      "You can set `force_col_wise=true` to remove the overhead.\n",
      "[LightGBM] [Info] Total Bins 6060\n",
      "[LightGBM] [Info] Number of data points in the train set: 256000, number of used features: 25\n",
      "[LightGBM] [Info] Start training from score -0.980965\n",
      "[LightGBM] [Info] Start training from score -2.012659\n",
      "[LightGBM] [Info] Start training from score -0.710460\n",
      "Training until validation scores don't improve for 10 rounds\n",
      "[100]\ttraining's multi_logloss: 0.0897603\tvalid_1's multi_logloss: 0.158597\n",
      "Early stopping, best iteration is:\n",
      "[94]\ttraining's multi_logloss: 0.092583\tvalid_1's multi_logloss: 0.158581\n"
     ]
    },
    {
     "name": "stderr",
     "output_type": "stream",
     "text": [
      "bagging, val_score: 0.156804:  10%|#         | 1/10 [00:37<05:36, 37.40s/it][I 2020-10-06 15:43:11,799] Trial 27 finished with value: 0.15858086690081266 and parameters: {'bagging_fraction': 0.6539619545127894, 'bagging_freq': 1}. Best is trial 27 with value: 0.15858086690081266.\n",
      "bagging, val_score: 0.156804:  10%|#         | 1/10 [00:37<05:36, 37.40s/it]"
     ]
    },
    {
     "name": "stdout",
     "output_type": "stream",
     "text": [
      "[LightGBM] [Warning] Auto-choosing col-wise multi-threading, the overhead of testing was 0.088016 seconds.\n",
      "You can set `force_col_wise=true` to remove the overhead.\n",
      "[LightGBM] [Info] Total Bins 6060\n",
      "[LightGBM] [Info] Number of data points in the train set: 256000, number of used features: 25\n",
      "[LightGBM] [Info] Start training from score -0.980965\n",
      "[LightGBM] [Info] Start training from score -2.012659\n",
      "[LightGBM] [Info] Start training from score -0.710460\n",
      "Training until validation scores don't improve for 10 rounds\n",
      "[100]\ttraining's multi_logloss: 0.0915338\tvalid_1's multi_logloss: 0.1569\n",
      "Early stopping, best iteration is:\n",
      "[97]\ttraining's multi_logloss: 0.0928843\tvalid_1's multi_logloss: 0.156884\n"
     ]
    },
    {
     "name": "stderr",
     "output_type": "stream",
     "text": [
      "bagging, val_score: 0.156804:  20%|##        | 2/10 [01:16<05:02, 37.85s/it][I 2020-10-06 15:43:50,709] Trial 28 finished with value: 0.15688353226631738 and parameters: {'bagging_fraction': 0.9763923224038545, 'bagging_freq': 7}. Best is trial 28 with value: 0.15688353226631738.\n",
      "bagging, val_score: 0.156804:  20%|##        | 2/10 [01:16<05:02, 37.85s/it]"
     ]
    },
    {
     "name": "stdout",
     "output_type": "stream",
     "text": [
      "[LightGBM] [Warning] Auto-choosing col-wise multi-threading, the overhead of testing was 0.090251 seconds.\n",
      "You can set `force_col_wise=true` to remove the overhead.\n",
      "[LightGBM] [Info] Total Bins 6060\n",
      "[LightGBM] [Info] Number of data points in the train set: 256000, number of used features: 25\n",
      "[LightGBM] [Info] Start training from score -0.980965\n",
      "[LightGBM] [Info] Start training from score -2.012659\n",
      "[LightGBM] [Info] Start training from score -0.710460\n",
      "Training until validation scores don't improve for 10 rounds\n",
      "[100]\ttraining's multi_logloss: 0.0911914\tvalid_1's multi_logloss: 0.157413\n",
      "Early stopping, best iteration is:\n",
      "[100]\ttraining's multi_logloss: 0.0911914\tvalid_1's multi_logloss: 0.157413\n"
     ]
    },
    {
     "name": "stderr",
     "output_type": "stream",
     "text": [
      "bagging, val_score: 0.156804:  30%|###       | 3/10 [02:05<04:49, 41.31s/it][I 2020-10-06 15:44:40,065] Trial 29 finished with value: 0.1574128835043251 and parameters: {'bagging_fraction': 0.999286654290796, 'bagging_freq': 7}. Best is trial 28 with value: 0.15688353226631738.\n",
      "bagging, val_score: 0.156804:  30%|###       | 3/10 [02:05<04:49, 41.31s/it]"
     ]
    },
    {
     "name": "stdout",
     "output_type": "stream",
     "text": [
      "[LightGBM] [Warning] Auto-choosing col-wise multi-threading, the overhead of testing was 0.085020 seconds.\n",
      "You can set `force_col_wise=true` to remove the overhead.\n",
      "[LightGBM] [Info] Total Bins 6060\n",
      "[LightGBM] [Info] Number of data points in the train set: 256000, number of used features: 25\n",
      "[LightGBM] [Info] Start training from score -0.980965\n",
      "[LightGBM] [Info] Start training from score -2.012659\n",
      "[LightGBM] [Info] Start training from score -0.710460\n",
      "Training until validation scores don't improve for 10 rounds\n",
      "[100]\ttraining's multi_logloss: 0.0913625\tvalid_1's multi_logloss: 0.157107\n",
      "Early stopping, best iteration is:\n",
      "[103]\ttraining's multi_logloss: 0.0902049\tvalid_1's multi_logloss: 0.157084\n"
     ]
    },
    {
     "name": "stderr",
     "output_type": "stream",
     "text": [
      "bagging, val_score: 0.156804:  40%|####      | 4/10 [02:47<04:07, 41.31s/it][I 2020-10-06 15:45:21,402] Trial 30 finished with value: 0.1570837696507969 and parameters: {'bagging_fraction': 0.9974014255284737, 'bagging_freq': 7}. Best is trial 28 with value: 0.15688353226631738.\n",
      "bagging, val_score: 0.156804:  40%|####      | 4/10 [02:47<04:07, 41.31s/it]"
     ]
    },
    {
     "name": "stdout",
     "output_type": "stream",
     "text": [
      "[LightGBM] [Warning] Auto-choosing col-wise multi-threading, the overhead of testing was 0.082408 seconds.\n",
      "You can set `force_col_wise=true` to remove the overhead.\n",
      "[LightGBM] [Info] Total Bins 6060\n",
      "[LightGBM] [Info] Number of data points in the train set: 256000, number of used features: 25\n",
      "[LightGBM] [Info] Start training from score -0.980965\n",
      "[LightGBM] [Info] Start training from score -2.012659\n",
      "[LightGBM] [Info] Start training from score -0.710460\n",
      "Training until validation scores don't improve for 10 rounds\n",
      "Early stopping, best iteration is:\n",
      "[87]\ttraining's multi_logloss: 0.099448\tvalid_1's multi_logloss: 0.160786\n"
     ]
    },
    {
     "name": "stderr",
     "output_type": "stream",
     "text": [
      "bagging, val_score: 0.156804:  50%|#####     | 5/10 [03:26<03:23, 40.70s/it][I 2020-10-06 15:46:00,672] Trial 31 finished with value: 0.16078564896672232 and parameters: {'bagging_fraction': 0.4020233937050774, 'bagging_freq': 4}. Best is trial 28 with value: 0.15688353226631738.\n",
      "bagging, val_score: 0.156804:  50%|#####     | 5/10 [03:26<03:23, 40.70s/it]"
     ]
    },
    {
     "name": "stdout",
     "output_type": "stream",
     "text": [
      "[LightGBM] [Warning] Auto-choosing col-wise multi-threading, the overhead of testing was 0.104195 seconds.\n",
      "You can set `force_col_wise=true` to remove the overhead.\n",
      "[LightGBM] [Info] Total Bins 6060\n",
      "[LightGBM] [Info] Number of data points in the train set: 256000, number of used features: 25\n",
      "[LightGBM] [Info] Start training from score -0.980965\n",
      "[LightGBM] [Info] Start training from score -2.012659\n",
      "[LightGBM] [Info] Start training from score -0.710460\n",
      "Training until validation scores don't improve for 10 rounds\n",
      "[100]\ttraining's multi_logloss: 0.090329\tvalid_1's multi_logloss: 0.157518\n",
      "Early stopping, best iteration is:\n",
      "[92]\ttraining's multi_logloss: 0.0940053\tvalid_1's multi_logloss: 0.157379\n"
     ]
    },
    {
     "name": "stderr",
     "output_type": "stream",
     "text": [
      "bagging, val_score: 0.156804:  60%|######    | 6/10 [04:03<02:38, 39.64s/it][I 2020-10-06 15:46:37,820] Trial 32 finished with value: 0.15737942419403222 and parameters: {'bagging_fraction': 0.7901653963484876, 'bagging_freq': 5}. Best is trial 28 with value: 0.15688353226631738.\n",
      "bagging, val_score: 0.156804:  60%|######    | 6/10 [04:03<02:38, 39.64s/it]"
     ]
    },
    {
     "name": "stdout",
     "output_type": "stream",
     "text": [
      "[LightGBM] [Warning] Auto-choosing col-wise multi-threading, the overhead of testing was 0.083816 seconds.\n",
      "You can set `force_col_wise=true` to remove the overhead.\n",
      "[LightGBM] [Info] Total Bins 6060\n",
      "[LightGBM] [Info] Number of data points in the train set: 256000, number of used features: 25\n",
      "[LightGBM] [Info] Start training from score -0.980965\n",
      "[LightGBM] [Info] Start training from score -2.012659\n",
      "[LightGBM] [Info] Start training from score -0.710460\n",
      "Training until validation scores don't improve for 10 rounds\n",
      "Early stopping, best iteration is:\n",
      "[89]\ttraining's multi_logloss: 0.0951603\tvalid_1's multi_logloss: 0.157553\n"
     ]
    },
    {
     "name": "stderr",
     "output_type": "stream",
     "text": [
      "bagging, val_score: 0.156804:  70%|#######   | 7/10 [04:34<01:51, 37.08s/it][I 2020-10-06 15:47:08,931] Trial 33 finished with value: 0.15755289264242384 and parameters: {'bagging_fraction': 0.7730688269783044, 'bagging_freq': 1}. Best is trial 28 with value: 0.15688353226631738.\n",
      "bagging, val_score: 0.156804:  70%|#######   | 7/10 [04:34<01:51, 37.08s/it]"
     ]
    },
    {
     "name": "stdout",
     "output_type": "stream",
     "text": [
      "[LightGBM] [Warning] Auto-choosing col-wise multi-threading, the overhead of testing was 0.084754 seconds.\n",
      "You can set `force_col_wise=true` to remove the overhead.\n",
      "[LightGBM] [Info] Total Bins 6060\n",
      "[LightGBM] [Info] Number of data points in the train set: 256000, number of used features: 25\n",
      "[LightGBM] [Info] Start training from score -0.980965\n",
      "[LightGBM] [Info] Start training from score -2.012659\n",
      "[LightGBM] [Info] Start training from score -0.710460\n",
      "Training until validation scores don't improve for 10 rounds\n",
      "Early stopping, best iteration is:\n",
      "[85]\ttraining's multi_logloss: 0.0991076\tvalid_1's multi_logloss: 0.159315\n"
     ]
    },
    {
     "name": "stderr",
     "output_type": "stream",
     "text": [
      "bagging, val_score: 0.156804:  80%|########  | 8/10 [05:11<01:14, 37.08s/it][I 2020-10-06 15:47:46,011] Trial 34 finished with value: 0.15931474972514473 and parameters: {'bagging_fraction': 0.567371600796335, 'bagging_freq': 6}. Best is trial 28 with value: 0.15688353226631738.\n",
      "bagging, val_score: 0.156804:  80%|########  | 8/10 [05:11<01:14, 37.08s/it]"
     ]
    },
    {
     "name": "stdout",
     "output_type": "stream",
     "text": [
      "[LightGBM] [Warning] Auto-choosing col-wise multi-threading, the overhead of testing was 0.096894 seconds.\n",
      "You can set `force_col_wise=true` to remove the overhead.\n",
      "[LightGBM] [Info] Total Bins 6060\n",
      "[LightGBM] [Info] Number of data points in the train set: 256000, number of used features: 25\n",
      "[LightGBM] [Info] Start training from score -0.980965\n",
      "[LightGBM] [Info] Start training from score -2.012659\n",
      "[LightGBM] [Info] Start training from score -0.710460\n",
      "Training until validation scores don't improve for 10 rounds\n",
      "[100]\ttraining's multi_logloss: 0.0909926\tvalid_1's multi_logloss: 0.157464\n",
      "Early stopping, best iteration is:\n",
      "[91]\ttraining's multi_logloss: 0.0948525\tvalid_1's multi_logloss: 0.157417\n"
     ]
    },
    {
     "name": "stderr",
     "output_type": "stream",
     "text": [
      "bagging, val_score: 0.156804:  90%|######### | 9/10 [05:58<00:39, 39.95s/it][I 2020-10-06 15:48:32,666] Trial 35 finished with value: 0.1574165951191167 and parameters: {'bagging_fraction': 0.8972925408802401, 'bagging_freq': 3}. Best is trial 28 with value: 0.15688353226631738.\n",
      "bagging, val_score: 0.156804:  90%|######### | 9/10 [05:58<00:39, 39.95s/it]"
     ]
    },
    {
     "name": "stdout",
     "output_type": "stream",
     "text": [
      "[LightGBM] [Warning] Auto-choosing col-wise multi-threading, the overhead of testing was 0.102484 seconds.\n",
      "You can set `force_col_wise=true` to remove the overhead.\n",
      "[LightGBM] [Info] Total Bins 6060\n",
      "[LightGBM] [Info] Number of data points in the train set: 256000, number of used features: 25\n",
      "[LightGBM] [Info] Start training from score -0.980965\n",
      "[LightGBM] [Info] Start training from score -2.012659\n",
      "[LightGBM] [Info] Start training from score -0.710460\n",
      "Training until validation scores don't improve for 10 rounds\n",
      "Early stopping, best iteration is:\n",
      "[85]\ttraining's multi_logloss: 0.100256\tvalid_1's multi_logloss: 0.160526\n"
     ]
    },
    {
     "name": "stderr",
     "output_type": "stream",
     "text": [
      "bagging, val_score: 0.156804: 100%|##########| 10/10 [06:34<00:00, 38.73s/it][I 2020-10-06 15:49:08,558] Trial 36 finished with value: 0.16052581380856532 and parameters: {'bagging_fraction': 0.4003111613900376, 'bagging_freq': 3}. Best is trial 28 with value: 0.15688353226631738.\n",
      "bagging, val_score: 0.156804: 100%|##########| 10/10 [06:34<00:00, 39.42s/it]\n",
      "feature_fraction_stage2, val_score: 0.156804:   0%|          | 0/6 [00:00<?, ?it/s]"
     ]
    },
    {
     "name": "stdout",
     "output_type": "stream",
     "text": [
      "[LightGBM] [Warning] Auto-choosing col-wise multi-threading, the overhead of testing was 0.102116 seconds.\n",
      "You can set `force_col_wise=true` to remove the overhead.\n",
      "[LightGBM] [Info] Total Bins 6060\n",
      "[LightGBM] [Info] Number of data points in the train set: 256000, number of used features: 25\n",
      "[LightGBM] [Info] Start training from score -0.980965\n",
      "[LightGBM] [Info] Start training from score -2.012659\n",
      "[LightGBM] [Info] Start training from score -0.710460\n",
      "Training until validation scores don't improve for 10 rounds\n",
      "[100]\ttraining's multi_logloss: 0.0907285\tvalid_1's multi_logloss: 0.156706\n",
      "Early stopping, best iteration is:\n",
      "[98]\ttraining's multi_logloss: 0.0914043\tvalid_1's multi_logloss: 0.156658\n"
     ]
    },
    {
     "name": "stderr",
     "output_type": "stream",
     "text": [
      "feature_fraction_stage2, val_score: 0.156658:  17%|#6        | 1/6 [00:27<02:19, 27.86s/it][I 2020-10-06 15:49:36,451] Trial 37 finished with value: 0.15665757486065057 and parameters: {'feature_fraction': 0.6799999999999999}. Best is trial 37 with value: 0.15665757486065057.\n",
      "feature_fraction_stage2, val_score: 0.156658:  17%|#6        | 1/6 [00:27<02:19, 27.86s/it]"
     ]
    },
    {
     "name": "stdout",
     "output_type": "stream",
     "text": [
      "[LightGBM] [Warning] Auto-choosing col-wise multi-threading, the overhead of testing was 0.074270 seconds.\n",
      "You can set `force_col_wise=true` to remove the overhead.\n",
      "[LightGBM] [Info] Total Bins 6060\n",
      "[LightGBM] [Info] Number of data points in the train set: 256000, number of used features: 25\n",
      "[LightGBM] [Info] Start training from score -0.980965\n",
      "[LightGBM] [Info] Start training from score -2.012659\n",
      "[LightGBM] [Info] Start training from score -0.710460\n",
      "Training until validation scores don't improve for 10 rounds\n",
      "[100]\ttraining's multi_logloss: 0.091673\tvalid_1's multi_logloss: 0.156847\n",
      "Early stopping, best iteration is:\n",
      "[103]\ttraining's multi_logloss: 0.0904789\tvalid_1's multi_logloss: 0.156804\n"
     ]
    },
    {
     "name": "stderr",
     "output_type": "stream",
     "text": [
      "feature_fraction_stage2, val_score: 0.156658:  33%|###3      | 2/6 [00:54<01:50, 27.58s/it][I 2020-10-06 15:50:03,398] Trial 38 finished with value: 0.15680387039922558 and parameters: {'feature_fraction': 0.616}. Best is trial 37 with value: 0.15665757486065057.\n",
      "feature_fraction_stage2, val_score: 0.156658:  33%|###3      | 2/6 [00:54<01:50, 27.58s/it]"
     ]
    },
    {
     "name": "stdout",
     "output_type": "stream",
     "text": [
      "[LightGBM] [Warning] Auto-choosing col-wise multi-threading, the overhead of testing was 0.080214 seconds.\n",
      "You can set `force_col_wise=true` to remove the overhead.\n",
      "[LightGBM] [Info] Total Bins 6060\n",
      "[LightGBM] [Info] Number of data points in the train set: 256000, number of used features: 25\n",
      "[LightGBM] [Info] Start training from score -0.980965\n",
      "[LightGBM] [Info] Start training from score -2.012659\n",
      "[LightGBM] [Info] Start training from score -0.710460\n",
      "Training until validation scores don't improve for 10 rounds\n",
      "[100]\ttraining's multi_logloss: 0.0909994\tvalid_1's multi_logloss: 0.157037\n",
      "Early stopping, best iteration is:\n",
      "[106]\ttraining's multi_logloss: 0.0889755\tvalid_1's multi_logloss: 0.156981\n"
     ]
    },
    {
     "name": "stderr",
     "output_type": "stream",
     "text": [
      "feature_fraction_stage2, val_score: 0.156658:  50%|#####     | 3/6 [01:22<01:23, 27.75s/it][I 2020-10-06 15:50:31,525] Trial 39 finished with value: 0.15698077248289216 and parameters: {'feature_fraction': 0.6479999999999999}. Best is trial 37 with value: 0.15665757486065057.\n",
      "feature_fraction_stage2, val_score: 0.156658:  50%|#####     | 3/6 [01:23<01:23, 27.75s/it]"
     ]
    },
    {
     "name": "stdout",
     "output_type": "stream",
     "text": [
      "[LightGBM] [Warning] Auto-choosing col-wise multi-threading, the overhead of testing was 0.075507 seconds.\n",
      "You can set `force_col_wise=true` to remove the overhead.\n",
      "[LightGBM] [Info] Total Bins 6060\n",
      "[LightGBM] [Info] Number of data points in the train set: 256000, number of used features: 25\n",
      "[LightGBM] [Info] Start training from score -0.980965\n",
      "[LightGBM] [Info] Start training from score -2.012659\n",
      "[LightGBM] [Info] Start training from score -0.710460\n",
      "Training until validation scores don't improve for 10 rounds\n",
      "[100]\ttraining's multi_logloss: 0.0923607\tvalid_1's multi_logloss: 0.157151\n",
      "Early stopping, best iteration is:\n",
      "[100]\ttraining's multi_logloss: 0.0923607\tvalid_1's multi_logloss: 0.157151\n"
     ]
    },
    {
     "name": "stderr",
     "output_type": "stream",
     "text": [
      "feature_fraction_stage2, val_score: 0.156658:  67%|######6   | 4/6 [01:49<00:54, 27.29s/it][I 2020-10-06 15:50:57,743] Trial 40 finished with value: 0.15715089881518987 and parameters: {'feature_fraction': 0.52}. Best is trial 37 with value: 0.15665757486065057.\n",
      "feature_fraction_stage2, val_score: 0.156658:  67%|######6   | 4/6 [01:49<00:54, 27.29s/it]"
     ]
    },
    {
     "name": "stdout",
     "output_type": "stream",
     "text": [
      "[LightGBM] [Warning] Auto-choosing col-wise multi-threading, the overhead of testing was 0.072396 seconds.\n",
      "You can set `force_col_wise=true` to remove the overhead.\n",
      "[LightGBM] [Info] Total Bins 6060\n",
      "[LightGBM] [Info] Number of data points in the train set: 256000, number of used features: 25\n",
      "[LightGBM] [Info] Start training from score -0.980965\n",
      "[LightGBM] [Info] Start training from score -2.012659\n",
      "[LightGBM] [Info] Start training from score -0.710460\n",
      "Training until validation scores don't improve for 10 rounds\n",
      "[100]\ttraining's multi_logloss: 0.0920963\tvalid_1's multi_logloss: 0.156964\n",
      "Early stopping, best iteration is:\n",
      "[104]\ttraining's multi_logloss: 0.0905273\tvalid_1's multi_logloss: 0.156938\n"
     ]
    },
    {
     "name": "stderr",
     "output_type": "stream",
     "text": [
      "feature_fraction_stage2, val_score: 0.156658:  83%|########3 | 5/6 [02:19<00:28, 28.28s/it][I 2020-10-06 15:51:28,342] Trial 41 finished with value: 0.1569384652781081 and parameters: {'feature_fraction': 0.552}. Best is trial 37 with value: 0.15665757486065057.\n",
      "feature_fraction_stage2, val_score: 0.156658:  83%|########3 | 5/6 [02:19<00:28, 28.28s/it]"
     ]
    },
    {
     "name": "stdout",
     "output_type": "stream",
     "text": [
      "[LightGBM] [Warning] Auto-choosing col-wise multi-threading, the overhead of testing was 0.110947 seconds.\n",
      "You can set `force_col_wise=true` to remove the overhead.\n",
      "[LightGBM] [Info] Total Bins 6060\n",
      "[LightGBM] [Info] Number of data points in the train set: 256000, number of used features: 25\n",
      "[LightGBM] [Info] Start training from score -0.980965\n",
      "[LightGBM] [Info] Start training from score -2.012659\n",
      "[LightGBM] [Info] Start training from score -0.710460\n",
      "Training until validation scores don't improve for 10 rounds\n",
      "[100]\ttraining's multi_logloss: 0.091673\tvalid_1's multi_logloss: 0.156847\n",
      "Early stopping, best iteration is:\n",
      "[103]\ttraining's multi_logloss: 0.0904789\tvalid_1's multi_logloss: 0.156804\n"
     ]
    },
    {
     "name": "stderr",
     "output_type": "stream",
     "text": [
      "feature_fraction_stage2, val_score: 0.156658: 100%|##########| 6/6 [02:55<00:00, 30.65s/it][I 2020-10-06 15:52:04,527] Trial 42 finished with value: 0.15680387039922558 and parameters: {'feature_fraction': 0.584}. Best is trial 37 with value: 0.15665757486065057.\n",
      "feature_fraction_stage2, val_score: 0.156658: 100%|##########| 6/6 [02:55<00:00, 29.32s/it]\n",
      "regularization_factors, val_score: 0.156658:   0%|          | 0/20 [00:00<?, ?it/s]"
     ]
    },
    {
     "name": "stdout",
     "output_type": "stream",
     "text": [
      "[LightGBM] [Warning] Auto-choosing col-wise multi-threading, the overhead of testing was 0.067168 seconds.\n",
      "You can set `force_col_wise=true` to remove the overhead.\n",
      "[LightGBM] [Info] Total Bins 6060\n",
      "[LightGBM] [Info] Number of data points in the train set: 256000, number of used features: 25\n",
      "[LightGBM] [Info] Start training from score -0.980965\n",
      "[LightGBM] [Info] Start training from score -2.012659\n",
      "[LightGBM] [Info] Start training from score -0.710460\n",
      "Training until validation scores don't improve for 10 rounds\n",
      "[100]\ttraining's multi_logloss: 0.0906069\tvalid_1's multi_logloss: 0.156627\n",
      "Early stopping, best iteration is:\n",
      "[98]\ttraining's multi_logloss: 0.0915183\tvalid_1's multi_logloss: 0.156535\n"
     ]
    },
    {
     "name": "stderr",
     "output_type": "stream",
     "text": [
      "regularization_factors, val_score: 0.156535:   5%|5         | 1/20 [00:33<10:28, 33.07s/it][I 2020-10-06 15:52:37,622] Trial 43 finished with value: 0.1565346545850017 and parameters: {'lambda_l1': 7.700053421427285e-06, 'lambda_l2': 5.626169212347464e-05}. Best is trial 43 with value: 0.1565346545850017.\n",
      "regularization_factors, val_score: 0.156535:   5%|5         | 1/20 [00:33<10:28, 33.07s/it]"
     ]
    },
    {
     "name": "stdout",
     "output_type": "stream",
     "text": [
      "[LightGBM] [Warning] Auto-choosing col-wise multi-threading, the overhead of testing was 0.082050 seconds.\n",
      "You can set `force_col_wise=true` to remove the overhead.\n",
      "[LightGBM] [Info] Total Bins 6060\n",
      "[LightGBM] [Info] Number of data points in the train set: 256000, number of used features: 25\n",
      "[LightGBM] [Info] Start training from score -0.980965\n",
      "[LightGBM] [Info] Start training from score -2.012659\n",
      "[LightGBM] [Info] Start training from score -0.710460\n",
      "Training until validation scores don't improve for 10 rounds\n",
      "[100]\ttraining's multi_logloss: 0.0906274\tvalid_1's multi_logloss: 0.156859\n",
      "Early stopping, best iteration is:\n",
      "[93]\ttraining's multi_logloss: 0.0935601\tvalid_1's multi_logloss: 0.156763\n"
     ]
    },
    {
     "name": "stderr",
     "output_type": "stream",
     "text": [
      "regularization_factors, val_score: 0.156535:  10%|#         | 2/20 [01:04<09:47, 32.63s/it][I 2020-10-06 15:53:09,241] Trial 44 finished with value: 0.15676340039602044 and parameters: {'lambda_l1': 2.6298591849918232e-06, 'lambda_l2': 3.2208178033716364e-05}. Best is trial 43 with value: 0.1565346545850017.\n",
      "regularization_factors, val_score: 0.156535:  10%|#         | 2/20 [01:04<09:47, 32.63s/it]"
     ]
    },
    {
     "name": "stdout",
     "output_type": "stream",
     "text": [
      "[LightGBM] [Warning] Auto-choosing col-wise multi-threading, the overhead of testing was 0.082767 seconds.\n",
      "You can set `force_col_wise=true` to remove the overhead.\n",
      "[LightGBM] [Info] Total Bins 6060\n",
      "[LightGBM] [Info] Number of data points in the train set: 256000, number of used features: 25\n",
      "[LightGBM] [Info] Start training from score -0.980965\n",
      "[LightGBM] [Info] Start training from score -2.012659\n",
      "[LightGBM] [Info] Start training from score -0.710460\n",
      "Training until validation scores don't improve for 10 rounds\n",
      "[100]\ttraining's multi_logloss: 0.0906275\tvalid_1's multi_logloss: 0.156859\n",
      "Early stopping, best iteration is:\n",
      "[93]\ttraining's multi_logloss: 0.0935602\tvalid_1's multi_logloss: 0.156763\n"
     ]
    },
    {
     "name": "stderr",
     "output_type": "stream",
     "text": [
      "regularization_factors, val_score: 0.156535:  15%|#5        | 3/20 [01:37<09:16, 32.75s/it][I 2020-10-06 15:53:42,259] Trial 45 finished with value: 0.15676339339317108 and parameters: {'lambda_l1': 4.182693990680983e-06, 'lambda_l2': 4.086413068780176e-05}. Best is trial 43 with value: 0.1565346545850017.\n",
      "regularization_factors, val_score: 0.156535:  15%|#5        | 3/20 [01:37<09:16, 32.75s/it]"
     ]
    },
    {
     "name": "stdout",
     "output_type": "stream",
     "text": [
      "[LightGBM] [Warning] Auto-choosing col-wise multi-threading, the overhead of testing was 0.097308 seconds.\n",
      "You can set `force_col_wise=true` to remove the overhead.\n",
      "[LightGBM] [Info] Total Bins 6060\n",
      "[LightGBM] [Info] Number of data points in the train set: 256000, number of used features: 25\n",
      "[LightGBM] [Info] Start training from score -0.980965\n",
      "[LightGBM] [Info] Start training from score -2.012659\n",
      "[LightGBM] [Info] Start training from score -0.710460\n",
      "Training until validation scores don't improve for 10 rounds\n",
      "[100]\ttraining's multi_logloss: 0.0906275\tvalid_1's multi_logloss: 0.156859\n",
      "Early stopping, best iteration is:\n",
      "[93]\ttraining's multi_logloss: 0.0935602\tvalid_1's multi_logloss: 0.156763\n"
     ]
    },
    {
     "name": "stderr",
     "output_type": "stream",
     "text": [
      "regularization_factors, val_score: 0.156535:  20%|##        | 4/20 [02:10<08:43, 32.74s/it][I 2020-10-06 15:54:14,990] Trial 46 finished with value: 0.15676339299136338 and parameters: {'lambda_l1': 3.3902680326104685e-06, 'lambda_l2': 4.2195608129804806e-05}. Best is trial 43 with value: 0.1565346545850017.\n",
      "regularization_factors, val_score: 0.156535:  20%|##        | 4/20 [02:10<08:43, 32.74s/it]"
     ]
    },
    {
     "name": "stdout",
     "output_type": "stream",
     "text": [
      "[LightGBM] [Warning] Auto-choosing col-wise multi-threading, the overhead of testing was 0.089262 seconds.\n",
      "You can set `force_col_wise=true` to remove the overhead.\n",
      "[LightGBM] [Info] Total Bins 6060\n",
      "[LightGBM] [Info] Number of data points in the train set: 256000, number of used features: 25\n",
      "[LightGBM] [Info] Start training from score -0.980965\n",
      "[LightGBM] [Info] Start training from score -2.012659\n",
      "[LightGBM] [Info] Start training from score -0.710460\n",
      "Training until validation scores don't improve for 10 rounds\n",
      "[100]\ttraining's multi_logloss: 0.0903162\tvalid_1's multi_logloss: 0.157052\n",
      "Early stopping, best iteration is:\n",
      "[98]\ttraining's multi_logloss: 0.0911304\tvalid_1's multi_logloss: 0.156987\n"
     ]
    },
    {
     "name": "stderr",
     "output_type": "stream",
     "text": [
      "regularization_factors, val_score: 0.156535:  25%|##5       | 5/20 [02:42<08:07, 32.50s/it][I 2020-10-06 15:54:46,925] Trial 47 finished with value: 0.15698673258152795 and parameters: {'lambda_l1': 3.5615974668962767e-06, 'lambda_l2': 6.251205457622922e-05}. Best is trial 43 with value: 0.1565346545850017.\n",
      "regularization_factors, val_score: 0.156535:  25%|##5       | 5/20 [02:42<08:07, 32.50s/it]"
     ]
    },
    {
     "name": "stdout",
     "output_type": "stream",
     "text": [
      "[LightGBM] [Warning] Auto-choosing col-wise multi-threading, the overhead of testing was 0.105452 seconds.\n",
      "You can set `force_col_wise=true` to remove the overhead.\n",
      "[LightGBM] [Info] Total Bins 6060\n",
      "[LightGBM] [Info] Number of data points in the train set: 256000, number of used features: 25\n",
      "[LightGBM] [Info] Start training from score -0.980965\n",
      "[LightGBM] [Info] Start training from score -2.012659\n",
      "[LightGBM] [Info] Start training from score -0.710460\n",
      "Training until validation scores don't improve for 10 rounds\n",
      "[100]\ttraining's multi_logloss: 0.0906276\tvalid_1's multi_logloss: 0.156859\n",
      "Early stopping, best iteration is:\n",
      "[93]\ttraining's multi_logloss: 0.0935602\tvalid_1's multi_logloss: 0.156763\n"
     ]
    },
    {
     "name": "stderr",
     "output_type": "stream",
     "text": [
      "regularization_factors, val_score: 0.156535:  30%|###       | 6/20 [03:12<07:26, 31.87s/it][I 2020-10-06 15:55:17,314] Trial 48 finished with value: 0.15676340162094907 and parameters: {'lambda_l1': 3.59477495753407e-06, 'lambda_l2': 4.395053292038933e-05}. Best is trial 43 with value: 0.1565346545850017.\n",
      "regularization_factors, val_score: 0.156535:  30%|###       | 6/20 [03:12<07:26, 31.87s/it]"
     ]
    },
    {
     "name": "stdout",
     "output_type": "stream",
     "text": [
      "[LightGBM] [Warning] Auto-choosing col-wise multi-threading, the overhead of testing was 0.072617 seconds.\n",
      "You can set `force_col_wise=true` to remove the overhead.\n",
      "[LightGBM] [Info] Total Bins 6060\n",
      "[LightGBM] [Info] Number of data points in the train set: 256000, number of used features: 25\n",
      "[LightGBM] [Info] Start training from score -0.980965\n",
      "[LightGBM] [Info] Start training from score -2.012659\n",
      "[LightGBM] [Info] Start training from score -0.710460\n",
      "Training until validation scores don't improve for 10 rounds\n",
      "[100]\ttraining's multi_logloss: 0.0906275\tvalid_1's multi_logloss: 0.156859\n",
      "Early stopping, best iteration is:\n",
      "[93]\ttraining's multi_logloss: 0.0935602\tvalid_1's multi_logloss: 0.156763\n"
     ]
    },
    {
     "name": "stderr",
     "output_type": "stream",
     "text": [
      "regularization_factors, val_score: 0.156535:  35%|###5      | 7/20 [03:46<07:02, 32.53s/it][I 2020-10-06 15:55:51,388] Trial 49 finished with value: 0.15676340478986722 and parameters: {'lambda_l1': 5.1605735875721735e-06, 'lambda_l2': 3.787189400485706e-05}. Best is trial 43 with value: 0.1565346545850017.\n",
      "regularization_factors, val_score: 0.156535:  35%|###5      | 7/20 [03:46<07:02, 32.53s/it]"
     ]
    },
    {
     "name": "stdout",
     "output_type": "stream",
     "text": [
      "[LightGBM] [Warning] Auto-choosing col-wise multi-threading, the overhead of testing was 0.089120 seconds.\n",
      "You can set `force_col_wise=true` to remove the overhead.\n",
      "[LightGBM] [Info] Total Bins 6060\n",
      "[LightGBM] [Info] Number of data points in the train set: 256000, number of used features: 25\n",
      "[LightGBM] [Info] Start training from score -0.980965\n",
      "[LightGBM] [Info] Start training from score -2.012659\n",
      "[LightGBM] [Info] Start training from score -0.710460\n",
      "Training until validation scores don't improve for 10 rounds\n",
      "[100]\ttraining's multi_logloss: 0.0906274\tvalid_1's multi_logloss: 0.156859\n",
      "Early stopping, best iteration is:\n",
      "[93]\ttraining's multi_logloss: 0.0935601\tvalid_1's multi_logloss: 0.156763\n"
     ]
    },
    {
     "name": "stderr",
     "output_type": "stream",
     "text": [
      "regularization_factors, val_score: 0.156535:  40%|####      | 8/20 [04:22<06:41, 33.42s/it][I 2020-10-06 15:56:26,884] Trial 50 finished with value: 0.1567634108527408 and parameters: {'lambda_l1': 3.7438573411164865e-06, 'lambda_l2': 3.0455151262396264e-05}. Best is trial 43 with value: 0.1565346545850017.\n",
      "regularization_factors, val_score: 0.156535:  40%|####      | 8/20 [04:22<06:41, 33.42s/it]"
     ]
    },
    {
     "name": "stdout",
     "output_type": "stream",
     "text": [
      "[LightGBM] [Warning] Auto-choosing col-wise multi-threading, the overhead of testing was 0.111603 seconds.\n",
      "You can set `force_col_wise=true` to remove the overhead.\n",
      "[LightGBM] [Info] Total Bins 6060\n",
      "[LightGBM] [Info] Number of data points in the train set: 256000, number of used features: 25\n",
      "[LightGBM] [Info] Start training from score -0.980965\n",
      "[LightGBM] [Info] Start training from score -2.012659\n",
      "[LightGBM] [Info] Start training from score -0.710460\n",
      "Training until validation scores don't improve for 10 rounds\n",
      "[100]\ttraining's multi_logloss: 0.0906068\tvalid_1's multi_logloss: 0.156627\n",
      "Early stopping, best iteration is:\n",
      "[98]\ttraining's multi_logloss: 0.0915182\tvalid_1's multi_logloss: 0.156535\n"
     ]
    },
    {
     "name": "stderr",
     "output_type": "stream",
     "text": [
      "regularization_factors, val_score: 0.156535:  45%|####5     | 9/20 [04:53<06:01, 32.84s/it][I 2020-10-06 15:56:58,371] Trial 51 finished with value: 0.15653482525071524 and parameters: {'lambda_l1': 2.7257000701031737e-06, 'lambda_l2': 5.188333763412821e-05}. Best is trial 43 with value: 0.1565346545850017.\n",
      "regularization_factors, val_score: 0.156535:  45%|####5     | 9/20 [04:53<06:01, 32.84s/it]"
     ]
    },
    {
     "name": "stdout",
     "output_type": "stream",
     "text": [
      "[LightGBM] [Warning] Auto-choosing col-wise multi-threading, the overhead of testing was 0.084919 seconds.\n",
      "You can set `force_col_wise=true` to remove the overhead.\n",
      "[LightGBM] [Info] Total Bins 6060\n",
      "[LightGBM] [Info] Number of data points in the train set: 256000, number of used features: 25\n",
      "[LightGBM] [Info] Start training from score -0.980965\n",
      "[LightGBM] [Info] Start training from score -2.012659\n",
      "[LightGBM] [Info] Start training from score -0.710460\n",
      "Training until validation scores don't improve for 10 rounds\n",
      "[100]\ttraining's multi_logloss: 0.0906068\tvalid_1's multi_logloss: 0.156627\n",
      "Early stopping, best iteration is:\n",
      "[98]\ttraining's multi_logloss: 0.0915182\tvalid_1's multi_logloss: 0.156535\n"
     ]
    },
    {
     "name": "stderr",
     "output_type": "stream",
     "text": [
      "regularization_factors, val_score: 0.156535:  50%|#####     | 10/20 [05:31<05:42, 34.21s/it][I 2020-10-06 15:57:35,787] Trial 52 finished with value: 0.15653482689030607 and parameters: {'lambda_l1': 2.1821396401064746e-06, 'lambda_l2': 5.0481398162402835e-05}. Best is trial 43 with value: 0.1565346545850017.\n",
      "regularization_factors, val_score: 0.156535:  50%|#####     | 10/20 [05:31<05:42, 34.21s/it]"
     ]
    },
    {
     "name": "stdout",
     "output_type": "stream",
     "text": [
      "[LightGBM] [Warning] Auto-choosing col-wise multi-threading, the overhead of testing was 0.108701 seconds.\n",
      "You can set `force_col_wise=true` to remove the overhead.\n",
      "[LightGBM] [Info] Total Bins 6060\n",
      "[LightGBM] [Info] Number of data points in the train set: 256000, number of used features: 25\n",
      "[LightGBM] [Info] Start training from score -0.980965\n",
      "[LightGBM] [Info] Start training from score -2.012659\n",
      "[LightGBM] [Info] Start training from score -0.710460\n",
      "Training until validation scores don't improve for 10 rounds\n",
      "[LightGBM] [Warning] No further splits with positive gain, best gain: -inf\n",
      "[LightGBM] [Warning] No further splits with positive gain, best gain: -inf\n",
      "[LightGBM] [Warning] No further splits with positive gain, best gain: -inf\n",
      "[LightGBM] [Warning] No further splits with positive gain, best gain: -inf\n",
      "[LightGBM] [Warning] No further splits with positive gain, best gain: -inf\n",
      "[100]\ttraining's multi_logloss: 0.0905884\tvalid_1's multi_logloss: 0.157143\n",
      "[LightGBM] [Warning] No further splits with positive gain, best gain: -inf\n",
      "Early stopping, best iteration is:\n",
      "[96]\ttraining's multi_logloss: 0.0921355\tvalid_1's multi_logloss: 0.157078\n"
     ]
    },
    {
     "name": "stderr",
     "output_type": "stream",
     "text": [
      "regularization_factors, val_score: 0.156535:  55%|#####5    | 11/20 [06:13<05:28, 36.49s/it][I 2020-10-06 15:58:17,607] Trial 53 finished with value: 0.15707753433313604 and parameters: {'lambda_l1': 3.973337897423386e-07, 'lambda_l2': 0.009910978493804914}. Best is trial 43 with value: 0.1565346545850017.\n",
      "regularization_factors, val_score: 0.156535:  55%|#####5    | 11/20 [06:13<05:28, 36.49s/it]"
     ]
    },
    {
     "name": "stdout",
     "output_type": "stream",
     "text": [
      "[LightGBM] [Warning] Auto-choosing col-wise multi-threading, the overhead of testing was 0.125540 seconds.\n",
      "You can set `force_col_wise=true` to remove the overhead.\n",
      "[LightGBM] [Info] Total Bins 6060\n",
      "[LightGBM] [Info] Number of data points in the train set: 256000, number of used features: 25\n",
      "[LightGBM] [Info] Start training from score -0.980965\n",
      "[LightGBM] [Info] Start training from score -2.012659\n",
      "[LightGBM] [Info] Start training from score -0.710460\n",
      "Training until validation scores don't improve for 10 rounds\n",
      "[LightGBM] [Warning] No further splits with positive gain, best gain: -inf\n",
      "[LightGBM] [Warning] No further splits with positive gain, best gain: -inf\n",
      "[LightGBM] [Warning] No further splits with positive gain, best gain: -inf\n",
      "[LightGBM] [Warning] No further splits with positive gain, best gain: -inf\n",
      "[LightGBM] [Warning] No further splits with positive gain, best gain: -inf\n",
      "[LightGBM] [Warning] No further splits with positive gain, best gain: -inf\n",
      "Early stopping, best iteration is:\n",
      "[88]\ttraining's multi_logloss: 0.0957456\tvalid_1's multi_logloss: 0.156812\n"
     ]
    },
    {
     "name": "stderr",
     "output_type": "stream",
     "text": [
      "regularization_factors, val_score: 0.156535:  60%|######    | 12/20 [06:52<04:58, 37.25s/it][I 2020-10-06 15:58:56,631] Trial 54 finished with value: 0.15681197869912603 and parameters: {'lambda_l1': 0.0019930076800397586, 'lambda_l2': 2.337192655451412e-07}. Best is trial 43 with value: 0.1565346545850017.\n",
      "regularization_factors, val_score: 0.156535:  60%|######    | 12/20 [06:52<04:58, 37.25s/it]"
     ]
    },
    {
     "name": "stdout",
     "output_type": "stream",
     "text": [
      "[LightGBM] [Warning] Auto-choosing col-wise multi-threading, the overhead of testing was 0.072817 seconds.\n",
      "You can set `force_col_wise=true` to remove the overhead.\n",
      "[LightGBM] [Info] Total Bins 6060\n",
      "[LightGBM] [Info] Number of data points in the train set: 256000, number of used features: 25\n",
      "[LightGBM] [Info] Start training from score -0.980965\n",
      "[LightGBM] [Info] Start training from score -2.012659\n",
      "[LightGBM] [Info] Start training from score -0.710460\n",
      "Training until validation scores don't improve for 10 rounds\n",
      "Early stopping, best iteration is:\n",
      "[85]\ttraining's multi_logloss: 0.0970747\tvalid_1's multi_logloss: 0.157423\n"
     ]
    },
    {
     "name": "stderr",
     "output_type": "stream",
     "text": [
      "regularization_factors, val_score: 0.156535:  65%|######5   | 13/20 [07:24<04:09, 35.66s/it][I 2020-10-06 15:59:28,569] Trial 55 finished with value: 0.1574228856235996 and parameters: {'lambda_l1': 8.209064479765404e-05, 'lambda_l2': 0.00133213287089073}. Best is trial 43 with value: 0.1565346545850017.\n",
      "regularization_factors, val_score: 0.156535:  65%|######5   | 13/20 [07:24<04:09, 35.66s/it]"
     ]
    },
    {
     "name": "stdout",
     "output_type": "stream",
     "text": [
      "[LightGBM] [Warning] Auto-choosing col-wise multi-threading, the overhead of testing was 0.082149 seconds.\n",
      "You can set `force_col_wise=true` to remove the overhead.\n",
      "[LightGBM] [Info] Total Bins 6060\n",
      "[LightGBM] [Info] Number of data points in the train set: 256000, number of used features: 25\n",
      "[LightGBM] [Info] Start training from score -0.980965\n",
      "[LightGBM] [Info] Start training from score -2.012659\n",
      "[LightGBM] [Info] Start training from score -0.710460\n",
      "Training until validation scores don't improve for 10 rounds\n",
      "[100]\ttraining's multi_logloss: 0.0907285\tvalid_1's multi_logloss: 0.156706\n",
      "Early stopping, best iteration is:\n",
      "[98]\ttraining's multi_logloss: 0.0914043\tvalid_1's multi_logloss: 0.156658\n"
     ]
    },
    {
     "name": "stderr",
     "output_type": "stream",
     "text": [
      "regularization_factors, val_score: 0.156535:  70%|#######   | 14/20 [07:53<03:23, 33.92s/it][I 2020-10-06 15:59:58,425] Trial 56 finished with value: 0.15665757393404162 and parameters: {'lambda_l1': 3.031087431460285e-08, 'lambda_l2': 1.0551608194360948e-06}. Best is trial 43 with value: 0.1565346545850017.\n",
      "regularization_factors, val_score: 0.156535:  70%|#######   | 14/20 [07:53<03:23, 33.92s/it]"
     ]
    },
    {
     "name": "stdout",
     "output_type": "stream",
     "text": [
      "[LightGBM] [Warning] Auto-choosing col-wise multi-threading, the overhead of testing was 0.071581 seconds.\n",
      "You can set `force_col_wise=true` to remove the overhead.\n",
      "[LightGBM] [Info] Total Bins 6060\n",
      "[LightGBM] [Info] Number of data points in the train set: 256000, number of used features: 25\n",
      "[LightGBM] [Info] Start training from score -0.980965\n",
      "[LightGBM] [Info] Start training from score -2.012659\n",
      "[LightGBM] [Info] Start training from score -0.710460\n",
      "Training until validation scores don't improve for 10 rounds\n",
      "[100]\ttraining's multi_logloss: 0.0907285\tvalid_1's multi_logloss: 0.156706\n",
      "Early stopping, best iteration is:\n",
      "[98]\ttraining's multi_logloss: 0.0914043\tvalid_1's multi_logloss: 0.156658\n"
     ]
    },
    {
     "name": "stderr",
     "output_type": "stream",
     "text": [
      "regularization_factors, val_score: 0.156535:  75%|#######5  | 15/20 [08:24<02:44, 32.85s/it][I 2020-10-06 16:00:28,785] Trial 57 finished with value: 0.1566575744425873 and parameters: {'lambda_l1': 2.051183919795635e-08, 'lambda_l2': 4.6991261353684615e-07}. Best is trial 43 with value: 0.1565346545850017.\n",
      "regularization_factors, val_score: 0.156535:  75%|#######5  | 15/20 [08:24<02:44, 32.85s/it]"
     ]
    },
    {
     "name": "stdout",
     "output_type": "stream",
     "text": [
      "[LightGBM] [Warning] Auto-choosing col-wise multi-threading, the overhead of testing was 0.090734 seconds.\n",
      "You can set `force_col_wise=true` to remove the overhead.\n",
      "[LightGBM] [Info] Total Bins 6060\n",
      "[LightGBM] [Info] Number of data points in the train set: 256000, number of used features: 25\n",
      "[LightGBM] [Info] Start training from score -0.980965\n",
      "[LightGBM] [Info] Start training from score -2.012659\n",
      "[LightGBM] [Info] Start training from score -0.710460\n",
      "Training until validation scores don't improve for 10 rounds\n",
      "[100]\ttraining's multi_logloss: 0.0907285\tvalid_1's multi_logloss: 0.156706\n",
      "Early stopping, best iteration is:\n",
      "[98]\ttraining's multi_logloss: 0.0914043\tvalid_1's multi_logloss: 0.156658\n"
     ]
    },
    {
     "name": "stderr",
     "output_type": "stream",
     "text": [
      "regularization_factors, val_score: 0.156535:  80%|########  | 16/20 [08:54<02:08, 32.15s/it][I 2020-10-06 16:00:59,311] Trial 58 finished with value: 0.15665757477796652 and parameters: {'lambda_l1': 2.3495566778418965e-08, 'lambda_l2': 7.065747110815646e-08}. Best is trial 43 with value: 0.1565346545850017.\n",
      "regularization_factors, val_score: 0.156535:  80%|########  | 16/20 [08:54<02:08, 32.15s/it]"
     ]
    },
    {
     "name": "stdout",
     "output_type": "stream",
     "text": [
      "[LightGBM] [Warning] Auto-choosing col-wise multi-threading, the overhead of testing was 0.069867 seconds.\n",
      "You can set `force_col_wise=true` to remove the overhead.\n",
      "[LightGBM] [Info] Total Bins 6060\n",
      "[LightGBM] [Info] Number of data points in the train set: 256000, number of used features: 25\n",
      "[LightGBM] [Info] Start training from score -0.980965\n",
      "[LightGBM] [Info] Start training from score -2.012659\n",
      "[LightGBM] [Info] Start training from score -0.710460\n",
      "Training until validation scores don't improve for 10 rounds\n",
      "[100]\ttraining's multi_logloss: 0.0907285\tvalid_1's multi_logloss: 0.156706\n",
      "Early stopping, best iteration is:\n",
      "[98]\ttraining's multi_logloss: 0.0914043\tvalid_1's multi_logloss: 0.156657\n"
     ]
    },
    {
     "name": "stderr",
     "output_type": "stream",
     "text": [
      "regularization_factors, val_score: 0.156535:  85%|########5 | 17/20 [09:24<01:34, 31.55s/it][I 2020-10-06 16:01:29,452] Trial 59 finished with value: 0.15665741378625664 and parameters: {'lambda_l1': 1.1565267116200953e-08, 'lambda_l2': 1.0166957051684706e-07}. Best is trial 43 with value: 0.1565346545850017.\n",
      "regularization_factors, val_score: 0.156535:  85%|########5 | 17/20 [09:24<01:34, 31.55s/it]"
     ]
    },
    {
     "name": "stdout",
     "output_type": "stream",
     "text": [
      "[LightGBM] [Warning] Auto-choosing col-wise multi-threading, the overhead of testing was 0.076942 seconds.\n",
      "You can set `force_col_wise=true` to remove the overhead.\n",
      "[LightGBM] [Info] Total Bins 6060\n",
      "[LightGBM] [Info] Number of data points in the train set: 256000, number of used features: 25\n",
      "[LightGBM] [Info] Start training from score -0.980965\n",
      "[LightGBM] [Info] Start training from score -2.012659\n",
      "[LightGBM] [Info] Start training from score -0.710460\n",
      "Training until validation scores don't improve for 10 rounds\n",
      "[100]\ttraining's multi_logloss: 0.0907285\tvalid_1's multi_logloss: 0.156706\n",
      "Early stopping, best iteration is:\n",
      "[98]\ttraining's multi_logloss: 0.0914043\tvalid_1's multi_logloss: 0.156658\n"
     ]
    },
    {
     "name": "stderr",
     "output_type": "stream",
     "text": [
      "regularization_factors, val_score: 0.156535:  90%|######### | 18/20 [09:57<01:04, 32.01s/it][I 2020-10-06 16:02:02,528] Trial 60 finished with value: 0.1566575742857229 and parameters: {'lambda_l1': 1.0369862465908044e-08, 'lambda_l2': 6.690367939255532e-07}. Best is trial 43 with value: 0.1565346545850017.\n",
      "regularization_factors, val_score: 0.156535:  90%|######### | 18/20 [09:57<01:04, 32.01s/it]"
     ]
    },
    {
     "name": "stdout",
     "output_type": "stream",
     "text": [
      "[LightGBM] [Warning] Auto-choosing col-wise multi-threading, the overhead of testing was 0.068732 seconds.\n",
      "You can set `force_col_wise=true` to remove the overhead.\n",
      "[LightGBM] [Info] Total Bins 6060\n",
      "[LightGBM] [Info] Number of data points in the train set: 256000, number of used features: 25\n",
      "[LightGBM] [Info] Start training from score -0.980965\n",
      "[LightGBM] [Info] Start training from score -2.012659\n",
      "[LightGBM] [Info] Start training from score -0.710460\n",
      "Training until validation scores don't improve for 10 rounds\n",
      "[100]\ttraining's multi_logloss: 0.0907285\tvalid_1's multi_logloss: 0.156706\n",
      "Early stopping, best iteration is:\n",
      "[98]\ttraining's multi_logloss: 0.0914043\tvalid_1's multi_logloss: 0.156658\n"
     ]
    },
    {
     "name": "stderr",
     "output_type": "stream",
     "text": [
      "regularization_factors, val_score: 0.156535:  95%|#########5| 19/20 [10:27<00:31, 31.26s/it][I 2020-10-06 16:02:32,053] Trial 61 finished with value: 0.15665757079656567 and parameters: {'lambda_l1': 1.3357918445859945e-08, 'lambda_l2': 4.391144097678618e-07}. Best is trial 43 with value: 0.1565346545850017.\n",
      "regularization_factors, val_score: 0.156535:  95%|#########5| 19/20 [10:27<00:31, 31.26s/it]"
     ]
    },
    {
     "name": "stdout",
     "output_type": "stream",
     "text": [
      "[LightGBM] [Warning] Auto-choosing col-wise multi-threading, the overhead of testing was 0.143612 seconds.\n",
      "You can set `force_col_wise=true` to remove the overhead.\n",
      "[LightGBM] [Info] Total Bins 6060\n",
      "[LightGBM] [Info] Number of data points in the train set: 256000, number of used features: 25\n",
      "[LightGBM] [Info] Start training from score -0.980965\n",
      "[LightGBM] [Info] Start training from score -2.012659\n",
      "[LightGBM] [Info] Start training from score -0.710460\n",
      "Training until validation scores don't improve for 10 rounds\n",
      "[100]\ttraining's multi_logloss: 0.0907285\tvalid_1's multi_logloss: 0.156706\n",
      "Early stopping, best iteration is:\n",
      "[98]\ttraining's multi_logloss: 0.0914043\tvalid_1's multi_logloss: 0.156658\n"
     ]
    },
    {
     "name": "stderr",
     "output_type": "stream",
     "text": [
      "regularization_factors, val_score: 0.156535: 100%|##########| 20/20 [11:01<00:00, 32.04s/it][I 2020-10-06 16:03:05,910] Trial 62 finished with value: 0.1566575738937913 and parameters: {'lambda_l1': 1.26874695420072e-08, 'lambda_l2': 1.1263512162365619e-06}. Best is trial 43 with value: 0.1565346545850017.\n",
      "regularization_factors, val_score: 0.156535: 100%|##########| 20/20 [11:01<00:00, 33.07s/it]\n",
      "min_data_in_leaf, val_score: 0.156535:   0%|          | 0/5 [00:00<?, ?it/s]"
     ]
    },
    {
     "name": "stdout",
     "output_type": "stream",
     "text": [
      "[LightGBM] [Warning] Auto-choosing col-wise multi-threading, the overhead of testing was 0.067938 seconds.\n",
      "You can set `force_col_wise=true` to remove the overhead.\n",
      "[LightGBM] [Info] Total Bins 6060\n",
      "[LightGBM] [Info] Number of data points in the train set: 256000, number of used features: 25\n",
      "[LightGBM] [Info] Start training from score -0.980965\n",
      "[LightGBM] [Info] Start training from score -2.012659\n",
      "[LightGBM] [Info] Start training from score -0.710460\n",
      "Training until validation scores don't improve for 10 rounds\n",
      "[LightGBM] [Warning] No further splits with positive gain, best gain: -inf\n",
      "[LightGBM] [Warning] No further splits with positive gain, best gain: -inf\n",
      "[LightGBM] [Warning] No further splits with positive gain, best gain: -inf\n",
      "[LightGBM] [Warning] No further splits with positive gain, best gain: -inf\n",
      "[LightGBM] [Warning] No further splits with positive gain, best gain: -inf\n",
      "[LightGBM] [Warning] No further splits with positive gain, best gain: -inf\n",
      "[LightGBM] [Warning] No further splits with positive gain, best gain: -inf\n",
      "[LightGBM] [Warning] No further splits with positive gain, best gain: -inf\n",
      "[LightGBM] [Warning] No further splits with positive gain, best gain: -inf\n",
      "[LightGBM] [Warning] No further splits with positive gain, best gain: -inf\n",
      "[LightGBM] [Warning] No further splits with positive gain, best gain: -inf\n",
      "[LightGBM] [Warning] No further splits with positive gain, best gain: -inf\n",
      "[LightGBM] [Warning] No further splits with positive gain, best gain: -inf\n",
      "[LightGBM] [Warning] No further splits with positive gain, best gain: -inf\n",
      "[LightGBM] [Warning] No further splits with positive gain, best gain: -inf\n",
      "[LightGBM] [Warning] No further splits with positive gain, best gain: -inf\n",
      "[100]\ttraining's multi_logloss: 0.0935844\tvalid_1's multi_logloss: 0.157501\n",
      "Early stopping, best iteration is:\n",
      "[90]\ttraining's multi_logloss: 0.0980056\tvalid_1's multi_logloss: 0.157411\n"
     ]
    },
    {
     "name": "stderr",
     "output_type": "stream",
     "text": [
      "min_data_in_leaf, val_score: 0.156535:  20%|##        | 1/5 [00:31<02:06, 31.62s/it][I 2020-10-06 16:03:37,557] Trial 63 finished with value: 0.15741094845179504 and parameters: {'min_child_samples': 50}. Best is trial 63 with value: 0.15741094845179504.\n",
      "min_data_in_leaf, val_score: 0.156535:  20%|##        | 1/5 [00:31<02:06, 31.62s/it]"
     ]
    },
    {
     "name": "stdout",
     "output_type": "stream",
     "text": [
      "[LightGBM] [Warning] Auto-choosing col-wise multi-threading, the overhead of testing was 0.068632 seconds.\n",
      "You can set `force_col_wise=true` to remove the overhead.\n",
      "[LightGBM] [Info] Total Bins 6060\n",
      "[LightGBM] [Info] Number of data points in the train set: 256000, number of used features: 25\n",
      "[LightGBM] [Info] Start training from score -0.980965\n",
      "[LightGBM] [Info] Start training from score -2.012659\n",
      "[LightGBM] [Info] Start training from score -0.710460\n",
      "Training until validation scores don't improve for 10 rounds\n",
      "[100]\ttraining's multi_logloss: 0.0887112\tvalid_1's multi_logloss: 0.157051\n",
      "Early stopping, best iteration is:\n",
      "[102]\ttraining's multi_logloss: 0.0879648\tvalid_1's multi_logloss: 0.157047\n"
     ]
    },
    {
     "name": "stderr",
     "output_type": "stream",
     "text": [
      "min_data_in_leaf, val_score: 0.156535:  40%|####      | 2/5 [01:02<01:33, 31.32s/it][I 2020-10-06 16:04:08,182] Trial 64 finished with value: 0.1570468802959867 and parameters: {'min_child_samples': 10}. Best is trial 64 with value: 0.1570468802959867.\n",
      "min_data_in_leaf, val_score: 0.156535:  40%|####      | 2/5 [01:02<01:33, 31.32s/it]"
     ]
    },
    {
     "name": "stdout",
     "output_type": "stream",
     "text": [
      "[LightGBM] [Warning] Auto-choosing col-wise multi-threading, the overhead of testing was 0.072622 seconds.\n",
      "You can set `force_col_wise=true` to remove the overhead.\n",
      "[LightGBM] [Info] Total Bins 6060\n",
      "[LightGBM] [Info] Number of data points in the train set: 256000, number of used features: 25\n",
      "[LightGBM] [Info] Start training from score -0.980965\n",
      "[LightGBM] [Info] Start training from score -2.012659\n",
      "[LightGBM] [Info] Start training from score -0.710460\n",
      "Training until validation scores don't improve for 10 rounds\n",
      "[100]\ttraining's multi_logloss: 0.0914125\tvalid_1's multi_logloss: 0.156809\n",
      "[LightGBM] [Warning] No further splits with positive gain, best gain: -inf\n",
      "Early stopping, best iteration is:\n",
      "[97]\ttraining's multi_logloss: 0.0927623\tvalid_1's multi_logloss: 0.156766\n"
     ]
    },
    {
     "name": "stderr",
     "output_type": "stream",
     "text": [
      "min_data_in_leaf, val_score: 0.156535:  60%|######    | 3/5 [01:33<01:02, 31.22s/it][I 2020-10-06 16:04:39,172] Trial 65 finished with value: 0.15676571735921305 and parameters: {'min_child_samples': 25}. Best is trial 65 with value: 0.15676571735921305.\n",
      "min_data_in_leaf, val_score: 0.156535:  60%|######    | 3/5 [01:33<01:02, 31.22s/it]"
     ]
    },
    {
     "name": "stdout",
     "output_type": "stream",
     "text": [
      "[LightGBM] [Warning] Auto-choosing col-wise multi-threading, the overhead of testing was 0.075096 seconds.\n",
      "You can set `force_col_wise=true` to remove the overhead.\n",
      "[LightGBM] [Info] Total Bins 6060\n",
      "[LightGBM] [Info] Number of data points in the train set: 256000, number of used features: 25\n",
      "[LightGBM] [Info] Start training from score -0.980965\n",
      "[LightGBM] [Info] Start training from score -2.012659\n",
      "[LightGBM] [Info] Start training from score -0.710460\n",
      "Training until validation scores don't improve for 10 rounds\n",
      "[LightGBM] [Warning] No further splits with positive gain, best gain: -inf\n",
      "[LightGBM] [Warning] No further splits with positive gain, best gain: -inf\n",
      "[LightGBM] [Warning] No further splits with positive gain, best gain: -inf\n",
      "[LightGBM] [Warning] No further splits with positive gain, best gain: -inf\n",
      "[LightGBM] [Warning] No further splits with positive gain, best gain: -inf\n",
      "[LightGBM] [Warning] No further splits with positive gain, best gain: -inf\n",
      "[LightGBM] [Warning] No further splits with positive gain, best gain: -inf\n",
      "[LightGBM] [Warning] No further splits with positive gain, best gain: -inf\n",
      "[LightGBM] [Warning] No further splits with positive gain, best gain: -inf\n",
      "[LightGBM] [Warning] No further splits with positive gain, best gain: -inf\n",
      "[LightGBM] [Warning] No further splits with positive gain, best gain: -inf\n",
      "[LightGBM] [Warning] No further splits with positive gain, best gain: -inf\n",
      "[LightGBM] [Warning] No further splits with positive gain, best gain: -inf\n",
      "[LightGBM] [Warning] No further splits with positive gain, best gain: -inf\n",
      "[LightGBM] [Warning] No further splits with positive gain, best gain: -inf\n",
      "[LightGBM] [Warning] No further splits with positive gain, best gain: -inf\n",
      "[LightGBM] [Warning] No further splits with positive gain, best gain: -inf\n",
      "[LightGBM] [Warning] No further splits with positive gain, best gain: -inf\n",
      "[LightGBM] [Warning] No further splits with positive gain, best gain: -inf\n",
      "[LightGBM] [Warning] No further splits with positive gain, best gain: -inf\n",
      "[LightGBM] [Warning] No further splits with positive gain, best gain: -inf\n",
      "[LightGBM] [Warning] No further splits with positive gain, best gain: -inf\n",
      "[LightGBM] [Warning] No further splits with positive gain, best gain: -inf\n",
      "[LightGBM] [Warning] No further splits with positive gain, best gain: -inf\n",
      "[LightGBM] [Warning] No further splits with positive gain, best gain: -inf\n",
      "[LightGBM] [Warning] No further splits with positive gain, best gain: -inf\n",
      "[LightGBM] [Warning] No further splits with positive gain, best gain: -inf\n",
      "[LightGBM] [Warning] No further splits with positive gain, best gain: -inf\n",
      "[LightGBM] [Warning] No further splits with positive gain, best gain: -inf\n",
      "[LightGBM] [Warning] No further splits with positive gain, best gain: -inf\n",
      "[100]\ttraining's multi_logloss: 0.0973487\tvalid_1's multi_logloss: 0.157193\n",
      "[LightGBM] [Warning] No further splits with positive gain, best gain: -inf\n",
      "[LightGBM] [Warning] No further splits with positive gain, best gain: -inf\n",
      "[LightGBM] [Warning] No further splits with positive gain, best gain: -inf\n",
      "[LightGBM] [Warning] No further splits with positive gain, best gain: -inf\n",
      "Early stopping, best iteration is:\n",
      "[99]\ttraining's multi_logloss: 0.0977617\tvalid_1's multi_logloss: 0.157152\n"
     ]
    },
    {
     "name": "stderr",
     "output_type": "stream",
     "text": [
      "min_data_in_leaf, val_score: 0.156535:  80%|########  | 4/5 [02:04<00:31, 31.26s/it][I 2020-10-06 16:05:10,528] Trial 66 finished with value: 0.15715247869163826 and parameters: {'min_child_samples': 100}. Best is trial 65 with value: 0.15676571735921305.\n",
      "min_data_in_leaf, val_score: 0.156535:  80%|########  | 4/5 [02:04<00:31, 31.26s/it]"
     ]
    },
    {
     "name": "stdout",
     "output_type": "stream",
     "text": [
      "[LightGBM] [Warning] Auto-choosing col-wise multi-threading, the overhead of testing was 0.070620 seconds.\n",
      "You can set `force_col_wise=true` to remove the overhead.\n",
      "[LightGBM] [Info] Total Bins 6060\n",
      "[LightGBM] [Info] Number of data points in the train set: 256000, number of used features: 25\n",
      "[LightGBM] [Info] Start training from score -0.980965\n",
      "[LightGBM] [Info] Start training from score -2.012659\n",
      "[LightGBM] [Info] Start training from score -0.710460\n",
      "Training until validation scores don't improve for 10 rounds\n",
      "[100]\ttraining's multi_logloss: 0.0875395\tvalid_1's multi_logloss: 0.157565\n",
      "Early stopping, best iteration is:\n",
      "[92]\ttraining's multi_logloss: 0.090745\tvalid_1's multi_logloss: 0.157452\n"
     ]
    },
    {
     "name": "stderr",
     "output_type": "stream",
     "text": [
      "min_data_in_leaf, val_score: 0.156535: 100%|##########| 5/5 [02:31<00:00, 29.96s/it][I 2020-10-06 16:05:37,459] Trial 67 finished with value: 0.15745171506899577 and parameters: {'min_child_samples': 5}. Best is trial 65 with value: 0.15676571735921305.\n",
      "min_data_in_leaf, val_score: 0.156535: 100%|##########| 5/5 [02:31<00:00, 30.31s/it]\n"
     ]
    },
    {
     "name": "stdout",
     "output_type": "stream",
     "text": [
      "Best params: {'objective': 'multiclass', 'metric': 'multi_logloss', 'num_class': 3, 'lambda_l1': 7.700053421427285e-06, 'lambda_l2': 5.626169212347464e-05, 'random_state': 42, 'n_jobs': -1, 'feature_pre_filter': False, 'bagging_freq': 1, 'num_leaves': 237, 'feature_fraction': 0.6799999999999999, 'bagging_fraction': 1.0, 'min_child_samples': 20, 'num_iterations': 1000, 'early_stopping_round': 10}\n",
      "  Accuracy = 0.9345625\n",
      "  Params: \n",
      "    objective: multiclass\n",
      "    metric: multi_logloss\n",
      "    num_class: 3\n",
      "    lambda_l1: 7.700053421427285e-06\n",
      "    lambda_l2: 5.626169212347464e-05\n",
      "    random_state: 42\n",
      "    n_jobs: -1\n",
      "    feature_pre_filter: False\n",
      "    bagging_freq: 1\n",
      "    num_leaves: 237\n",
      "    feature_fraction: 0.6799999999999999\n",
      "    bagging_fraction: 1.0\n",
      "    min_child_samples: 20\n",
      "    num_iterations: 1000\n",
      "    early_stopping_round: 10\n"
     ]
    }
   ],
   "source": [
    "dtrain = lgb.Dataset(X_trn, label=y_trn)\n",
    "dval = lgb.Dataset(X_val, label=y_val)\n",
    "\n",
    "model = lgb.train(params, dtrain, valid_sets=[dtrain, dval], \n",
    "                  verbose_eval=100, early_stopping_rounds=10)\n",
    "\n",
    "prediction = np.argmax(model.predict(X_val, num_iteration=model.best_iteration), \n",
    "                       axis=1)\n",
    "accuracy = accuracy_score(y_val, prediction)\n",
    "\n",
    "params = model.params\n",
    "print(\"Best params:\", params)\n",
    "print(\"  Accuracy = {}\".format(accuracy))\n",
    "print(\"  Params: \")\n",
    "for key, value in params.items():\n",
    "    print(\"    {}: {}\".format(key, value))"
   ]
  },
  {
   "cell_type": "code",
   "execution_count": 31,
   "metadata": {
    "ExecuteTime": {
     "end_time": "2020-10-06T07:06:40.597147Z",
     "start_time": "2020-10-06T07:06:39.590722Z"
    }
   },
   "outputs": [],
   "source": [
    "cv = StratifiedKFold(n_splits=n_fold, shuffle=True, random_state=seed)"
   ]
  },
  {
   "cell_type": "code",
   "execution_count": 32,
   "metadata": {
    "ExecuteTime": {
     "end_time": "2020-10-06T07:09:20.449309Z",
     "start_time": "2020-10-06T07:06:41.504293Z"
    }
   },
   "outputs": [
    {
     "name": "stdout",
     "output_type": "stream",
     "text": [
      "training model for CV #1\n",
      "[LightGBM] [Warning] feature_fraction is set=0.6799999999999999, colsample_bytree=1.0 will be ignored. Current value: feature_fraction=0.6799999999999999\n",
      "[LightGBM] [Warning] lambda_l1 is set=7.700053421427285e-06, reg_alpha=0.0 will be ignored. Current value: lambda_l1=7.700053421427285e-06\n",
      "[LightGBM] [Warning] bagging_fraction is set=1.0, subsample=1.0 will be ignored. Current value: bagging_fraction=1.0\n",
      "[LightGBM] [Warning] lambda_l2 is set=5.626169212347464e-05, reg_lambda=0.0 will be ignored. Current value: lambda_l2=5.626169212347464e-05\n",
      "[LightGBM] [Warning] bagging_freq is set=1, subsample_freq=0 will be ignored. Current value: bagging_freq=1\n",
      "[1]\tvalid_0's multi_logloss: 0.848654\n",
      "Training until validation scores don't improve for 10 rounds\n",
      "[2]\tvalid_0's multi_logloss: 0.741361\n",
      "[3]\tvalid_0's multi_logloss: 0.656453\n",
      "[4]\tvalid_0's multi_logloss: 0.582812\n",
      "[5]\tvalid_0's multi_logloss: 0.524435\n",
      "[6]\tvalid_0's multi_logloss: 0.474217\n",
      "[7]\tvalid_0's multi_logloss: 0.433994\n",
      "[8]\tvalid_0's multi_logloss: 0.399751\n",
      "[9]\tvalid_0's multi_logloss: 0.369277\n",
      "[10]\tvalid_0's multi_logloss: 0.344205\n",
      "[11]\tvalid_0's multi_logloss: 0.321165\n",
      "[12]\tvalid_0's multi_logloss: 0.302451\n",
      "[13]\tvalid_0's multi_logloss: 0.286221\n",
      "[14]\tvalid_0's multi_logloss: 0.271502\n",
      "[15]\tvalid_0's multi_logloss: 0.260121\n",
      "[16]\tvalid_0's multi_logloss: 0.249705\n",
      "[17]\tvalid_0's multi_logloss: 0.239118\n",
      "[18]\tvalid_0's multi_logloss: 0.229416\n",
      "[19]\tvalid_0's multi_logloss: 0.221752\n",
      "[20]\tvalid_0's multi_logloss: 0.21648\n",
      "[21]\tvalid_0's multi_logloss: 0.209505\n",
      "[22]\tvalid_0's multi_logloss: 0.20346\n",
      "[23]\tvalid_0's multi_logloss: 0.199417\n",
      "[24]\tvalid_0's multi_logloss: 0.195219\n",
      "[25]\tvalid_0's multi_logloss: 0.191823\n",
      "[26]\tvalid_0's multi_logloss: 0.187847\n",
      "[27]\tvalid_0's multi_logloss: 0.185171\n",
      "[28]\tvalid_0's multi_logloss: 0.182579\n",
      "[29]\tvalid_0's multi_logloss: 0.180886\n",
      "[30]\tvalid_0's multi_logloss: 0.178725\n",
      "[31]\tvalid_0's multi_logloss: 0.176262\n",
      "[32]\tvalid_0's multi_logloss: 0.174618\n",
      "[33]\tvalid_0's multi_logloss: 0.172654\n",
      "[34]\tvalid_0's multi_logloss: 0.171622\n",
      "[35]\tvalid_0's multi_logloss: 0.170443\n",
      "[36]\tvalid_0's multi_logloss: 0.169411\n",
      "[37]\tvalid_0's multi_logloss: 0.168178\n",
      "[38]\tvalid_0's multi_logloss: 0.166892\n",
      "[39]\tvalid_0's multi_logloss: 0.165885\n",
      "[40]\tvalid_0's multi_logloss: 0.165326\n",
      "[41]\tvalid_0's multi_logloss: 0.164874\n",
      "[42]\tvalid_0's multi_logloss: 0.163856\n",
      "[43]\tvalid_0's multi_logloss: 0.163004\n",
      "[44]\tvalid_0's multi_logloss: 0.162321\n",
      "[45]\tvalid_0's multi_logloss: 0.161579\n",
      "[46]\tvalid_0's multi_logloss: 0.161279\n",
      "[47]\tvalid_0's multi_logloss: 0.16097\n",
      "[48]\tvalid_0's multi_logloss: 0.16073\n",
      "[49]\tvalid_0's multi_logloss: 0.160346\n",
      "[50]\tvalid_0's multi_logloss: 0.160141\n",
      "[51]\tvalid_0's multi_logloss: 0.159928\n",
      "[52]\tvalid_0's multi_logloss: 0.15968\n",
      "[53]\tvalid_0's multi_logloss: 0.159381\n",
      "[54]\tvalid_0's multi_logloss: 0.159042\n",
      "[55]\tvalid_0's multi_logloss: 0.158601\n",
      "[56]\tvalid_0's multi_logloss: 0.158299\n",
      "[57]\tvalid_0's multi_logloss: 0.158059\n",
      "[58]\tvalid_0's multi_logloss: 0.157716\n",
      "[59]\tvalid_0's multi_logloss: 0.157445\n",
      "[60]\tvalid_0's multi_logloss: 0.157161\n",
      "[61]\tvalid_0's multi_logloss: 0.156945\n",
      "[62]\tvalid_0's multi_logloss: 0.156803\n",
      "[63]\tvalid_0's multi_logloss: 0.156668\n",
      "[64]\tvalid_0's multi_logloss: 0.156472\n",
      "[65]\tvalid_0's multi_logloss: 0.156328\n",
      "[66]\tvalid_0's multi_logloss: 0.156173\n",
      "[67]\tvalid_0's multi_logloss: 0.15604\n",
      "[68]\tvalid_0's multi_logloss: 0.15591\n",
      "[69]\tvalid_0's multi_logloss: 0.155826\n",
      "[70]\tvalid_0's multi_logloss: 0.155778\n",
      "[71]\tvalid_0's multi_logloss: 0.1557\n",
      "[72]\tvalid_0's multi_logloss: 0.155622\n",
      "[73]\tvalid_0's multi_logloss: 0.155548\n",
      "[74]\tvalid_0's multi_logloss: 0.155444\n",
      "[75]\tvalid_0's multi_logloss: 0.155367\n",
      "[76]\tvalid_0's multi_logloss: 0.155296\n",
      "[77]\tvalid_0's multi_logloss: 0.155213\n",
      "[78]\tvalid_0's multi_logloss: 0.155177\n",
      "[79]\tvalid_0's multi_logloss: 0.155131\n",
      "[80]\tvalid_0's multi_logloss: 0.155128\n",
      "[81]\tvalid_0's multi_logloss: 0.155099\n",
      "[82]\tvalid_0's multi_logloss: 0.155087\n",
      "[83]\tvalid_0's multi_logloss: 0.155083\n",
      "[84]\tvalid_0's multi_logloss: 0.155054\n",
      "[85]\tvalid_0's multi_logloss: 0.155029\n",
      "[86]\tvalid_0's multi_logloss: 0.155049\n",
      "[87]\tvalid_0's multi_logloss: 0.155068\n",
      "[88]\tvalid_0's multi_logloss: 0.155059\n",
      "[89]\tvalid_0's multi_logloss: 0.155068\n",
      "[90]\tvalid_0's multi_logloss: 0.155031\n",
      "[91]\tvalid_0's multi_logloss: 0.155067\n",
      "[92]\tvalid_0's multi_logloss: 0.155074\n",
      "[93]\tvalid_0's multi_logloss: 0.155084\n",
      "[94]\tvalid_0's multi_logloss: 0.155079\n",
      "[95]\tvalid_0's multi_logloss: 0.155114\n",
      "Early stopping, best iteration is:\n",
      "[85]\tvalid_0's multi_logloss: 0.155029\n",
      "training model for CV #2\n",
      "[LightGBM] [Warning] feature_fraction is set=0.6799999999999999, colsample_bytree=1.0 will be ignored. Current value: feature_fraction=0.6799999999999999\n",
      "[LightGBM] [Warning] lambda_l1 is set=7.700053421427285e-06, reg_alpha=0.0 will be ignored. Current value: lambda_l1=7.700053421427285e-06\n",
      "[LightGBM] [Warning] bagging_fraction is set=1.0, subsample=1.0 will be ignored. Current value: bagging_fraction=1.0\n",
      "[LightGBM] [Warning] lambda_l2 is set=5.626169212347464e-05, reg_lambda=0.0 will be ignored. Current value: lambda_l2=5.626169212347464e-05\n",
      "[LightGBM] [Warning] bagging_freq is set=1, subsample_freq=0 will be ignored. Current value: bagging_freq=1\n",
      "[1]\tvalid_0's multi_logloss: 0.849234\n",
      "Training until validation scores don't improve for 10 rounds\n",
      "[2]\tvalid_0's multi_logloss: 0.742171\n",
      "[3]\tvalid_0's multi_logloss: 0.657386\n",
      "[4]\tvalid_0's multi_logloss: 0.58375\n",
      "[5]\tvalid_0's multi_logloss: 0.525515\n",
      "[6]\tvalid_0's multi_logloss: 0.475435\n",
      "[7]\tvalid_0's multi_logloss: 0.435146\n",
      "[8]\tvalid_0's multi_logloss: 0.401021\n",
      "[9]\tvalid_0's multi_logloss: 0.370627\n",
      "[10]\tvalid_0's multi_logloss: 0.345576\n",
      "[11]\tvalid_0's multi_logloss: 0.322753\n",
      "[12]\tvalid_0's multi_logloss: 0.30408\n",
      "[13]\tvalid_0's multi_logloss: 0.287884\n",
      "[14]\tvalid_0's multi_logloss: 0.273201\n",
      "[15]\tvalid_0's multi_logloss: 0.261824\n",
      "[16]\tvalid_0's multi_logloss: 0.251409\n",
      "[17]\tvalid_0's multi_logloss: 0.240816\n",
      "[18]\tvalid_0's multi_logloss: 0.231111\n",
      "[19]\tvalid_0's multi_logloss: 0.223407\n",
      "[20]\tvalid_0's multi_logloss: 0.21802\n",
      "[21]\tvalid_0's multi_logloss: 0.211085\n",
      "[22]\tvalid_0's multi_logloss: 0.205038\n",
      "[23]\tvalid_0's multi_logloss: 0.201015\n",
      "[24]\tvalid_0's multi_logloss: 0.196737\n",
      "[25]\tvalid_0's multi_logloss: 0.193295\n",
      "[26]\tvalid_0's multi_logloss: 0.189302\n",
      "[27]\tvalid_0's multi_logloss: 0.186699\n",
      "[28]\tvalid_0's multi_logloss: 0.184127\n",
      "[29]\tvalid_0's multi_logloss: 0.182387\n",
      "[30]\tvalid_0's multi_logloss: 0.180171\n",
      "[31]\tvalid_0's multi_logloss: 0.177635\n",
      "[32]\tvalid_0's multi_logloss: 0.1759\n",
      "[33]\tvalid_0's multi_logloss: 0.173828\n",
      "[34]\tvalid_0's multi_logloss: 0.172751\n",
      "[35]\tvalid_0's multi_logloss: 0.171605\n",
      "[36]\tvalid_0's multi_logloss: 0.170534\n",
      "[37]\tvalid_0's multi_logloss: 0.169238\n",
      "[38]\tvalid_0's multi_logloss: 0.167982\n",
      "[39]\tvalid_0's multi_logloss: 0.166988\n",
      "[40]\tvalid_0's multi_logloss: 0.166443\n",
      "[41]\tvalid_0's multi_logloss: 0.165946\n",
      "[42]\tvalid_0's multi_logloss: 0.164909\n",
      "[43]\tvalid_0's multi_logloss: 0.164084\n",
      "[44]\tvalid_0's multi_logloss: 0.163404\n",
      "[45]\tvalid_0's multi_logloss: 0.162607\n",
      "[46]\tvalid_0's multi_logloss: 0.16232\n",
      "[47]\tvalid_0's multi_logloss: 0.162017\n",
      "[48]\tvalid_0's multi_logloss: 0.161714\n",
      "[49]\tvalid_0's multi_logloss: 0.161372\n",
      "[50]\tvalid_0's multi_logloss: 0.161158\n",
      "[51]\tvalid_0's multi_logloss: 0.160962\n",
      "[52]\tvalid_0's multi_logloss: 0.160623\n",
      "[53]\tvalid_0's multi_logloss: 0.160429\n",
      "[54]\tvalid_0's multi_logloss: 0.16013\n",
      "[55]\tvalid_0's multi_logloss: 0.159742\n",
      "[56]\tvalid_0's multi_logloss: 0.159415\n",
      "[57]\tvalid_0's multi_logloss: 0.159119\n",
      "[58]\tvalid_0's multi_logloss: 0.158772\n",
      "[59]\tvalid_0's multi_logloss: 0.158507\n",
      "[60]\tvalid_0's multi_logloss: 0.158206\n",
      "[61]\tvalid_0's multi_logloss: 0.157934\n",
      "[62]\tvalid_0's multi_logloss: 0.157748\n",
      "[63]\tvalid_0's multi_logloss: 0.157573\n",
      "[64]\tvalid_0's multi_logloss: 0.157376\n",
      "[65]\tvalid_0's multi_logloss: 0.157232\n",
      "[66]\tvalid_0's multi_logloss: 0.157062\n",
      "[67]\tvalid_0's multi_logloss: 0.156982\n",
      "[68]\tvalid_0's multi_logloss: 0.1569\n",
      "[69]\tvalid_0's multi_logloss: 0.156859\n",
      "[70]\tvalid_0's multi_logloss: 0.156867\n",
      "[71]\tvalid_0's multi_logloss: 0.156732\n",
      "[72]\tvalid_0's multi_logloss: 0.156615\n",
      "[73]\tvalid_0's multi_logloss: 0.156555\n",
      "[74]\tvalid_0's multi_logloss: 0.156481\n",
      "[75]\tvalid_0's multi_logloss: 0.156409\n"
     ]
    },
    {
     "name": "stdout",
     "output_type": "stream",
     "text": [
      "[76]\tvalid_0's multi_logloss: 0.156354\n",
      "[77]\tvalid_0's multi_logloss: 0.156281\n",
      "[78]\tvalid_0's multi_logloss: 0.156259\n",
      "[79]\tvalid_0's multi_logloss: 0.156205\n",
      "[80]\tvalid_0's multi_logloss: 0.156167\n",
      "[81]\tvalid_0's multi_logloss: 0.156111\n",
      "[82]\tvalid_0's multi_logloss: 0.156091\n",
      "[83]\tvalid_0's multi_logloss: 0.156088\n",
      "[84]\tvalid_0's multi_logloss: 0.156066\n",
      "[85]\tvalid_0's multi_logloss: 0.156012\n",
      "[86]\tvalid_0's multi_logloss: 0.156015\n",
      "[87]\tvalid_0's multi_logloss: 0.155987\n",
      "[88]\tvalid_0's multi_logloss: 0.155972\n",
      "[89]\tvalid_0's multi_logloss: 0.155977\n",
      "[90]\tvalid_0's multi_logloss: 0.155979\n",
      "[91]\tvalid_0's multi_logloss: 0.155972\n",
      "[92]\tvalid_0's multi_logloss: 0.155995\n",
      "[93]\tvalid_0's multi_logloss: 0.156002\n",
      "[94]\tvalid_0's multi_logloss: 0.156034\n",
      "[95]\tvalid_0's multi_logloss: 0.156065\n",
      "[96]\tvalid_0's multi_logloss: 0.156053\n",
      "[97]\tvalid_0's multi_logloss: 0.156039\n",
      "[98]\tvalid_0's multi_logloss: 0.156046\n",
      "[99]\tvalid_0's multi_logloss: 0.156043\n",
      "[100]\tvalid_0's multi_logloss: 0.156049\n",
      "[101]\tvalid_0's multi_logloss: 0.156063\n",
      "Early stopping, best iteration is:\n",
      "[91]\tvalid_0's multi_logloss: 0.155972\n",
      "training model for CV #3\n",
      "[LightGBM] [Warning] feature_fraction is set=0.6799999999999999, colsample_bytree=1.0 will be ignored. Current value: feature_fraction=0.6799999999999999\n",
      "[LightGBM] [Warning] lambda_l1 is set=7.700053421427285e-06, reg_alpha=0.0 will be ignored. Current value: lambda_l1=7.700053421427285e-06\n",
      "[LightGBM] [Warning] bagging_fraction is set=1.0, subsample=1.0 will be ignored. Current value: bagging_fraction=1.0\n",
      "[LightGBM] [Warning] lambda_l2 is set=5.626169212347464e-05, reg_lambda=0.0 will be ignored. Current value: lambda_l2=5.626169212347464e-05\n",
      "[LightGBM] [Warning] bagging_freq is set=1, subsample_freq=0 will be ignored. Current value: bagging_freq=1\n",
      "[1]\tvalid_0's multi_logloss: 0.849166\n",
      "Training until validation scores don't improve for 10 rounds\n",
      "[2]\tvalid_0's multi_logloss: 0.742153\n",
      "[3]\tvalid_0's multi_logloss: 0.657281\n",
      "[4]\tvalid_0's multi_logloss: 0.583631\n",
      "[5]\tvalid_0's multi_logloss: 0.525471\n",
      "[6]\tvalid_0's multi_logloss: 0.475482\n",
      "[7]\tvalid_0's multi_logloss: 0.435399\n",
      "[8]\tvalid_0's multi_logloss: 0.401219\n",
      "[9]\tvalid_0's multi_logloss: 0.370914\n",
      "[10]\tvalid_0's multi_logloss: 0.345841\n",
      "[11]\tvalid_0's multi_logloss: 0.322931\n",
      "[12]\tvalid_0's multi_logloss: 0.304265\n",
      "[13]\tvalid_0's multi_logloss: 0.287973\n",
      "[14]\tvalid_0's multi_logloss: 0.273218\n",
      "[15]\tvalid_0's multi_logloss: 0.261838\n",
      "[16]\tvalid_0's multi_logloss: 0.251441\n",
      "[17]\tvalid_0's multi_logloss: 0.240895\n",
      "[18]\tvalid_0's multi_logloss: 0.231255\n",
      "[19]\tvalid_0's multi_logloss: 0.223623\n",
      "[20]\tvalid_0's multi_logloss: 0.218343\n",
      "[21]\tvalid_0's multi_logloss: 0.211476\n",
      "[22]\tvalid_0's multi_logloss: 0.205449\n",
      "[23]\tvalid_0's multi_logloss: 0.20141\n",
      "[24]\tvalid_0's multi_logloss: 0.197135\n",
      "[25]\tvalid_0's multi_logloss: 0.193785\n",
      "[26]\tvalid_0's multi_logloss: 0.189802\n",
      "[27]\tvalid_0's multi_logloss: 0.187131\n",
      "[28]\tvalid_0's multi_logloss: 0.184612\n",
      "[29]\tvalid_0's multi_logloss: 0.18288\n",
      "[30]\tvalid_0's multi_logloss: 0.180749\n",
      "[31]\tvalid_0's multi_logloss: 0.178242\n",
      "[32]\tvalid_0's multi_logloss: 0.176665\n",
      "[33]\tvalid_0's multi_logloss: 0.17461\n",
      "[34]\tvalid_0's multi_logloss: 0.173544\n",
      "[35]\tvalid_0's multi_logloss: 0.172415\n",
      "[36]\tvalid_0's multi_logloss: 0.17136\n",
      "[37]\tvalid_0's multi_logloss: 0.170108\n",
      "[38]\tvalid_0's multi_logloss: 0.168941\n",
      "[39]\tvalid_0's multi_logloss: 0.168045\n",
      "[40]\tvalid_0's multi_logloss: 0.167445\n",
      "[41]\tvalid_0's multi_logloss: 0.167022\n",
      "[42]\tvalid_0's multi_logloss: 0.166064\n",
      "[43]\tvalid_0's multi_logloss: 0.165227\n",
      "[44]\tvalid_0's multi_logloss: 0.164543\n",
      "[45]\tvalid_0's multi_logloss: 0.163776\n",
      "[46]\tvalid_0's multi_logloss: 0.163506\n",
      "[47]\tvalid_0's multi_logloss: 0.163162\n",
      "[48]\tvalid_0's multi_logloss: 0.162854\n",
      "[49]\tvalid_0's multi_logloss: 0.162543\n",
      "[50]\tvalid_0's multi_logloss: 0.162315\n",
      "[51]\tvalid_0's multi_logloss: 0.162113\n",
      "[52]\tvalid_0's multi_logloss: 0.161837\n",
      "[53]\tvalid_0's multi_logloss: 0.161613\n",
      "[54]\tvalid_0's multi_logloss: 0.16134\n",
      "[55]\tvalid_0's multi_logloss: 0.160874\n",
      "[56]\tvalid_0's multi_logloss: 0.160572\n",
      "[57]\tvalid_0's multi_logloss: 0.160229\n",
      "[58]\tvalid_0's multi_logloss: 0.159907\n",
      "[59]\tvalid_0's multi_logloss: 0.159642\n",
      "[60]\tvalid_0's multi_logloss: 0.159425\n",
      "[61]\tvalid_0's multi_logloss: 0.159219\n",
      "[62]\tvalid_0's multi_logloss: 0.159055\n",
      "[63]\tvalid_0's multi_logloss: 0.158877\n",
      "[64]\tvalid_0's multi_logloss: 0.158711\n",
      "[65]\tvalid_0's multi_logloss: 0.15856\n",
      "[66]\tvalid_0's multi_logloss: 0.158351\n",
      "[67]\tvalid_0's multi_logloss: 0.158277\n",
      "[68]\tvalid_0's multi_logloss: 0.15822\n",
      "[69]\tvalid_0's multi_logloss: 0.158196\n",
      "[70]\tvalid_0's multi_logloss: 0.158147\n",
      "[71]\tvalid_0's multi_logloss: 0.158069\n",
      "[72]\tvalid_0's multi_logloss: 0.157988\n",
      "[73]\tvalid_0's multi_logloss: 0.157927\n",
      "[74]\tvalid_0's multi_logloss: 0.157826\n",
      "[75]\tvalid_0's multi_logloss: 0.157772\n",
      "[76]\tvalid_0's multi_logloss: 0.157728\n",
      "[77]\tvalid_0's multi_logloss: 0.157705\n",
      "[78]\tvalid_0's multi_logloss: 0.157645\n",
      "[79]\tvalid_0's multi_logloss: 0.157592\n",
      "[80]\tvalid_0's multi_logloss: 0.157595\n",
      "[81]\tvalid_0's multi_logloss: 0.157552\n",
      "[82]\tvalid_0's multi_logloss: 0.157492\n",
      "[83]\tvalid_0's multi_logloss: 0.157479\n",
      "[84]\tvalid_0's multi_logloss: 0.157492\n",
      "[85]\tvalid_0's multi_logloss: 0.157508\n",
      "[86]\tvalid_0's multi_logloss: 0.157548\n",
      "[87]\tvalid_0's multi_logloss: 0.157562\n",
      "[88]\tvalid_0's multi_logloss: 0.157561\n",
      "[89]\tvalid_0's multi_logloss: 0.157524\n",
      "[90]\tvalid_0's multi_logloss: 0.157563\n",
      "[91]\tvalid_0's multi_logloss: 0.157544\n",
      "[92]\tvalid_0's multi_logloss: 0.15753\n",
      "[93]\tvalid_0's multi_logloss: 0.157537\n",
      "Early stopping, best iteration is:\n",
      "[83]\tvalid_0's multi_logloss: 0.157479\n",
      "training model for CV #4\n",
      "[LightGBM] [Warning] feature_fraction is set=0.6799999999999999, colsample_bytree=1.0 will be ignored. Current value: feature_fraction=0.6799999999999999\n",
      "[LightGBM] [Warning] lambda_l1 is set=7.700053421427285e-06, reg_alpha=0.0 will be ignored. Current value: lambda_l1=7.700053421427285e-06\n",
      "[LightGBM] [Warning] bagging_fraction is set=1.0, subsample=1.0 will be ignored. Current value: bagging_fraction=1.0\n",
      "[LightGBM] [Warning] lambda_l2 is set=5.626169212347464e-05, reg_lambda=0.0 will be ignored. Current value: lambda_l2=5.626169212347464e-05\n",
      "[LightGBM] [Warning] bagging_freq is set=1, subsample_freq=0 will be ignored. Current value: bagging_freq=1\n",
      "[1]\tvalid_0's multi_logloss: 0.848911\n",
      "Training until validation scores don't improve for 10 rounds\n",
      "[2]\tvalid_0's multi_logloss: 0.741605\n",
      "[3]\tvalid_0's multi_logloss: 0.656753\n",
      "[4]\tvalid_0's multi_logloss: 0.583256\n",
      "[5]\tvalid_0's multi_logloss: 0.525064\n",
      "[6]\tvalid_0's multi_logloss: 0.474931\n",
      "[7]\tvalid_0's multi_logloss: 0.434741\n",
      "[8]\tvalid_0's multi_logloss: 0.400598\n",
      "[9]\tvalid_0's multi_logloss: 0.370215\n",
      "[10]\tvalid_0's multi_logloss: 0.34511\n",
      "[11]\tvalid_0's multi_logloss: 0.322148\n",
      "[12]\tvalid_0's multi_logloss: 0.303516\n",
      "[13]\tvalid_0's multi_logloss: 0.287308\n",
      "[14]\tvalid_0's multi_logloss: 0.272662\n",
      "[15]\tvalid_0's multi_logloss: 0.261362\n",
      "[16]\tvalid_0's multi_logloss: 0.250987\n",
      "[17]\tvalid_0's multi_logloss: 0.24047\n",
      "[18]\tvalid_0's multi_logloss: 0.23083\n",
      "[19]\tvalid_0's multi_logloss: 0.223173\n",
      "[20]\tvalid_0's multi_logloss: 0.217817\n",
      "[21]\tvalid_0's multi_logloss: 0.210863\n",
      "[22]\tvalid_0's multi_logloss: 0.204907\n",
      "[23]\tvalid_0's multi_logloss: 0.200891\n",
      "[24]\tvalid_0's multi_logloss: 0.19664\n",
      "[25]\tvalid_0's multi_logloss: 0.193253\n",
      "[26]\tvalid_0's multi_logloss: 0.18931\n",
      "[27]\tvalid_0's multi_logloss: 0.186641\n",
      "[28]\tvalid_0's multi_logloss: 0.18408\n",
      "[29]\tvalid_0's multi_logloss: 0.182336\n",
      "[30]\tvalid_0's multi_logloss: 0.180128\n",
      "[31]\tvalid_0's multi_logloss: 0.177602\n",
      "[32]\tvalid_0's multi_logloss: 0.175911\n",
      "[33]\tvalid_0's multi_logloss: 0.173872\n",
      "[34]\tvalid_0's multi_logloss: 0.172865\n",
      "[35]\tvalid_0's multi_logloss: 0.171706\n",
      "[36]\tvalid_0's multi_logloss: 0.170703\n",
      "[37]\tvalid_0's multi_logloss: 0.169453\n",
      "[38]\tvalid_0's multi_logloss: 0.168239\n",
      "[39]\tvalid_0's multi_logloss: 0.167243\n",
      "[40]\tvalid_0's multi_logloss: 0.16665\n",
      "[41]\tvalid_0's multi_logloss: 0.166208\n",
      "[42]\tvalid_0's multi_logloss: 0.165202\n",
      "[43]\tvalid_0's multi_logloss: 0.164349\n",
      "[44]\tvalid_0's multi_logloss: 0.163664\n",
      "[45]\tvalid_0's multi_logloss: 0.162899\n",
      "[46]\tvalid_0's multi_logloss: 0.16256\n",
      "[47]\tvalid_0's multi_logloss: 0.162303\n",
      "[48]\tvalid_0's multi_logloss: 0.162043\n",
      "[49]\tvalid_0's multi_logloss: 0.161714\n"
     ]
    },
    {
     "name": "stdout",
     "output_type": "stream",
     "text": [
      "[50]\tvalid_0's multi_logloss: 0.161457\n",
      "[51]\tvalid_0's multi_logloss: 0.161228\n",
      "[52]\tvalid_0's multi_logloss: 0.160937\n",
      "[53]\tvalid_0's multi_logloss: 0.160713\n",
      "[54]\tvalid_0's multi_logloss: 0.160475\n",
      "[55]\tvalid_0's multi_logloss: 0.160047\n",
      "[56]\tvalid_0's multi_logloss: 0.159725\n",
      "[57]\tvalid_0's multi_logloss: 0.159396\n",
      "[58]\tvalid_0's multi_logloss: 0.159053\n",
      "[59]\tvalid_0's multi_logloss: 0.158794\n",
      "[60]\tvalid_0's multi_logloss: 0.158508\n",
      "[61]\tvalid_0's multi_logloss: 0.158241\n",
      "[62]\tvalid_0's multi_logloss: 0.158073\n",
      "[63]\tvalid_0's multi_logloss: 0.157894\n",
      "[64]\tvalid_0's multi_logloss: 0.157687\n",
      "[65]\tvalid_0's multi_logloss: 0.157562\n",
      "[66]\tvalid_0's multi_logloss: 0.157347\n",
      "[67]\tvalid_0's multi_logloss: 0.157149\n",
      "[68]\tvalid_0's multi_logloss: 0.157094\n",
      "[69]\tvalid_0's multi_logloss: 0.157026\n",
      "[70]\tvalid_0's multi_logloss: 0.156964\n",
      "[71]\tvalid_0's multi_logloss: 0.156834\n",
      "[72]\tvalid_0's multi_logloss: 0.156734\n",
      "[73]\tvalid_0's multi_logloss: 0.156646\n",
      "[74]\tvalid_0's multi_logloss: 0.156494\n",
      "[75]\tvalid_0's multi_logloss: 0.156479\n",
      "[76]\tvalid_0's multi_logloss: 0.156345\n",
      "[77]\tvalid_0's multi_logloss: 0.15627\n",
      "[78]\tvalid_0's multi_logloss: 0.156194\n",
      "[79]\tvalid_0's multi_logloss: 0.156148\n",
      "[80]\tvalid_0's multi_logloss: 0.156143\n",
      "[81]\tvalid_0's multi_logloss: 0.156085\n",
      "[82]\tvalid_0's multi_logloss: 0.156006\n",
      "[83]\tvalid_0's multi_logloss: 0.155996\n",
      "[84]\tvalid_0's multi_logloss: 0.155998\n",
      "[85]\tvalid_0's multi_logloss: 0.155992\n",
      "[86]\tvalid_0's multi_logloss: 0.155968\n",
      "[87]\tvalid_0's multi_logloss: 0.15598\n",
      "[88]\tvalid_0's multi_logloss: 0.155953\n",
      "[89]\tvalid_0's multi_logloss: 0.155957\n",
      "[90]\tvalid_0's multi_logloss: 0.155957\n",
      "[91]\tvalid_0's multi_logloss: 0.155963\n",
      "[92]\tvalid_0's multi_logloss: 0.155931\n",
      "[93]\tvalid_0's multi_logloss: 0.155933\n",
      "[94]\tvalid_0's multi_logloss: 0.155958\n",
      "[95]\tvalid_0's multi_logloss: 0.155927\n",
      "[96]\tvalid_0's multi_logloss: 0.155954\n",
      "[97]\tvalid_0's multi_logloss: 0.155954\n",
      "[98]\tvalid_0's multi_logloss: 0.155956\n",
      "[99]\tvalid_0's multi_logloss: 0.15594\n",
      "[100]\tvalid_0's multi_logloss: 0.15594\n",
      "[101]\tvalid_0's multi_logloss: 0.155963\n",
      "[102]\tvalid_0's multi_logloss: 0.155982\n",
      "[103]\tvalid_0's multi_logloss: 0.155964\n",
      "[104]\tvalid_0's multi_logloss: 0.155976\n",
      "[105]\tvalid_0's multi_logloss: 0.155953\n",
      "Early stopping, best iteration is:\n",
      "[95]\tvalid_0's multi_logloss: 0.155927\n",
      "training model for CV #5\n",
      "[LightGBM] [Warning] feature_fraction is set=0.6799999999999999, colsample_bytree=1.0 will be ignored. Current value: feature_fraction=0.6799999999999999\n",
      "[LightGBM] [Warning] lambda_l1 is set=7.700053421427285e-06, reg_alpha=0.0 will be ignored. Current value: lambda_l1=7.700053421427285e-06\n",
      "[LightGBM] [Warning] bagging_fraction is set=1.0, subsample=1.0 will be ignored. Current value: bagging_fraction=1.0\n",
      "[LightGBM] [Warning] lambda_l2 is set=5.626169212347464e-05, reg_lambda=0.0 will be ignored. Current value: lambda_l2=5.626169212347464e-05\n",
      "[LightGBM] [Warning] bagging_freq is set=1, subsample_freq=0 will be ignored. Current value: bagging_freq=1\n",
      "[1]\tvalid_0's multi_logloss: 0.849007\n",
      "Training until validation scores don't improve for 10 rounds\n",
      "[2]\tvalid_0's multi_logloss: 0.741751\n",
      "[3]\tvalid_0's multi_logloss: 0.656732\n",
      "[4]\tvalid_0's multi_logloss: 0.583029\n",
      "[5]\tvalid_0's multi_logloss: 0.524833\n",
      "[6]\tvalid_0's multi_logloss: 0.47461\n",
      "[7]\tvalid_0's multi_logloss: 0.434246\n",
      "[8]\tvalid_0's multi_logloss: 0.399907\n",
      "[9]\tvalid_0's multi_logloss: 0.369401\n",
      "[10]\tvalid_0's multi_logloss: 0.344211\n",
      "[11]\tvalid_0's multi_logloss: 0.321235\n",
      "[12]\tvalid_0's multi_logloss: 0.302573\n",
      "[13]\tvalid_0's multi_logloss: 0.286174\n",
      "[14]\tvalid_0's multi_logloss: 0.271455\n",
      "[15]\tvalid_0's multi_logloss: 0.259988\n",
      "[16]\tvalid_0's multi_logloss: 0.24955\n",
      "[17]\tvalid_0's multi_logloss: 0.238998\n",
      "[18]\tvalid_0's multi_logloss: 0.22929\n",
      "[19]\tvalid_0's multi_logloss: 0.221607\n",
      "[20]\tvalid_0's multi_logloss: 0.216348\n",
      "[21]\tvalid_0's multi_logloss: 0.209388\n",
      "[22]\tvalid_0's multi_logloss: 0.203239\n",
      "[23]\tvalid_0's multi_logloss: 0.199277\n",
      "[24]\tvalid_0's multi_logloss: 0.195084\n",
      "[25]\tvalid_0's multi_logloss: 0.1916\n",
      "[26]\tvalid_0's multi_logloss: 0.187614\n",
      "[27]\tvalid_0's multi_logloss: 0.184948\n",
      "[28]\tvalid_0's multi_logloss: 0.182366\n",
      "[29]\tvalid_0's multi_logloss: 0.180577\n",
      "[30]\tvalid_0's multi_logloss: 0.17838\n",
      "[31]\tvalid_0's multi_logloss: 0.175831\n",
      "[32]\tvalid_0's multi_logloss: 0.174124\n",
      "[33]\tvalid_0's multi_logloss: 0.172042\n",
      "[34]\tvalid_0's multi_logloss: 0.171033\n",
      "[35]\tvalid_0's multi_logloss: 0.169881\n",
      "[36]\tvalid_0's multi_logloss: 0.168817\n",
      "[37]\tvalid_0's multi_logloss: 0.167537\n",
      "[38]\tvalid_0's multi_logloss: 0.166307\n",
      "[39]\tvalid_0's multi_logloss: 0.16527\n",
      "[40]\tvalid_0's multi_logloss: 0.164721\n",
      "[41]\tvalid_0's multi_logloss: 0.164288\n",
      "[42]\tvalid_0's multi_logloss: 0.163295\n",
      "[43]\tvalid_0's multi_logloss: 0.162401\n",
      "[44]\tvalid_0's multi_logloss: 0.161728\n",
      "[45]\tvalid_0's multi_logloss: 0.161057\n",
      "[46]\tvalid_0's multi_logloss: 0.16073\n",
      "[47]\tvalid_0's multi_logloss: 0.160424\n",
      "[48]\tvalid_0's multi_logloss: 0.16017\n",
      "[49]\tvalid_0's multi_logloss: 0.159759\n",
      "[50]\tvalid_0's multi_logloss: 0.15951\n",
      "[51]\tvalid_0's multi_logloss: 0.159325\n",
      "[52]\tvalid_0's multi_logloss: 0.158988\n",
      "[53]\tvalid_0's multi_logloss: 0.158714\n",
      "[54]\tvalid_0's multi_logloss: 0.158375\n",
      "[55]\tvalid_0's multi_logloss: 0.15794\n",
      "[56]\tvalid_0's multi_logloss: 0.15762\n",
      "[57]\tvalid_0's multi_logloss: 0.157366\n",
      "[58]\tvalid_0's multi_logloss: 0.157031\n",
      "[59]\tvalid_0's multi_logloss: 0.156804\n",
      "[60]\tvalid_0's multi_logloss: 0.156503\n",
      "[61]\tvalid_0's multi_logloss: 0.156245\n",
      "[62]\tvalid_0's multi_logloss: 0.15613\n",
      "[63]\tvalid_0's multi_logloss: 0.156002\n",
      "[64]\tvalid_0's multi_logloss: 0.155829\n",
      "[65]\tvalid_0's multi_logloss: 0.155679\n",
      "[66]\tvalid_0's multi_logloss: 0.155548\n",
      "[67]\tvalid_0's multi_logloss: 0.15542\n",
      "[68]\tvalid_0's multi_logloss: 0.155341\n",
      "[69]\tvalid_0's multi_logloss: 0.155226\n",
      "[70]\tvalid_0's multi_logloss: 0.155185\n",
      "[71]\tvalid_0's multi_logloss: 0.1551\n",
      "[72]\tvalid_0's multi_logloss: 0.15501\n",
      "[73]\tvalid_0's multi_logloss: 0.154891\n",
      "[74]\tvalid_0's multi_logloss: 0.154788\n",
      "[75]\tvalid_0's multi_logloss: 0.154732\n",
      "[76]\tvalid_0's multi_logloss: 0.154703\n",
      "[77]\tvalid_0's multi_logloss: 0.154667\n",
      "[78]\tvalid_0's multi_logloss: 0.154591\n",
      "[79]\tvalid_0's multi_logloss: 0.154562\n",
      "[80]\tvalid_0's multi_logloss: 0.154479\n",
      "[81]\tvalid_0's multi_logloss: 0.154477\n",
      "[82]\tvalid_0's multi_logloss: 0.154384\n",
      "[83]\tvalid_0's multi_logloss: 0.154397\n",
      "[84]\tvalid_0's multi_logloss: 0.154356\n",
      "[85]\tvalid_0's multi_logloss: 0.154374\n",
      "[86]\tvalid_0's multi_logloss: 0.15437\n",
      "[87]\tvalid_0's multi_logloss: 0.15435\n",
      "[88]\tvalid_0's multi_logloss: 0.154345\n",
      "[89]\tvalid_0's multi_logloss: 0.154382\n",
      "[90]\tvalid_0's multi_logloss: 0.154367\n",
      "[91]\tvalid_0's multi_logloss: 0.154335\n",
      "[92]\tvalid_0's multi_logloss: 0.154351\n",
      "[93]\tvalid_0's multi_logloss: 0.154352\n",
      "[94]\tvalid_0's multi_logloss: 0.154319\n",
      "[95]\tvalid_0's multi_logloss: 0.154354\n",
      "[96]\tvalid_0's multi_logloss: 0.154382\n",
      "[97]\tvalid_0's multi_logloss: 0.154388\n",
      "[98]\tvalid_0's multi_logloss: 0.154355\n",
      "[99]\tvalid_0's multi_logloss: 0.154394\n",
      "[100]\tvalid_0's multi_logloss: 0.154441\n",
      "[101]\tvalid_0's multi_logloss: 0.154491\n",
      "[102]\tvalid_0's multi_logloss: 0.154507\n",
      "[103]\tvalid_0's multi_logloss: 0.154548\n",
      "[104]\tvalid_0's multi_logloss: 0.154587\n",
      "Early stopping, best iteration is:\n",
      "[94]\tvalid_0's multi_logloss: 0.154319\n"
     ]
    }
   ],
   "source": [
    "p_val = np.zeros((trn.shape[0], n_class))\n",
    "p_tst = np.zeros((tst.shape[0], n_class))\n",
    "for i, (i_trn, i_val) in enumerate(cv.split(trn, y), 1):\n",
    "    print(f'training model for CV #{i}')\n",
    "    clf = LGBMClassifier(**params)\n",
    "    clf.fit(trn[i_trn], y[i_trn],\n",
    "            eval_set=[(trn[i_val], y[i_val])],\n",
    "            eval_metric='multiclass',\n",
    "            early_stopping_rounds=10)\n",
    "    \n",
    "    p_val[i_val, :] = clf.predict_proba(trn[i_val])\n",
    "    p_tst += clf.predict_proba(tst) / n_fold"
   ]
  },
  {
   "cell_type": "code",
   "execution_count": 33,
   "metadata": {
    "ExecuteTime": {
     "end_time": "2020-10-06T07:09:33.218809Z",
     "start_time": "2020-10-06T07:09:32.438944Z"
    }
   },
   "outputs": [
    {
     "name": "stdout",
     "output_type": "stream",
     "text": [
      "93.4678%\n"
     ]
    }
   ],
   "source": [
    "\n",
    "print(f'{accuracy_score(y, np.argmax(p_val, axis=1)) * 100:.4f}%')"
   ]
  },
  {
   "cell_type": "code",
   "execution_count": 34,
   "metadata": {
    "ExecuteTime": {
     "end_time": "2020-10-06T07:09:35.434253Z",
     "start_time": "2020-10-06T07:09:34.705340Z"
    }
   },
   "outputs": [
    {
     "name": "stdout",
     "output_type": "stream",
     "text": [
      "(320000, 3) (80000, 3)\n"
     ]
    }
   ],
   "source": [
    "print(p_val.shape, p_tst.shape)"
   ]
  },
  {
   "cell_type": "code",
   "execution_count": 35,
   "metadata": {
    "ExecuteTime": {
     "end_time": "2020-10-06T07:09:39.764236Z",
     "start_time": "2020-10-06T07:09:36.102319Z"
    }
   },
   "outputs": [],
   "source": [
    "np.savetxt(p_val_file, p_val, fmt='%.6f', delimiter=',')\n",
    "np.savetxt(p_tst_file, p_tst, fmt='%.6f', delimiter=',')"
   ]
  },
  {
   "cell_type": "code",
   "execution_count": 36,
   "metadata": {
    "ExecuteTime": {
     "end_time": "2020-10-06T07:09:41.754507Z",
     "start_time": "2020-10-06T07:09:40.306917Z"
    }
   },
   "outputs": [
    {
     "data": {
      "text/plain": [
       "<AxesSubplot:ylabel='feature'>"
      ]
     },
     "execution_count": 36,
     "metadata": {},
     "output_type": "execute_result"
    },
    {
     "data": {
      "image/png": "[encoded data removed]",
      "text/plain": [
       "<Figure size 1152x576 with 1 Axes>"
      ]
     },
     "metadata": {},
     "output_type": "display_data"
    }
   ],
   "source": [
    "imp = pd.DataFrame({'feature': df.columns, 'importance': clf.feature_importances_})\n",
    "imp = imp.sort_values('importance').set_index('feature')\n",
    "imp.plot(kind='barh')"
   ]
  },
  {
   "cell_type": "code",
   "execution_count": 37,
   "metadata": {
    "ExecuteTime": {
     "end_time": "2020-10-06T07:09:42.607016Z",
     "start_time": "2020-10-06T07:09:41.760501Z"
    }
   },
   "outputs": [
    {
     "name": "stdout",
     "output_type": "stream",
     "text": [
      "(80000, 1)\n"
     ]
    },
    {
     "data": {
      "text/html": [
       "<div>\n",
       "<style scoped>\n",
       "    .dataframe tbody tr th:only-of-type {\n",
       "        vertical-align: middle;\n",
       "    }\n",
       "\n",
       "    .dataframe tbody tr th {\n",
       "        vertical-align: top;\n",
       "    }\n",
       "\n",
       "    .dataframe thead th {\n",
       "        text-align: right;\n",
       "    }\n",
       "</style>\n",
       "<table border=\"1\" class=\"dataframe\">\n",
       "  <thead>\n",
       "    <tr style=\"text-align: right;\">\n",
       "      <th></th>\n",
       "      <th>class</th>\n",
       "    </tr>\n",
       "    <tr>\n",
       "      <th>id</th>\n",
       "      <th></th>\n",
       "    </tr>\n",
       "  </thead>\n",
       "  <tbody>\n",
       "    <tr>\n",
       "      <th>320000</th>\n",
       "      <td>0</td>\n",
       "    </tr>\n",
       "    <tr>\n",
       "      <th>320001</th>\n",
       "      <td>0</td>\n",
       "    </tr>\n",
       "    <tr>\n",
       "      <th>320002</th>\n",
       "      <td>0</td>\n",
       "    </tr>\n",
       "    <tr>\n",
       "      <th>320003</th>\n",
       "      <td>0</td>\n",
       "    </tr>\n",
       "    <tr>\n",
       "      <th>320004</th>\n",
       "      <td>0</td>\n",
       "    </tr>\n",
       "  </tbody>\n",
       "</table>\n",
       "</div>"
      ],
      "text/plain": [
       "        class\n",
       "id           \n",
       "320000      0\n",
       "320001      0\n",
       "320002      0\n",
       "320003      0\n",
       "320004      0"
      ]
     },
     "execution_count": 37,
     "metadata": {},
     "output_type": "execute_result"
    }
   ],
   "source": [
    "\n",
    "sub = pd.read_csv(sample_file, index_col=0)\n",
    "print(sub.shape)\n",
    "sub.head()"
   ]
  },
  {
   "cell_type": "code",
   "execution_count": 38,
   "metadata": {
    "ExecuteTime": {
     "end_time": "2020-10-06T07:09:44.134617Z",
     "start_time": "2020-10-06T07:09:43.173972Z"
    }
   },
   "outputs": [
    {
     "data": {
      "text/html": [
       "<div>\n",
       "<style scoped>\n",
       "    .dataframe tbody tr th:only-of-type {\n",
       "        vertical-align: middle;\n",
       "    }\n",
       "\n",
       "    .dataframe tbody tr th {\n",
       "        vertical-align: top;\n",
       "    }\n",
       "\n",
       "    .dataframe thead th {\n",
       "        text-align: right;\n",
       "    }\n",
       "</style>\n",
       "<table border=\"1\" class=\"dataframe\">\n",
       "  <thead>\n",
       "    <tr style=\"text-align: right;\">\n",
       "      <th></th>\n",
       "      <th>class</th>\n",
       "    </tr>\n",
       "    <tr>\n",
       "      <th>id</th>\n",
       "      <th></th>\n",
       "    </tr>\n",
       "  </thead>\n",
       "  <tbody>\n",
       "    <tr>\n",
       "      <th>320000</th>\n",
       "      <td>2</td>\n",
       "    </tr>\n",
       "    <tr>\n",
       "      <th>320001</th>\n",
       "      <td>0</td>\n",
       "    </tr>\n",
       "    <tr>\n",
       "      <th>320002</th>\n",
       "      <td>2</td>\n",
       "    </tr>\n",
       "    <tr>\n",
       "      <th>320003</th>\n",
       "      <td>0</td>\n",
       "    </tr>\n",
       "    <tr>\n",
       "      <th>320004</th>\n",
       "      <td>2</td>\n",
       "    </tr>\n",
       "  </tbody>\n",
       "</table>\n",
       "</div>"
      ],
      "text/plain": [
       "        class\n",
       "id           \n",
       "320000      2\n",
       "320001      0\n",
       "320002      2\n",
       "320003      0\n",
       "320004      2"
      ]
     },
     "execution_count": 38,
     "metadata": {},
     "output_type": "execute_result"
    }
   ],
   "source": [
    "sub[target_col] = np.argmax(p_tst, axis=1)\n",
    "sub.head()"
   ]
  },
  {
   "cell_type": "code",
   "execution_count": 39,
   "metadata": {
    "ExecuteTime": {
     "end_time": "2020-10-06T07:09:45.276001Z",
     "start_time": "2020-10-06T07:09:44.537424Z"
    }
   },
   "outputs": [
    {
     "data": {
      "text/plain": [
       "2    40725\n",
       "0    29983\n",
       "1     9292\n",
       "Name: class, dtype: int64"
      ]
     },
     "execution_count": 39,
     "metadata": {},
     "output_type": "execute_result"
    }
   ],
   "source": [
    "\n",
    "sub[target_col].value_counts()"
   ]
  },
  {
   "cell_type": "code",
   "execution_count": 40,
   "metadata": {
    "ExecuteTime": {
     "end_time": "2020-10-06T07:09:46.589009Z",
     "start_time": "2020-10-06T07:09:45.664481Z"
    }
   },
   "outputs": [],
   "source": [
    "\n",
    "sub.to_csv(sub_file)"
   ]
  },
  {
   "cell_type": "code",
   "execution_count": null,
   "metadata": {},
   "outputs": [],
   "source": []
  }
 ],
 "metadata": {
  "kernelspec": {
   "display_name": "Python 3",
   "language": "python",
   "name": "python3"
  },
  "language_info": {
   "codemirror_mode": {
    "name": "ipython",
    "version": 3
   },
   "file_extension": ".py",
   "mimetype": "text/x-python",
   "name": "python",
   "nbconvert_exporter": "python",
   "pygments_lexer": "ipython3",
   "version": "3.7.9"
  }
 },
 "nbformat": 4,
 "nbformat_minor": 4
}
